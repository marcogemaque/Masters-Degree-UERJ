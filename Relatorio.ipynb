{
 "cells": [
  {
   "cell_type": "code",
   "execution_count": 348,
   "id": "03c3507e",
   "metadata": {},
   "outputs": [],
   "source": [
    "import Base.print_matrix\n",
    "import Base.repeat\n",
    "using Dates\n",
    "import Statistics\n",
    "using Printf\n",
    "using Plots\n",
    "using DataFrames\n",
    "import XLSX"
   ]
  },
  {
   "cell_type": "code",
   "execution_count": 228,
   "id": "980c57e1",
   "metadata": {},
   "outputs": [
    {
     "data": {
      "text/plain": [
       "toeplitz (generic function with 1 method)"
      ]
     },
     "execution_count": 228,
     "metadata": {},
     "output_type": "execute_result"
    }
   ],
   "source": [
    "function cauchy(x)\n",
    "#FUNCTION TO CREATE THE CAUCHY MATRIX\n",
    "    empty_array = []\n",
    "    rows = x\n",
    "    for i in 1:x #run through the 15 columns of the matrix\n",
    "        row = []\n",
    "        for j in 1:rows #create the 15 rows of the matrix\n",
    "            if i == j #if main diagonal\n",
    "                a = j+rand(10000:10100)\n",
    "                b = j\n",
    "                append!(row, (a-b))\n",
    "            else\n",
    "                a = j+rand(100:200)\n",
    "                b = j\n",
    "                append!(row, (a-b))\n",
    "            end\n",
    "        end\n",
    "        append!(empty_array, row)\n",
    "    end\n",
    "    empty_array = reshape(empty_array, (x,x))\n",
    "    unknown_vector = [1 for x in 1:x] #vector x with the unknown elements\n",
    "    return empty_array, unknown_vector, empty_array*unknown_vector #returns the matrix, the unknowns vectors (filled with 1) and the solution vector 'b' as Ax=b.\n",
    "end\n",
    "    \n",
    "function hilbert(x)\n",
    "#FUNCTION TO CREATE THE HILBERT MATRIX\n",
    "    empty_array = []\n",
    "    rows = x\n",
    "    for i in 0:(x-1) #run through the 15 columns of the matrix\n",
    "        row = []\n",
    "        for j in 0:(rows-1) #create the 15 rows of the matrix\n",
    "            if i == j #if main diagonal\n",
    "                a = j+rand(10000:10100)\n",
    "                b = j\n",
    "                append!(row, (a-b-1))\n",
    "            else\n",
    "                a = j+rand(100:200)\n",
    "                b = j\n",
    "                append!(row, (a-b-1))\n",
    "            end\n",
    "        end\n",
    "        append!(empty_array, row)\n",
    "    end\n",
    "    empty_array = reshape(empty_array, (x,x))\n",
    "    unknown_vector = [1 for x in 1:x] #vector x with the unknown elements\n",
    "    return empty_array, unknown_vector, empty_array*unknown_vector #returns the matrix, the unknowns vectors (filled with 1) and the solution vector 'b' as Ax=b.\n",
    "end\n",
    "\n",
    "function vandermonde(x)\n",
    "#FUNCTION TO CREATE THE VANDERMONDE MATRIX\n",
    "    empty_array = []\n",
    "    rows = x\n",
    "    for i in 1:x #run through the 15 columns of the matrix\n",
    "        row = []\n",
    "        for j in 1:(rows) #create the 15 rows of the matrix\n",
    "            a = i^(j-1)\n",
    "            append!(row, a)\n",
    "        end\n",
    "        append!(empty_array, row)\n",
    "    end\n",
    "    empty_array = reshape(empty_array, (x,x))\n",
    "    unknown_vector = [1 for x in 1:(x)] #vector x with the unknown elements\n",
    "    return empty_array, unknown_vector, empty_array*unknown_vector #returns the matrix, the unknowns vectors (filled with 1) and the solution vector 'b' as Ax=b.\n",
    "end\n",
    "\n",
    "function toeplitz(x)\n",
    "#FUNCTION TO CREATE THE TOEPLITZ MATRIX\n",
    "    empty_array = [] #matrix array holder\n",
    "    reference_array = [z for z in 1:(x*2-1)] #the 15 elements of the array\n",
    "    for j in 1:x #runs through the columns\n",
    "        row = []\n",
    "        for i in 1:x #runs through the reference_array indexes\n",
    "            if i == j #if main diagonal\n",
    "                a = reference_array[1:1]\n",
    "                append!(row, a)\n",
    "            elseif i > j #if row index greater than column index\n",
    "                a = reference_array[(i+x-1):(i+x-1)]\n",
    "                append!(row, a)\n",
    "            else #if column index is greater than row index\n",
    "                a = reference_array[(j-i+1):(j-i+1)]\n",
    "                append!(row, a)\n",
    "            end\n",
    "        end\n",
    "        append!(empty_array, row)\n",
    "    end\n",
    "    empty_array = reshape(empty_array, (x,x))\n",
    "    unknown_vector = [1 for x in 1:x] #vector x with the unknown elements\n",
    "    return empty_array, unknown_vector, empty_array*unknown_vector #returns the matrix, the unknowns vectors (filled with 1) and the solution vector 'b' as Ax=b.\n",
    "end"
   ]
  },
  {
   "cell_type": "code",
   "execution_count": 3,
   "id": "99546c66",
   "metadata": {},
   "outputs": [
    {
     "data": {
      "text/plain": [
       "gauss_elimination (generic function with 1 method)"
      ]
     },
     "execution_count": 3,
     "metadata": {},
     "output_type": "execute_result"
    }
   ],
   "source": [
    "function gauss_elimination(x,u,b) #the matrix, the unkown vectors (filled with 1) and the b solution vector expected\n",
    "    #FUNCTION TO SOLVE A SYSTEM BY THE GAUSS ELIMINATION PROCESS\n",
    "    #the input variable 'x' is the matrix object\n",
    "    #the input variable 'b' is the solution vector\n",
    "    x = hcat(x,b)\n",
    "    columns_size = size(x)[2] #get the number of columns on the matrix object\n",
    "    #first we get the pivot element\n",
    "    for i in 2:(columns_size-1) #run for the n number of columns\n",
    "        for z in 1:(i-1) #col1 - col2; col1-col3 and col2 - col3 and so on...\n",
    "            PIVOT = real(x[i:i,z:z])\n",
    "            for j in 1:columns_size #run through all the columns\n",
    "                x[i:i,j:j] = x[i:i,j:j] - PIVOT*real(x[z:z,j:j])/real(x[z:z,z:z])\n",
    "            end\n",
    "        end\n",
    "    end\n",
    "    x = real(x)\n",
    "    real_matrix = x[1:(columns_size-1), 1:(columns_size-1)]\n",
    "    solution = x[1:(columns_size-1),columns_size:columns_size]\n",
    "    unknown_vector = real_matrix\\solution #calculate the x vector from the equation Ax=b.\n",
    "    return unknown_vector, u\n",
    "end"
   ]
  },
  {
   "cell_type": "code",
   "execution_count": 234,
   "id": "6eca698f",
   "metadata": {},
   "outputs": [
    {
     "data": {
      "text/plain": [
       "LU_Factorization (generic function with 1 method)"
      ]
     },
     "execution_count": 234,
     "metadata": {},
     "output_type": "execute_result"
    }
   ],
   "source": [
    "function LU_Factorization(x,u,b)\n",
    "    #FUNCTION TO SOLVE A SYSTEM BY USING THE LU FACTORIZATION METHOD\n",
    "    #The input variable x is the input matrix\n",
    "    #The input variable u is the unkowns ('x') vector from Ax=b\n",
    "    #The input variable b is the solution vector\n",
    "    \n",
    "    #print the matrix\n",
    "    #print_matrix(stdout, x) #COMMENTED OUT\n",
    "    \n",
    "    #This section of code is to create the L matrix\n",
    "    columns_size = size(x)[2]\n",
    "    matrix_l = zeros((columns_size,columns_size))\n",
    "    for i in 1:columns_size\n",
    "        for j in 1:columns_size\n",
    "            if i == j\n",
    "                matrix_l[i:i,i:i] .= 1 #dot operator on the matrix\n",
    "            end\n",
    "        end\n",
    "    end\n",
    "    #end of section\n",
    "    \n",
    "    #This section is dedicated to the gaussian elimination process\n",
    "    columns_size = size(x)[2] #get the number of columns on the matrix object\n",
    "    #first we get the pivot element\n",
    "    for i in 2:(columns_size) #run for the n number of columns\n",
    "        for z in 1:(i-1) #col1 - col2; col1-col3 and col2 - col3 and so on...\n",
    "            PIVOT = real(x[i:i,z:z])\n",
    "            matrix_l[i:i,z:z] = real(x[i:i,z:z])/real(x[z:z,z:z])\n",
    "            for j in 1:columns_size #run through all the columns\n",
    "                x[i:i,j:j] = x[i:i,j:j] - PIVOT*real(x[z:z,j:j])/real(x[z:z,z:z])\n",
    "            end\n",
    "        end\n",
    "    end\n",
    "    #end of section\n",
    "    \n",
    "    #Create the U matrix\n",
    "    matrix_u = copy(x)\n",
    "    \n",
    "    #Now we calculate the unkown Y vector from the equation LY=b\n",
    "    matrix_l = real(matrix_l)\n",
    "    b = real(b)\n",
    "    unkown_vector_y = matrix_l\\b\n",
    "    \n",
    "    #Now we calculate the unkown vector x from the equation Ux=Y\n",
    "    matrix_u = real(matrix_u)\n",
    "    unkown_vector_y = real(unkown_vector_y)\n",
    "    unkown_vector_x = matrix_u\\unkown_vector_y\n",
    "    \n",
    "    #Reshape the elements into matrix\n",
    "    unkown_vector_x = reshape(unkown_vector_x, length(unkown_vector_x),1)\n",
    "    u = reshape(u, length(u), 1)\n",
    "    \n",
    "    #Finally we return the calculated x vector and the original x vector\n",
    "    return unkown_vector_x, u\n",
    "end"
   ]
  },
  {
   "cell_type": "code",
   "execution_count": 242,
   "id": "75f065ed",
   "metadata": {},
   "outputs": [
    {
     "data": {
      "text/plain": [
       "gauss_jordan_elimination (generic function with 1 method)"
      ]
     },
     "execution_count": 242,
     "metadata": {},
     "output_type": "execute_result"
    }
   ],
   "source": [
    "function gauss_jordan_elimination(x,u,b)\n",
    "    #FUNCTION CREATED TO SOLVE A SYSTEM BY THE GAUSS-JORDAN METHOD\n",
    "    #The input variable x is the input matrix\n",
    "    #The input variable u is the unkowns ('x') vector from Ax=b\n",
    "    #The input variable b is the solution vector\n",
    "    \n",
    "    #Augmented matrix format\n",
    "    x = hcat(x,b)\n",
    "    \n",
    "    #This section is dedicated to the gauss-jordan elimination process to build the lower triangular matrix\n",
    "    columns_size = size(x)[2] #get the number of columns on the matrix object\n",
    "    #first we get the pivot element\n",
    "    for i in 2:(columns_size-1) #run for the n number of columns\n",
    "        for z in 1:(i-1) #col1 - col2; col1-col3 and col2 - col3 and so on...\n",
    "            PIVOT = real(x[i:i,z:z])\n",
    "            for j in 1:columns_size #run through all the columns\n",
    "                x[i:i,j:j] = x[i:i,j:j] - PIVOT*real(x[z:z,j:j])/real(x[z:z,z:z])\n",
    "            end\n",
    "        end\n",
    "    end\n",
    "    \n",
    "    #This section is dedicated to the gauss-jordan elimination process to build the upper triangular matrix\n",
    "    row_size = size(x)[1] #get the number of columns on the matrix object\n",
    "    #first we get the pivot element\n",
    "    for i in (row_size-1):-1:1 #run for the n number of columns from the last to the first one\n",
    "        for z in row_size:-1:(i+1) #col1 - col2; col1-col3 and col2 - col3 and so on...\n",
    "            PIVOT = real(x[i:i,z:z])[1]\n",
    "            for j in columns_size:-1:(z) #run through all the columns\n",
    "                x[i:i,j:j] = x[i:i,j:j] - PIVOT*real(x[z:z,j:j])/real(x[z:z,z:z])\n",
    "            end\n",
    "        end\n",
    "    end\n",
    "    #end of section\n",
    "    \n",
    "    #reshape vector u\n",
    "    u = reshape(u, length(u), 1)\n",
    "    b = reshape(b, length(b), 1)\n",
    "    new_b = real(x[1:row_size,columns_size:columns_size])\n",
    "    x = real(x[1:row_size,1:row_size])\n",
    "    \n",
    "    #Create the modified unknown vectors\n",
    "    unkown_vector_x = x\\new_b\n",
    "    \n",
    "    #Reshape the elements into matrix\n",
    "    unkown_vector_x = reshape(unkown_vector_x, length(unkown_vector_x),1)\n",
    "    \n",
    "    #return the calculated unkown vector and the expected one\n",
    "    return unkown_vector_x, u\n",
    "end"
   ]
  },
  {
   "cell_type": "code",
   "execution_count": 342,
   "id": "fc4e9369",
   "metadata": {},
   "outputs": [
    {
     "data": {
      "text/plain": [
       "jacobi_elimination (generic function with 1 method)"
      ]
     },
     "execution_count": 342,
     "metadata": {},
     "output_type": "execute_result"
    }
   ],
   "source": [
    "function jacobi_elimination(x,u,b)\n",
    "    #FUNCTION CREATED TO IMPLEMENT GAUSS-SEIDEL ELIMINATION METHOD\n",
    "    #The input variable x is the input matrix\n",
    "    #The input variable u is the unkowns ('x') vector from Ax=b\n",
    "    #The input variable b is the solution vector\n",
    "    \n",
    "    #print the matrix\n",
    "    #print_matrix(stdout, hcat(x,b)) #COMMENTED OUT\n",
    "    \n",
    "    #row size\n",
    "    row_size = size(x)[1]\n",
    "    \n",
    "    #col size\n",
    "    col_size = size(x)[2]\n",
    "    \n",
    "    #create the error array to hold the differences between the previous parameteres and the new ones\n",
    "    error_array = []\n",
    "    \n",
    "    #create the jacobi 'x' vector with all values equal to 0, in the format Ax=b\n",
    "    jacobi_x_vector = []\n",
    "    for i in 1:row_size\n",
    "        append!(jacobi_x_vector, 0) #all elements at first are 0\n",
    "    end\n",
    "    #reshape it\n",
    "    jacobi_x_vector = reshape(jacobi_x_vector, row_size,1)\n",
    "    \n",
    "    #create the jacobi 'b' vector, where we store the result of each equation solving iteration\n",
    "    jacobi_b_vector = []\n",
    "    for i in 1:row_size\n",
    "        append!(jacobi_b_vector, 0) #all elements at first are 0\n",
    "    end\n",
    "    #reshape it\n",
    "    jacobi_b_vector = reshape(jacobi_b_vector, row_size,1)\n",
    "    \n",
    "    #establish a threshold to stop the iteration\n",
    "    threshold = 0.0001 #if less than 0.001 then accept the result, else keep going\n",
    "    iteration = 0\n",
    "    error = 99\n",
    "    iteration_limit = 500\n",
    "    for i in 1:iteration_limit\n",
    "        for j in 1:row_size #iterate through all the rows\n",
    "            matrix_pivot = x[j:j,j:j][1] #get the main diagonal element which we will be dividing later on for\n",
    "            x[j:j,1:col_size] = -x[j:j,1:col_size] #if you pass the variables to the other side, change their signal\n",
    "            x[j:j,j:j] .= b[j:j,1:1] #turn it to b because we will be dividing the matrix_pivot element from above at the solution vector\n",
    "            loop_x_vector = copy(jacobi_x_vector) #an internal copy of the original jacobi_x_vector containing x0,y0,z0 and all for the loop so we can change its values\n",
    "            keep_value = loop_x_vector[j:j,1,1][1] #get the element of the row which we are currently iterating through\n",
    "            loop_x_vector[j:j,1,1] .= 1 #change that element's value to 1, since we will not be using it in the equation solving part\n",
    "            jacobi_b_vector[j:j,1:1] = (x[j:j,1:col_size]*loop_x_vector[1:row_size,1:1])/matrix_pivot #add the calculated value of the equation the a 'b' vector which will hold our answers\n",
    "            loop_x_vector[j:j,1,1] .= keep_value #return that vector's original value to what it was so it can be used in the next iteration\n",
    "            x[j:j,1:col_size] = -x[j:j,1:col_size] #change it back to normal\n",
    "            x[j:j,j:j] .= matrix_pivot #return the matrix main diagonal element for that row to what it was so it can be used in the next iteration\n",
    "        end\n",
    "        error_array = jacobi_x_vector - jacobi_b_vector\n",
    "        error_array = broadcast(abs, error_array)\n",
    "        error = maximum(error_array)\n",
    "        jacobi_x_vector = copy(jacobi_b_vector)\n",
    "        if error<=threshold\n",
    "            iteration = i\n",
    "            print(iteration)\n",
    "            break\n",
    "        end\n",
    "    end\n",
    "    \n",
    "    #return the vectors\n",
    "    return jacobi_x_vector, u\n",
    "end"
   ]
  },
  {
   "cell_type": "code",
   "execution_count": 345,
   "id": "e40ebb5f",
   "metadata": {},
   "outputs": [
    {
     "data": {
      "text/plain": [
       "gauss_seidel_elimination (generic function with 1 method)"
      ]
     },
     "execution_count": 345,
     "metadata": {},
     "output_type": "execute_result"
    }
   ],
   "source": [
    "function gauss_seidel_elimination(x,u,b)\n",
    "    #FUNCTION CREATED TO IMPLEMENT GAUSS-SEIDEL ELIMINATION METHOD\n",
    "    #The input variable x is the input matrix\n",
    "    #The input variable u is the unkowns ('x') vector from Ax=b\n",
    "    #The input variable b is the solution vector\n",
    "    \n",
    "    #print the matrix\n",
    "    #print_matrix(stdout, hcat(x,b)) #COMMENTED OUT\n",
    "    #println(\"\")\n",
    "    \n",
    "    #row size\n",
    "    row_size = size(x)[1]\n",
    "    \n",
    "    #col size\n",
    "    col_size = size(x)[2]\n",
    "    \n",
    "    #create the error array to hold the differences between the previous parameteres and the new ones\n",
    "    error_array = []\n",
    "    \n",
    "    #create the jacobi 'x' vector with all values equal to 0, in the format Ax=b\n",
    "    jacobi_x_vector = []\n",
    "    for i in 1:row_size\n",
    "        append!(jacobi_x_vector, 0) #all elements at first are 0\n",
    "    end\n",
    "    #reshape it\n",
    "    jacobi_x_vector = reshape(jacobi_x_vector, row_size,1)\n",
    "    \n",
    "    #create the jacobi 'b' vector, where we store the result of each equation solving iteration\n",
    "    jacobi_b_vector = []\n",
    "    for i in 1:row_size\n",
    "        append!(jacobi_b_vector, 0) #all elements at first are 0\n",
    "    end\n",
    "    #reshape it\n",
    "    jacobi_b_vector = reshape(jacobi_b_vector, row_size,1)\n",
    "    \n",
    "    #establish a threshold to stop the iteration\n",
    "    threshold = 0.0001 #if less than 0.001 then accept the result, else keep going\n",
    "    iteration = 0\n",
    "    error = 99\n",
    "    iteration_limit = 500\n",
    "    for i in 1:iteration_limit\n",
    "        original_jacobi_x_vector = copy(jacobi_x_vector)\n",
    "        for i in 1:row_size #iterate through all the rows\n",
    "            matrix_pivot = x[i:i,i:i][1] #get the main diagonal element which we will be dividing later on for\n",
    "            x[i:i,1:col_size] = -x[i:i,1:col_size] #if you pass the variables to the other side, change their signal\n",
    "            x[i:i,i:i] .= b[i:i,1:1] #turn it to b because we will be dividing the matrix_pivot element from above at the solution vector\n",
    "            loop_x_vector = copy(jacobi_x_vector) #an internal copy of the original jacobi_x_vector containing x0,y0,z0 and all for the loop so we can change its values\n",
    "            keep_value = loop_x_vector[i:i,1,1][1] #get the element of the row which we are currently iterating through\n",
    "            loop_x_vector[i:i,1,1] .= 1 #change that element's value to 1, since we will not be using it in the equation solving part\n",
    "            jacobi_b_vector[i:i,1:1] = (x[i:i,1:col_size]*loop_x_vector[1:row_size,1:1])/matrix_pivot #add the calculated value of the equation the a 'b' vector which will hold our answers\n",
    "            loop_x_vector[i:i,1,1] .= keep_value #return that vector's original value to what it was so it can be used in the next iteration\n",
    "            jacobi_x_vector[i:i,1:1] .= jacobi_b_vector[i:i,1:1]\n",
    "            x[i:i,1:col_size] = -x[i:i,1:col_size] #change it back to normal\n",
    "            x[i:i,i:i] .= matrix_pivot #return the matrix main diagonal element for that row to what it was so it can be used in the next iteration\n",
    "        end\n",
    "        error_array = jacobi_b_vector - original_jacobi_x_vector\n",
    "        error_array = broadcast(abs, error_array)\n",
    "        error = maximum(error_array)\n",
    "        if error<=threshold\n",
    "            iteration = i\n",
    "            print(iteration)\n",
    "            break\n",
    "        end\n",
    "        jacobi_x_vector = jacobi_b_vector\n",
    "    end\n",
    "    \n",
    "    #return the vectors\n",
    "    return jacobi_x_vector, u\n",
    "end"
   ]
  },
  {
   "cell_type": "code",
   "execution_count": 245,
   "id": "5072d603",
   "metadata": {},
   "outputs": [
    {
     "data": {
      "text/plain": [
       "mean_squared_error (generic function with 1 method)"
      ]
     },
     "execution_count": 245,
     "metadata": {},
     "output_type": "execute_result"
    }
   ],
   "source": [
    "function mean_squared_error(x,u)\n",
    "    #FUNCTION TO CALCULATE THE MEAN SQUARED ERROR OF TWO VECTORS ITEM BY ITEM\n",
    "    error = 0 #empty element to accumulate sum\n",
    "    col_size = size(x)[2] #size column for the iterations\n",
    "    for i in 1:size(x)[1] #loop from 1 to last row\n",
    "        error += (u[i:i,1:1][1] - x[i:i,1:1][1])^2 #keep adding the difference between elements\n",
    "    end\n",
    "    error = error/size(x)[1]\n",
    "    return error\n",
    "end"
   ]
  },
  {
   "cell_type": "code",
   "execution_count": 246,
   "id": "83d62ce5",
   "metadata": {},
   "outputs": [
    {
     "data": {
      "text/plain": [
       "4-element Vector{Tuple{Matrix{Any}, Vector{Int64}, Vector{Any}}}:\n",
       " ([10004 105 … 139 136; 195 10092 … 142 195; … ; 179 177 … 10099 145; 130 198 … 180 10100], [1, 1, 1, 1, 1, 1, 1, 1, 1, 1, 1, 1, 1, 1, 1], [12036, 12303, 12033, 12286, 12125, 12131, 12112, 12256, 12233, 12245, 12214, 12163, 12203, 12251, 12252])\n",
       " ([10007 114 … 145 157; 167 10027 … 192 121; … ; 180 150 … 10061 153; 198 194 … 154 10024], [1, 1, 1, 1, 1, 1, 1, 1, 1, 1, 1, 1, 1, 1, 1], [12180, 12252, 12230, 12141, 12115, 11976, 12305, 12254, 12096, 12055, 11966, 12102, 12077, 12164, 12186])\n",
       " ([1 1 … 1 1; 1 2 … 14 15; … ; 1 8192 … 793714773254144 1946195068359375; 1 16384 … 11112006825558016 29192926025390625], [1, 1, 1, 1, 1, 1, 1, 1, 1, 1, 1, 1, 1, 1, 1], [15, 120, 1240, 14400, 178312, 2299200, 30482920, 412420800, 5666482312, 78800938560, 1106532668200, 15662165784000, 223160292749512, 3197503726489920, 46034015337733480])\n",
       " ([1 2 … 14 15; 16 1 … 13 14; … ; 28 28 … 1 2; 29 29 … 29 1], [1, 1, 1, 1, 1, 1, 1, 1, 1, 1, 1, 1, 1, 1, 1], [120, 121, 125, 132, 142, 155, 171, 190, 212, 237, 265, 296, 330, 367, 407])"
      ]
     },
     "execution_count": 246,
     "metadata": {},
     "output_type": "execute_result"
    }
   ],
   "source": [
    "matrix_array = [cauchy(15), hilbert(15), vandermonde(15), toeplitz(15)]"
   ]
  },
  {
   "cell_type": "code",
   "execution_count": 133,
   "id": "9495134e",
   "metadata": {},
   "outputs": [
    {
     "data": {
      "text/plain": [
       "4-element Vector{Any}:\n",
       " 0.007876035999999998\n",
       " 0.007414246\n",
       " 0.007316743999999999\n",
       " 0.007466406000000001"
      ]
     },
     "execution_count": 133,
     "metadata": {},
     "output_type": "execute_result"
    }
   ],
   "source": [
    "function get_running_time_gauss_elimination(matrixes)\n",
    "    #FUNCTION TO GET THE RUNNING TIME OF EACH ALGORITHM\n",
    "    running_time = []\n",
    "    for matrix in matrixes\n",
    "        _inner_time_list = []\n",
    "        for i in 1:50\n",
    "            run_function = @timed gauss_elimination(matrix[1],matrix[2],matrix[3])\n",
    "            run_function = run_function[2]\n",
    "            append!(_inner_time_list, run_function)\n",
    "        end\n",
    "        time = Statistics.mean(_inner_time_list)\n",
    "        append!(running_time, time)\n",
    "    end\n",
    "    return running_time\n",
    "end\n",
    "\n",
    "gauss_elimination_time = get_running_time_gauss_elimination(matrix_array)"
   ]
  },
  {
   "cell_type": "code",
   "execution_count": 134,
   "id": "1a782581",
   "metadata": {},
   "outputs": [
    {
     "data": {
      "text/plain": [
       "4-element Vector{Any}:\n",
       " 0.007711167999999998\n",
       " 0.007432881999999998\n",
       " 0.007295256000000001\n",
       " 0.007473948000000001"
      ]
     },
     "execution_count": 134,
     "metadata": {},
     "output_type": "execute_result"
    }
   ],
   "source": [
    "function get_running_time_lu(matrixes)\n",
    "    #FUNCTION TO GET THE RUNNING TIME OF EACH ALGORITHM\n",
    "    running_time = []\n",
    "    for matrix in matrixes\n",
    "        _inner_time_list = []\n",
    "        for i in 1:50\n",
    "            run_function = @timed LU_factorization(matrix[1],matrix[2],matrix[3])\n",
    "            run_function = run_function[2]\n",
    "            append!(_inner_time_list, run_function)\n",
    "        end\n",
    "        time = Statistics.mean(_inner_time_list)\n",
    "        append!(running_time, time)\n",
    "    end\n",
    "    return running_time\n",
    "end\n",
    "\n",
    "lu_decomposition_time = get_running_time_gauss_elimination(matrix_array)"
   ]
  },
  {
   "cell_type": "code",
   "execution_count": 137,
   "id": "cfe545fa",
   "metadata": {},
   "outputs": [
    {
     "data": {
      "text/plain": [
       "4-element Vector{Any}:\n",
       " 0.014641993999999993\n",
       " 0.010549778000000001\n",
       " 0.010627282\n",
       " 0.010206056000000002"
      ]
     },
     "execution_count": 137,
     "metadata": {},
     "output_type": "execute_result"
    }
   ],
   "source": [
    "function get_running_time_gauss_jordan(matrixes)\n",
    "    #FUNCTION TO GET THE RUNNING TIME OF EACH ALGORITHM\n",
    "    running_time = []\n",
    "    for matrix in matrixes\n",
    "        _inner_time_list = []\n",
    "        for i in 1:50\n",
    "            run_function = @timed gauss_jordan_elimination(matrix[1],matrix[2],matrix[3])\n",
    "            run_function = run_function[2]\n",
    "            append!(_inner_time_list, run_function)\n",
    "        end\n",
    "        time = Statistics.mean(_inner_time_list)\n",
    "        append!(running_time, time)\n",
    "    end\n",
    "    return running_time\n",
    "end\n",
    "\n",
    "gauss_jordan_time = get_running_time_gauss_jordan(matrix_array)"
   ]
  },
  {
   "cell_type": "code",
   "execution_count": 143,
   "id": "0c2cf441",
   "metadata": {},
   "outputs": [
    {
     "data": {
      "text/plain": [
       "4-element Vector{Any}:\n",
       " 0.001333954\n",
       " 0.0012631079999999998\n",
       " 0.08554167400000004\n",
       " 0.08089419000000002"
      ]
     },
     "execution_count": 143,
     "metadata": {},
     "output_type": "execute_result"
    }
   ],
   "source": [
    "function get_running_time_jacobi(matrixes)\n",
    "    #FUNCTION TO GET THE RUNNING TIME OF EACH ALGORITHM\n",
    "    running_time = []\n",
    "    for matrix in matrixes\n",
    "        _inner_time_list = []\n",
    "        for i in 1:50\n",
    "            run_function = @timed jacobi_elimination(matrix[1],matrix[2],matrix[3])\n",
    "            run_function = run_function[2]\n",
    "            append!(_inner_time_list, run_function)\n",
    "        end\n",
    "        time = Statistics.mean(_inner_time_list)\n",
    "        append!(running_time, time)\n",
    "    end\n",
    "    return running_time\n",
    "end\n",
    "\n",
    "jacobi_time = get_running_time_jacobi(matrix_array)"
   ]
  },
  {
   "cell_type": "code",
   "execution_count": 144,
   "id": "3f337171",
   "metadata": {},
   "outputs": [
    {
     "data": {
      "text/plain": [
       "4-element Vector{Any}:\n",
       " 0.0008972399999999999\n",
       " 0.0007926199999999998\n",
       " 0.08341021\n",
       " 0.078825892"
      ]
     },
     "execution_count": 144,
     "metadata": {},
     "output_type": "execute_result"
    }
   ],
   "source": [
    "function get_running_time_gauss_seidel(matrixes)\n",
    "    #FUNCTION TO GET THE RUNNING TIME OF EACH ALGORITHM\n",
    "    running_time = []\n",
    "    for matrix in matrixes\n",
    "        _inner_time_list = []\n",
    "        for i in 1:50\n",
    "            run_function = @timed gauss_seidel_elimination(matrix[1],matrix[2],matrix[3])\n",
    "            run_function = run_function[2]\n",
    "            append!(_inner_time_list, run_function)\n",
    "        end\n",
    "        time = Statistics.mean(_inner_time_list)\n",
    "        append!(running_time, time)\n",
    "    end\n",
    "    return running_time\n",
    "end\n",
    "\n",
    "gauss_seidel_time = get_running_time_gauss_seidel(matrix_array)"
   ]
  },
  {
   "cell_type": "code",
   "execution_count": 187,
   "id": "94fba559",
   "metadata": {},
   "outputs": [
    {
     "data": {
      "image/svg+xml": [
       "<?xml version=\"1.0\" encoding=\"utf-8\"?>\n",
       "<svg xmlns=\"http://www.w3.org/2000/svg\" xmlns:xlink=\"http://www.w3.org/1999/xlink\" width=\"600\" height=\"400\" viewBox=\"0 0 2400 1600\">\n",
       "<defs>\n",
       "  <clipPath id=\"clip140\">\n",
       "    <rect x=\"0\" y=\"0\" width=\"2400\" height=\"1600\"/>\n",
       "  </clipPath>\n",
       "</defs>\n",
       "<path clip-path=\"url(#clip140)\" d=\"\n",
       "M0 1600 L2400 1600 L2400 0 L0 0  Z\n",
       "  \" fill=\"#ffffff\" fill-rule=\"evenodd\" fill-opacity=\"1\"/>\n",
       "<defs>\n",
       "  <clipPath id=\"clip141\">\n",
       "    <rect x=\"480\" y=\"0\" width=\"1681\" height=\"1600\"/>\n",
       "  </clipPath>\n",
       "</defs>\n",
       "<path clip-path=\"url(#clip140)\" d=\"\n",
       "M186.76 1486.45 L2352.76 1486.45 L2352.76 123.472 L186.76 123.472  Z\n",
       "  \" fill=\"#ffffff\" fill-rule=\"evenodd\" fill-opacity=\"1\"/>\n",
       "<defs>\n",
       "  <clipPath id=\"clip142\">\n",
       "    <rect x=\"186\" y=\"123\" width=\"2167\" height=\"1364\"/>\n",
       "  </clipPath>\n",
       "</defs>\n",
       "<polyline clip-path=\"url(#clip142)\" style=\"stroke:#000000; stroke-width:2; stroke-opacity:0.1; fill:none\" points=\"\n",
       "  248.062,1486.45 248.062,123.472 \n",
       "  \"/>\n",
       "<polyline clip-path=\"url(#clip142)\" style=\"stroke:#000000; stroke-width:2; stroke-opacity:0.1; fill:none\" points=\"\n",
       "  929.193,1486.45 929.193,123.472 \n",
       "  \"/>\n",
       "<polyline clip-path=\"url(#clip142)\" style=\"stroke:#000000; stroke-width:2; stroke-opacity:0.1; fill:none\" points=\"\n",
       "  1610.32,1486.45 1610.32,123.472 \n",
       "  \"/>\n",
       "<polyline clip-path=\"url(#clip142)\" style=\"stroke:#000000; stroke-width:2; stroke-opacity:0.1; fill:none\" points=\"\n",
       "  2291.45,1486.45 2291.45,123.472 \n",
       "  \"/>\n",
       "<polyline clip-path=\"url(#clip140)\" style=\"stroke:#000000; stroke-width:4; stroke-opacity:1; fill:none\" points=\"\n",
       "  186.76,1486.45 2352.76,1486.45 \n",
       "  \"/>\n",
       "<polyline clip-path=\"url(#clip140)\" style=\"stroke:#000000; stroke-width:4; stroke-opacity:1; fill:none\" points=\"\n",
       "  248.062,1486.45 248.062,1470.09 \n",
       "  \"/>\n",
       "<polyline clip-path=\"url(#clip140)\" style=\"stroke:#000000; stroke-width:4; stroke-opacity:1; fill:none\" points=\"\n",
       "  929.193,1486.45 929.193,1470.09 \n",
       "  \"/>\n",
       "<polyline clip-path=\"url(#clip140)\" style=\"stroke:#000000; stroke-width:4; stroke-opacity:1; fill:none\" points=\"\n",
       "  1610.32,1486.45 1610.32,1470.09 \n",
       "  \"/>\n",
       "<polyline clip-path=\"url(#clip140)\" style=\"stroke:#000000; stroke-width:4; stroke-opacity:1; fill:none\" points=\"\n",
       "  2291.45,1486.45 2291.45,1470.09 \n",
       "  \"/>\n",
       "<path clip-path=\"url(#clip140)\" d=\"M 0 0 M238.444 1543.18 L246.083 1543.18 L246.083 1516.82 L237.773 1518.49 L237.773 1514.23 L246.036 1512.56 L250.712 1512.56 L250.712 1543.18 L258.351 1543.18 L258.351 1547.12 L238.444 1547.12 L238.444 1543.18 Z\" fill=\"#000000\" fill-rule=\"evenodd\" fill-opacity=\"1\" /><path clip-path=\"url(#clip140)\" d=\"M 0 0 M923.845 1543.18 L940.165 1543.18 L940.165 1547.12 L918.22 1547.12 L918.22 1543.18 Q920.882 1540.43 925.466 1535.8 Q930.072 1531.15 931.253 1529.81 Q933.498 1527.28 934.378 1525.55 Q935.281 1523.79 935.281 1522.1 Q935.281 1519.34 933.336 1517.61 Q931.415 1515.87 928.313 1515.87 Q926.114 1515.87 923.66 1516.63 Q921.23 1517.4 918.452 1518.95 L918.452 1514.23 Q921.276 1513.09 923.73 1512.51 Q926.183 1511.93 928.22 1511.93 Q933.591 1511.93 936.785 1514.62 Q939.98 1517.31 939.98 1521.8 Q939.98 1523.93 939.169 1525.85 Q938.382 1527.74 936.276 1530.34 Q935.697 1531.01 932.595 1534.23 Q929.494 1537.42 923.845 1543.18 Z\" fill=\"#000000\" fill-rule=\"evenodd\" fill-opacity=\"1\" /><path clip-path=\"url(#clip140)\" d=\"M 0 0 M1614.57 1528.49 Q1617.93 1529.2 1619.8 1531.47 Q1621.7 1533.74 1621.7 1537.07 Q1621.7 1542.19 1618.18 1544.99 Q1614.66 1547.79 1608.18 1547.79 Q1606.01 1547.79 1603.69 1547.35 Q1601.4 1546.93 1598.95 1546.08 L1598.95 1541.56 Q1600.89 1542.7 1603.21 1543.28 Q1605.52 1543.86 1608.04 1543.86 Q1612.44 1543.86 1614.73 1542.12 Q1617.05 1540.38 1617.05 1537.07 Q1617.05 1534.02 1614.9 1532.31 Q1612.77 1530.57 1608.95 1530.57 L1604.92 1530.57 L1604.92 1526.73 L1609.13 1526.73 Q1612.58 1526.73 1614.41 1525.36 Q1616.24 1523.97 1616.24 1521.38 Q1616.24 1518.72 1614.34 1517.31 Q1612.46 1515.87 1608.95 1515.87 Q1607.02 1515.87 1604.83 1516.29 Q1602.63 1516.7 1599.99 1517.58 L1599.99 1513.42 Q1602.65 1512.68 1604.96 1512.31 Q1607.3 1511.93 1609.36 1511.93 Q1614.69 1511.93 1617.79 1514.37 Q1620.89 1516.77 1620.89 1520.89 Q1620.89 1523.76 1619.25 1525.75 Q1617.6 1527.72 1614.57 1528.49 Z\" fill=\"#000000\" fill-rule=\"evenodd\" fill-opacity=\"1\" /><path clip-path=\"url(#clip140)\" d=\"M 0 0 M2294.46 1516.63 L2282.66 1535.08 L2294.46 1535.08 L2294.46 1516.63 M2293.24 1512.56 L2299.12 1512.56 L2299.12 1535.08 L2304.05 1535.08 L2304.05 1538.97 L2299.12 1538.97 L2299.12 1547.12 L2294.46 1547.12 L2294.46 1538.97 L2278.86 1538.97 L2278.86 1534.46 L2293.24 1512.56 Z\" fill=\"#000000\" fill-rule=\"evenodd\" fill-opacity=\"1\" /><polyline clip-path=\"url(#clip142)\" style=\"stroke:#000000; stroke-width:2; stroke-opacity:0.1; fill:none\" points=\"\n",
       "  186.76,1459.9 2352.76,1459.9 \n",
       "  \"/>\n",
       "<polyline clip-path=\"url(#clip142)\" style=\"stroke:#000000; stroke-width:2; stroke-opacity:0.1; fill:none\" points=\"\n",
       "  186.76,1156.46 2352.76,1156.46 \n",
       "  \"/>\n",
       "<polyline clip-path=\"url(#clip142)\" style=\"stroke:#000000; stroke-width:2; stroke-opacity:0.1; fill:none\" points=\"\n",
       "  186.76,853.012 2352.76,853.012 \n",
       "  \"/>\n",
       "<polyline clip-path=\"url(#clip142)\" style=\"stroke:#000000; stroke-width:2; stroke-opacity:0.1; fill:none\" points=\"\n",
       "  186.76,549.569 2352.76,549.569 \n",
       "  \"/>\n",
       "<polyline clip-path=\"url(#clip142)\" style=\"stroke:#000000; stroke-width:2; stroke-opacity:0.1; fill:none\" points=\"\n",
       "  186.76,246.126 2352.76,246.126 \n",
       "  \"/>\n",
       "<polyline clip-path=\"url(#clip140)\" style=\"stroke:#000000; stroke-width:4; stroke-opacity:1; fill:none\" points=\"\n",
       "  186.76,1486.45 186.76,123.472 \n",
       "  \"/>\n",
       "<polyline clip-path=\"url(#clip140)\" style=\"stroke:#000000; stroke-width:4; stroke-opacity:1; fill:none\" points=\"\n",
       "  186.76,1459.9 212.752,1459.9 \n",
       "  \"/>\n",
       "<polyline clip-path=\"url(#clip140)\" style=\"stroke:#000000; stroke-width:4; stroke-opacity:1; fill:none\" points=\"\n",
       "  186.76,1156.46 212.752,1156.46 \n",
       "  \"/>\n",
       "<polyline clip-path=\"url(#clip140)\" style=\"stroke:#000000; stroke-width:4; stroke-opacity:1; fill:none\" points=\"\n",
       "  186.76,853.012 212.752,853.012 \n",
       "  \"/>\n",
       "<polyline clip-path=\"url(#clip140)\" style=\"stroke:#000000; stroke-width:4; stroke-opacity:1; fill:none\" points=\"\n",
       "  186.76,549.569 212.752,549.569 \n",
       "  \"/>\n",
       "<polyline clip-path=\"url(#clip140)\" style=\"stroke:#000000; stroke-width:4; stroke-opacity:1; fill:none\" points=\"\n",
       "  186.76,246.126 212.752,246.126 \n",
       "  \"/>\n",
       "<path clip-path=\"url(#clip140)\" d=\"M 0 0 M63.4226 1445.7 Q59.8115 1445.7 57.9828 1449.26 Q56.1773 1452.8 56.1773 1459.93 Q56.1773 1467.04 57.9828 1470.6 Q59.8115 1474.15 63.4226 1474.15 Q67.0569 1474.15 68.8624 1470.6 Q70.6911 1467.04 70.6911 1459.93 Q70.6911 1452.8 68.8624 1449.26 Q67.0569 1445.7 63.4226 1445.7 M63.4226 1441.99 Q69.2328 1441.99 72.2883 1446.6 Q75.367 1451.18 75.367 1459.93 Q75.367 1468.66 72.2883 1473.27 Q69.2328 1477.85 63.4226 1477.85 Q57.6125 1477.85 54.5338 1473.27 Q51.4782 1468.66 51.4782 1459.93 Q51.4782 1451.18 54.5338 1446.6 Q57.6125 1441.99 63.4226 1441.99 Z\" fill=\"#000000\" fill-rule=\"evenodd\" fill-opacity=\"1\" /><path clip-path=\"url(#clip140)\" d=\"M 0 0 M83.5845 1471.3 L88.4688 1471.3 L88.4688 1477.18 L83.5845 1477.18 L83.5845 1471.3 Z\" fill=\"#000000\" fill-rule=\"evenodd\" fill-opacity=\"1\" /><path clip-path=\"url(#clip140)\" d=\"M 0 0 M108.654 1445.7 Q105.043 1445.7 103.214 1449.26 Q101.409 1452.8 101.409 1459.93 Q101.409 1467.04 103.214 1470.6 Q105.043 1474.15 108.654 1474.15 Q112.288 1474.15 114.094 1470.6 Q115.922 1467.04 115.922 1459.93 Q115.922 1452.8 114.094 1449.26 Q112.288 1445.7 108.654 1445.7 M108.654 1441.99 Q114.464 1441.99 117.52 1446.6 Q120.598 1451.18 120.598 1459.93 Q120.598 1468.66 117.52 1473.27 Q114.464 1477.85 108.654 1477.85 Q102.844 1477.85 99.765 1473.27 Q96.7095 1468.66 96.7095 1459.93 Q96.7095 1451.18 99.765 1446.6 Q102.844 1441.99 108.654 1441.99 Z\" fill=\"#000000\" fill-rule=\"evenodd\" fill-opacity=\"1\" /><path clip-path=\"url(#clip140)\" d=\"M 0 0 M138.816 1445.7 Q135.205 1445.7 133.376 1449.26 Q131.57 1452.8 131.57 1459.93 Q131.57 1467.04 133.376 1470.6 Q135.205 1474.15 138.816 1474.15 Q142.45 1474.15 144.256 1470.6 Q146.084 1467.04 146.084 1459.93 Q146.084 1452.8 144.256 1449.26 Q142.45 1445.7 138.816 1445.7 M138.816 1441.99 Q144.626 1441.99 147.681 1446.6 Q150.76 1451.18 150.76 1459.93 Q150.76 1468.66 147.681 1473.27 Q144.626 1477.85 138.816 1477.85 Q133.006 1477.85 129.927 1473.27 Q126.871 1468.66 126.871 1459.93 Q126.871 1451.18 129.927 1446.6 Q133.006 1441.99 138.816 1441.99 Z\" fill=\"#000000\" fill-rule=\"evenodd\" fill-opacity=\"1\" /><path clip-path=\"url(#clip140)\" d=\"M 0 0 M65.0198 1142.25 Q61.4087 1142.25 59.58 1145.82 Q57.7745 1149.36 57.7745 1156.49 Q57.7745 1163.6 59.58 1167.16 Q61.4087 1170.7 65.0198 1170.7 Q68.6541 1170.7 70.4596 1167.16 Q72.2883 1163.6 72.2883 1156.49 Q72.2883 1149.36 70.4596 1145.82 Q68.6541 1142.25 65.0198 1142.25 M65.0198 1138.55 Q70.83 1138.55 73.8855 1143.16 Q76.9642 1147.74 76.9642 1156.49 Q76.9642 1165.22 73.8855 1169.82 Q70.83 1174.41 65.0198 1174.41 Q59.2097 1174.41 56.131 1169.82 Q53.0754 1165.22 53.0754 1156.49 Q53.0754 1147.74 56.131 1143.16 Q59.2097 1138.55 65.0198 1138.55 Z\" fill=\"#000000\" fill-rule=\"evenodd\" fill-opacity=\"1\" /><path clip-path=\"url(#clip140)\" d=\"M 0 0 M85.1818 1167.86 L90.066 1167.86 L90.066 1173.74 L85.1818 1173.74 L85.1818 1167.86 Z\" fill=\"#000000\" fill-rule=\"evenodd\" fill-opacity=\"1\" /><path clip-path=\"url(#clip140)\" d=\"M 0 0 M110.251 1142.25 Q106.64 1142.25 104.811 1145.82 Q103.006 1149.36 103.006 1156.49 Q103.006 1163.6 104.811 1167.16 Q106.64 1170.7 110.251 1170.7 Q113.885 1170.7 115.691 1167.16 Q117.52 1163.6 117.52 1156.49 Q117.52 1149.36 115.691 1145.82 Q113.885 1142.25 110.251 1142.25 M110.251 1138.55 Q116.061 1138.55 119.117 1143.16 Q122.195 1147.74 122.195 1156.49 Q122.195 1165.22 119.117 1169.82 Q116.061 1174.41 110.251 1174.41 Q104.441 1174.41 101.362 1169.82 Q98.3067 1165.22 98.3067 1156.49 Q98.3067 1147.74 101.362 1143.16 Q104.441 1138.55 110.251 1138.55 Z\" fill=\"#000000\" fill-rule=\"evenodd\" fill-opacity=\"1\" /><path clip-path=\"url(#clip140)\" d=\"M 0 0 M134.441 1169.8 L150.76 1169.8 L150.76 1173.74 L128.816 1173.74 L128.816 1169.8 Q131.478 1167.05 136.061 1162.42 Q140.668 1157.76 141.848 1156.42 Q144.093 1153.9 144.973 1152.16 Q145.876 1150.4 145.876 1148.71 Q145.876 1145.96 143.931 1144.22 Q142.01 1142.49 138.908 1142.49 Q136.709 1142.49 134.256 1143.25 Q131.825 1144.01 129.047 1145.56 L129.047 1140.84 Q131.871 1139.71 134.325 1139.13 Q136.779 1138.55 138.816 1138.55 Q144.186 1138.55 147.38 1141.24 Q150.575 1143.92 150.575 1148.41 Q150.575 1150.54 149.765 1152.46 Q148.978 1154.36 146.871 1156.95 Q146.293 1157.62 143.191 1160.84 Q140.089 1164.04 134.441 1169.8 Z\" fill=\"#000000\" fill-rule=\"evenodd\" fill-opacity=\"1\" /><path clip-path=\"url(#clip140)\" d=\"M 0 0 M62.9365 838.811 Q59.3254 838.811 57.4967 842.376 Q55.6912 845.918 55.6912 853.047 Q55.6912 860.154 57.4967 863.718 Q59.3254 867.26 62.9365 867.26 Q66.5707 867.26 68.3763 863.718 Q70.205 860.154 70.205 853.047 Q70.205 845.918 68.3763 842.376 Q66.5707 838.811 62.9365 838.811 M62.9365 835.107 Q68.7467 835.107 71.8022 839.714 Q74.8809 844.297 74.8809 853.047 Q74.8809 861.774 71.8022 866.38 Q68.7467 870.964 62.9365 870.964 Q57.1264 870.964 54.0477 866.38 Q50.9921 861.774 50.9921 853.047 Q50.9921 844.297 54.0477 839.714 Q57.1264 835.107 62.9365 835.107 Z\" fill=\"#000000\" fill-rule=\"evenodd\" fill-opacity=\"1\" /><path clip-path=\"url(#clip140)\" d=\"M 0 0 M83.0984 864.413 L87.9827 864.413 L87.9827 870.292 L83.0984 870.292 L83.0984 864.413 Z\" fill=\"#000000\" fill-rule=\"evenodd\" fill-opacity=\"1\" /><path clip-path=\"url(#clip140)\" d=\"M 0 0 M108.168 838.811 Q104.557 838.811 102.728 842.376 Q100.922 845.918 100.922 853.047 Q100.922 860.154 102.728 863.718 Q104.557 867.26 108.168 867.26 Q111.802 867.26 113.608 863.718 Q115.436 860.154 115.436 853.047 Q115.436 845.918 113.608 842.376 Q111.802 838.811 108.168 838.811 M108.168 835.107 Q113.978 835.107 117.033 839.714 Q120.112 844.297 120.112 853.047 Q120.112 861.774 117.033 866.38 Q113.978 870.964 108.168 870.964 Q102.358 870.964 99.2789 866.38 Q96.2234 861.774 96.2234 853.047 Q96.2234 844.297 99.2789 839.714 Q102.358 835.107 108.168 835.107 Z\" fill=\"#000000\" fill-rule=\"evenodd\" fill-opacity=\"1\" /><path clip-path=\"url(#clip140)\" d=\"M 0 0 M141.177 839.807 L129.371 858.255 L141.177 858.255 L141.177 839.807 M139.95 835.732 L145.83 835.732 L145.83 858.255 L150.76 858.255 L150.76 862.144 L145.83 862.144 L145.83 870.292 L141.177 870.292 L141.177 862.144 L125.575 862.144 L125.575 857.63 L139.95 835.732 Z\" fill=\"#000000\" fill-rule=\"evenodd\" fill-opacity=\"1\" /><path clip-path=\"url(#clip140)\" d=\"M 0 0 M63.2606 535.368 Q59.6495 535.368 57.8208 538.933 Q56.0152 542.474 56.0152 549.604 Q56.0152 556.71 57.8208 560.275 Q59.6495 563.817 63.2606 563.817 Q66.8948 563.817 68.7004 560.275 Q70.5291 556.71 70.5291 549.604 Q70.5291 542.474 68.7004 538.933 Q66.8948 535.368 63.2606 535.368 M63.2606 531.664 Q69.0707 531.664 72.1263 536.271 Q75.205 540.854 75.205 549.604 Q75.205 558.331 72.1263 562.937 Q69.0707 567.521 63.2606 567.521 Q57.4504 567.521 54.3717 562.937 Q51.3162 558.331 51.3162 549.604 Q51.3162 540.854 54.3717 536.271 Q57.4504 531.664 63.2606 531.664 Z\" fill=\"#000000\" fill-rule=\"evenodd\" fill-opacity=\"1\" /><path clip-path=\"url(#clip140)\" d=\"M 0 0 M83.4225 560.97 L88.3067 560.97 L88.3067 566.849 L83.4225 566.849 L83.4225 560.97 Z\" fill=\"#000000\" fill-rule=\"evenodd\" fill-opacity=\"1\" /><path clip-path=\"url(#clip140)\" d=\"M 0 0 M108.492 535.368 Q104.881 535.368 103.052 538.933 Q101.246 542.474 101.246 549.604 Q101.246 556.71 103.052 560.275 Q104.881 563.817 108.492 563.817 Q112.126 563.817 113.932 560.275 Q115.76 556.71 115.76 549.604 Q115.76 542.474 113.932 538.933 Q112.126 535.368 108.492 535.368 M108.492 531.664 Q114.302 531.664 117.358 536.271 Q120.436 540.854 120.436 549.604 Q120.436 558.331 117.358 562.937 Q114.302 567.521 108.492 567.521 Q102.682 567.521 99.603 562.937 Q96.5474 558.331 96.5474 549.604 Q96.5474 540.854 99.603 536.271 Q102.682 531.664 108.492 531.664 Z\" fill=\"#000000\" fill-rule=\"evenodd\" fill-opacity=\"1\" /><path clip-path=\"url(#clip140)\" d=\"M 0 0 M139.232 547.706 Q136.084 547.706 134.232 549.859 Q132.404 552.011 132.404 555.761 Q132.404 559.488 134.232 561.664 Q136.084 563.817 139.232 563.817 Q142.381 563.817 144.209 561.664 Q146.061 559.488 146.061 555.761 Q146.061 552.011 144.209 549.859 Q142.381 547.706 139.232 547.706 M148.515 533.053 L148.515 537.312 Q146.756 536.479 144.95 536.039 Q143.168 535.599 141.408 535.599 Q136.779 535.599 134.325 538.724 Q131.894 541.849 131.547 548.169 Q132.913 546.155 134.973 545.09 Q137.033 544.002 139.51 544.002 Q144.718 544.002 147.728 547.173 Q150.76 550.322 150.76 555.761 Q150.76 561.085 147.612 564.303 Q144.464 567.521 139.232 567.521 Q133.237 567.521 130.066 562.937 Q126.894 558.331 126.894 549.604 Q126.894 541.41 130.783 536.549 Q134.672 531.664 141.223 531.664 Q142.982 531.664 144.765 532.011 Q146.57 532.359 148.515 533.053 Z\" fill=\"#000000\" fill-rule=\"evenodd\" fill-opacity=\"1\" /><path clip-path=\"url(#clip140)\" d=\"M 0 0 M63.5152 231.925 Q59.9041 231.925 58.0754 235.49 Q56.2699 239.031 56.2699 246.161 Q56.2699 253.267 58.0754 256.832 Q59.9041 260.374 63.5152 260.374 Q67.1494 260.374 68.955 256.832 Q70.7837 253.267 70.7837 246.161 Q70.7837 239.031 68.955 235.49 Q67.1494 231.925 63.5152 231.925 M63.5152 228.221 Q69.3254 228.221 72.3809 232.828 Q75.4596 237.411 75.4596 246.161 Q75.4596 254.888 72.3809 259.494 Q69.3254 264.077 63.5152 264.077 Q57.7051 264.077 54.6264 259.494 Q51.5708 254.888 51.5708 246.161 Q51.5708 237.411 54.6264 232.828 Q57.7051 228.221 63.5152 228.221 Z\" fill=\"#000000\" fill-rule=\"evenodd\" fill-opacity=\"1\" /><path clip-path=\"url(#clip140)\" d=\"M 0 0 M83.6771 257.526 L88.5614 257.526 L88.5614 263.406 L83.6771 263.406 L83.6771 257.526 Z\" fill=\"#000000\" fill-rule=\"evenodd\" fill-opacity=\"1\" /><path clip-path=\"url(#clip140)\" d=\"M 0 0 M108.746 231.925 Q105.135 231.925 103.307 235.49 Q101.501 239.031 101.501 246.161 Q101.501 253.267 103.307 256.832 Q105.135 260.374 108.746 260.374 Q112.381 260.374 114.186 256.832 Q116.015 253.267 116.015 246.161 Q116.015 239.031 114.186 235.49 Q112.381 231.925 108.746 231.925 M108.746 228.221 Q114.557 228.221 117.612 232.828 Q120.691 237.411 120.691 246.161 Q120.691 254.888 117.612 259.494 Q114.557 264.077 108.746 264.077 Q102.936 264.077 99.8576 259.494 Q96.8021 254.888 96.8021 246.161 Q96.8021 237.411 99.8576 232.828 Q102.936 228.221 108.746 228.221 Z\" fill=\"#000000\" fill-rule=\"evenodd\" fill-opacity=\"1\" /><path clip-path=\"url(#clip140)\" d=\"M 0 0 M138.908 246.994 Q135.575 246.994 133.654 248.777 Q131.756 250.559 131.756 253.684 Q131.756 256.809 133.654 258.591 Q135.575 260.374 138.908 260.374 Q142.242 260.374 144.163 258.591 Q146.084 256.786 146.084 253.684 Q146.084 250.559 144.163 248.777 Q142.265 246.994 138.908 246.994 M134.232 245.003 Q131.223 244.263 129.533 242.202 Q127.867 240.142 127.867 237.179 Q127.867 233.036 130.807 230.628 Q133.769 228.221 138.908 228.221 Q144.07 228.221 147.01 230.628 Q149.95 233.036 149.95 237.179 Q149.95 240.142 148.26 242.202 Q146.593 244.263 143.607 245.003 Q146.987 245.79 148.862 248.082 Q150.76 250.374 150.76 253.684 Q150.76 258.707 147.681 261.392 Q144.626 264.077 138.908 264.077 Q133.191 264.077 130.112 261.392 Q127.057 258.707 127.057 253.684 Q127.057 250.374 128.955 248.082 Q130.853 245.79 134.232 245.003 M132.519 237.619 Q132.519 240.304 134.186 241.809 Q135.876 243.314 138.908 243.314 Q141.918 243.314 143.607 241.809 Q145.32 240.304 145.32 237.619 Q145.32 234.934 143.607 233.429 Q141.918 231.925 138.908 231.925 Q135.876 231.925 134.186 233.429 Q132.519 234.934 132.519 237.619 Z\" fill=\"#000000\" fill-rule=\"evenodd\" fill-opacity=\"1\" /><path clip-path=\"url(#clip140)\" d=\"M 0 0 M257.842 16.7545 L257.842 25.383 Q253.71 21.5346 249.011 19.6307 Q244.353 17.7268 239.086 17.7268 Q228.716 17.7268 223.207 24.0867 Q217.698 30.4061 217.698 42.3968 Q217.698 54.3469 223.207 60.7069 Q228.716 67.0263 239.086 67.0263 Q244.353 67.0263 249.011 65.1223 Q253.71 63.2184 257.842 59.3701 L257.842 67.9175 Q253.548 70.8341 248.728 72.2924 Q243.948 73.7508 238.6 73.7508 Q224.868 73.7508 216.969 65.3654 Q209.069 56.9395 209.069 42.3968 Q209.069 27.8135 216.969 19.4281 Q224.868 11.0023 238.6 11.0023 Q244.029 11.0023 248.809 12.4606 Q253.629 13.8784 257.842 16.7545 Z\" fill=\"#000000\" fill-rule=\"evenodd\" fill-opacity=\"1\" /><path clip-path=\"url(#clip140)\" d=\"M 0 0 M287.738 32.4315 Q281.742 32.4315 278.259 37.1306 Q274.775 41.7891 274.775 49.9314 Q274.775 58.0738 278.218 62.7728 Q281.702 67.4314 287.738 67.4314 Q293.693 67.4314 297.176 62.7323 Q300.66 58.0333 300.66 49.9314 Q300.66 41.8701 297.176 37.1711 Q293.693 32.4315 287.738 32.4315 M287.738 26.1121 Q297.46 26.1121 303.01 32.4315 Q308.559 38.7509 308.559 49.9314 Q308.559 61.0714 303.01 67.4314 Q297.46 73.7508 287.738 73.7508 Q277.975 73.7508 272.425 67.4314 Q266.916 61.0714 266.916 49.9314 Q266.916 38.7509 272.425 32.4315 Q277.975 26.1121 287.738 26.1121 Z\" fill=\"#000000\" fill-rule=\"evenodd\" fill-opacity=\"1\" /><path clip-path=\"url(#clip140)\" d=\"M 0 0 M356.239 35.9153 Q359.034 30.8922 362.923 28.5022 Q366.811 26.1121 372.078 26.1121 Q379.167 26.1121 383.015 31.0947 Q386.863 36.0368 386.863 45.1919 L386.863 72.576 L379.369 72.576 L379.369 45.4349 Q379.369 38.913 377.06 35.7533 Q374.751 32.5936 370.012 32.5936 Q364.219 32.5936 360.857 36.4419 Q357.494 40.2903 357.494 46.9338 L357.494 72.576 L350 72.576 L350 45.4349 Q350 38.8725 347.691 35.7533 Q345.382 32.5936 340.562 32.5936 Q334.85 32.5936 331.488 36.4824 Q328.125 40.3308 328.125 46.9338 L328.125 72.576 L320.631 72.576 L320.631 27.2059 L328.125 27.2059 L328.125 34.2544 Q330.677 30.082 334.242 28.0971 Q337.807 26.1121 342.709 26.1121 Q347.651 26.1121 351.094 28.6237 Q354.578 31.1352 356.239 35.9153 Z\" fill=\"#000000\" fill-rule=\"evenodd\" fill-opacity=\"1\" /><path clip-path=\"url(#clip140)\" d=\"M 0 0 M408.941 65.7705 L408.941 89.8329 L401.447 89.8329 L401.447 27.2059 L408.941 27.2059 L408.941 34.0924 Q411.29 30.0415 414.855 28.0971 Q418.46 26.1121 423.443 26.1121 Q431.707 26.1121 436.852 32.6746 Q442.037 39.2371 442.037 49.9314 Q442.037 60.6258 436.852 67.1883 Q431.707 73.7508 423.443 73.7508 Q418.46 73.7508 414.855 71.8063 Q411.29 69.8214 408.941 65.7705 M434.3 49.9314 Q434.3 41.7081 430.897 37.0496 Q427.535 32.3505 421.62 32.3505 Q415.706 32.3505 412.303 37.0496 Q408.941 41.7081 408.941 49.9314 Q408.941 58.1548 412.303 62.8538 Q415.706 67.5124 421.62 67.5124 Q427.535 67.5124 430.897 62.8538 Q434.3 58.1548 434.3 49.9314 Z\" fill=\"#000000\" fill-rule=\"evenodd\" fill-opacity=\"1\" /><path clip-path=\"url(#clip140)\" d=\"M 0 0 M475.011 49.7694 Q465.978 49.7694 462.494 51.8354 Q459.01 53.9013 459.01 58.8839 Q459.01 62.8538 461.603 65.2034 Q464.236 67.5124 468.732 67.5124 Q474.93 67.5124 478.657 63.1374 Q482.424 58.7219 482.424 51.4303 L482.424 49.7694 L475.011 49.7694 M489.878 46.6907 L489.878 72.576 L482.424 72.576 L482.424 65.6895 Q479.872 69.8214 476.064 71.8063 Q472.256 73.7508 466.747 73.7508 Q459.78 73.7508 455.648 69.8619 Q451.556 65.9325 451.556 59.3701 Q451.556 51.7138 456.661 47.825 Q461.805 43.9361 471.973 43.9361 L482.424 43.9361 L482.424 43.2069 Q482.424 38.0623 479.022 35.2672 Q475.659 32.4315 469.542 32.4315 Q465.654 32.4315 461.967 33.3632 Q458.281 34.295 454.878 36.1584 L454.878 29.2718 Q458.97 27.692 462.818 26.9223 Q466.666 26.1121 470.312 26.1121 Q480.156 26.1121 485.017 31.2163 Q489.878 36.3204 489.878 46.6907 Z\" fill=\"#000000\" fill-rule=\"evenodd\" fill-opacity=\"1\" /><path clip-path=\"url(#clip140)\" d=\"M 0 0 M531.521 34.1734 Q530.265 33.4443 528.767 33.1202 Q527.308 32.7556 525.526 32.7556 Q519.206 32.7556 515.804 36.8875 Q512.441 40.9789 512.441 48.6757 L512.441 72.576 L504.947 72.576 L504.947 27.2059 L512.441 27.2059 L512.441 34.2544 Q514.791 30.1225 518.558 28.1376 Q522.326 26.1121 527.713 26.1121 Q528.483 26.1121 529.415 26.2337 Q530.346 26.3147 531.481 26.5172 L531.521 34.1734 Z\" fill=\"#000000\" fill-rule=\"evenodd\" fill-opacity=\"1\" /><path clip-path=\"url(#clip140)\" d=\"M 0 0 M559.959 49.7694 Q550.925 49.7694 547.441 51.8354 Q543.957 53.9013 543.957 58.8839 Q543.957 62.8538 546.55 65.2034 Q549.183 67.5124 553.68 67.5124 Q559.878 67.5124 563.604 63.1374 Q567.372 58.7219 567.372 51.4303 L567.372 49.7694 L559.959 49.7694 M574.825 46.6907 L574.825 72.576 L567.372 72.576 L567.372 65.6895 Q564.82 69.8214 561.012 71.8063 Q557.204 73.7508 551.695 73.7508 Q544.727 73.7508 540.595 69.8619 Q536.504 65.9325 536.504 59.3701 Q536.504 51.7138 541.608 47.825 Q546.753 43.9361 556.92 43.9361 L567.372 43.9361 L567.372 43.2069 Q567.372 38.0623 563.969 35.2672 Q560.607 32.4315 554.49 32.4315 Q550.601 32.4315 546.915 33.3632 Q543.228 34.295 539.826 36.1584 L539.826 29.2718 Q543.917 27.692 547.765 26.9223 Q551.614 26.1121 555.26 26.1121 Q565.103 26.1121 569.964 31.2163 Q574.825 36.3204 574.825 46.6907 Z\" fill=\"#000000\" fill-rule=\"evenodd\" fill-opacity=\"1\" /><path clip-path=\"url(#clip140)\" d=\"M 0 0 M622.829 28.9478 L622.829 35.9153 Q619.669 34.1734 616.469 33.3227 Q613.309 32.4315 610.068 32.4315 Q602.817 32.4315 598.807 37.0496 Q594.796 41.6271 594.796 49.9314 Q594.796 58.2358 598.807 62.8538 Q602.817 67.4314 610.068 67.4314 Q613.309 67.4314 616.469 66.5807 Q619.669 65.6895 622.829 63.9476 L622.829 70.8341 Q619.709 72.2924 616.347 73.0216 Q613.025 73.7508 609.258 73.7508 Q599.009 73.7508 592.973 67.3098 Q586.938 60.8689 586.938 49.9314 Q586.938 38.832 593.014 32.472 Q599.131 26.1121 609.744 26.1121 Q613.187 26.1121 616.469 26.8413 Q619.75 27.5299 622.829 28.9478 M612.296 72.576 Q614.524 75.0876 615.618 77.194 Q616.712 79.341 616.712 81.2854 Q616.712 84.8907 614.281 86.7137 Q611.851 88.5771 607.071 88.5771 Q605.207 88.5771 603.425 88.334 Q601.683 88.091 599.941 87.6049 L599.941 82.2982 Q601.318 82.9868 602.817 83.2704 Q604.316 83.5945 606.22 83.5945 Q608.61 83.5945 609.825 82.6222 Q611.04 81.65 611.04 79.7866 Q611.04 78.5713 610.149 76.7889 Q609.299 75.0471 607.476 72.576 L612.296 72.576 Z\" fill=\"#000000\" fill-rule=\"evenodd\" fill-opacity=\"1\" /><path clip-path=\"url(#clip140)\" d=\"M 0 0 M656.411 49.7694 Q647.377 49.7694 643.893 51.8354 Q640.41 53.9013 640.41 58.8839 Q640.41 62.8538 643.002 65.2034 Q645.635 67.5124 650.132 67.5124 Q656.33 67.5124 660.056 63.1374 Q663.824 58.7219 663.824 51.4303 L663.824 49.7694 L656.411 49.7694 M671.277 46.6907 L671.277 72.576 L663.824 72.576 L663.824 65.6895 Q661.272 69.8214 657.464 71.8063 Q653.656 73.7508 648.147 73.7508 Q641.179 73.7508 637.047 69.8619 Q632.956 65.9325 632.956 59.3701 Q632.956 51.7138 638.06 47.825 Q643.205 43.9361 653.372 43.9361 L663.824 43.9361 L663.824 43.2069 Q663.824 38.0623 660.421 35.2672 Q657.059 32.4315 650.942 32.4315 Q647.053 32.4315 643.367 33.3632 Q639.68 34.295 636.278 36.1584 L636.278 29.2718 Q640.369 27.692 644.217 26.9223 Q648.066 26.1121 651.712 26.1121 Q661.555 26.1121 666.416 31.2163 Q671.277 36.3204 671.277 46.6907 M651.874 17.0786 L649.565 14.8506 Q648.673 14.0404 647.985 13.6759 Q647.337 13.2708 646.81 13.2708 Q645.271 13.2708 644.541 14.7696 Q643.812 16.2279 643.731 19.5497 L638.668 19.5497 Q638.749 14.0809 640.815 11.1238 Q642.881 8.12611 646.567 8.12611 Q648.106 8.12611 649.403 8.69324 Q650.699 9.26037 652.198 10.5972 L654.507 12.8252 Q655.398 13.6353 656.046 14.0404 Q656.735 14.405 657.261 14.405 Q658.801 14.405 659.53 12.9467 Q660.259 11.4479 660.34 8.12611 L665.404 8.12611 Q665.323 13.5948 663.257 16.5925 Q661.191 19.5497 657.504 19.5497 Q655.965 19.5497 654.669 18.9825 Q653.372 18.4154 651.874 17.0786 Z\" fill=\"#000000\" fill-rule=\"evenodd\" fill-opacity=\"1\" /><path clip-path=\"url(#clip140)\" d=\"M 0 0 M704.211 32.4315 Q698.216 32.4315 694.732 37.1306 Q691.248 41.7891 691.248 49.9314 Q691.248 58.0738 694.692 62.7728 Q698.175 67.4314 704.211 67.4314 Q710.166 67.4314 713.65 62.7323 Q717.134 58.0333 717.134 49.9314 Q717.134 41.8701 713.65 37.1711 Q710.166 32.4315 704.211 32.4315 M704.211 26.1121 Q713.933 26.1121 719.483 32.4315 Q725.033 38.7509 725.033 49.9314 Q725.033 61.0714 719.483 67.4314 Q713.933 73.7508 704.211 73.7508 Q694.449 73.7508 688.899 67.4314 Q683.39 61.0714 683.39 49.9314 Q683.39 38.7509 688.899 32.4315 Q694.449 26.1121 704.211 26.1121 Z\" fill=\"#000000\" fill-rule=\"evenodd\" fill-opacity=\"1\" /><path clip-path=\"url(#clip140)\" d=\"M 0 0 M793.615 34.0924 L793.615 9.54393 L801.068 9.54393 L801.068 72.576 L793.615 72.576 L793.615 65.7705 Q791.265 69.8214 787.66 71.8063 Q784.095 73.7508 779.072 73.7508 Q770.849 73.7508 765.663 67.1883 Q760.519 60.6258 760.519 49.9314 Q760.519 39.2371 765.663 32.6746 Q770.849 26.1121 779.072 26.1121 Q784.095 26.1121 787.66 28.0971 Q791.265 30.0415 793.615 34.0924 M768.216 49.9314 Q768.216 58.1548 771.578 62.8538 Q774.981 67.5124 780.895 67.5124 Q786.809 67.5124 790.212 62.8538 Q793.615 58.1548 793.615 49.9314 Q793.615 41.7081 790.212 37.0496 Q786.809 32.3505 780.895 32.3505 Q774.981 32.3505 771.578 37.0496 Q768.216 41.7081 768.216 49.9314 Z\" fill=\"#000000\" fill-rule=\"evenodd\" fill-opacity=\"1\" /><path clip-path=\"url(#clip140)\" d=\"M 0 0 M855.229 48.0275 L855.229 51.6733 L820.958 51.6733 Q821.444 59.3701 825.576 63.421 Q829.749 67.4314 837.162 67.4314 Q841.456 67.4314 845.466 66.3781 Q849.517 65.3249 853.487 63.2184 L853.487 70.267 Q849.477 71.9684 845.264 72.8596 Q841.051 73.7508 836.716 73.7508 Q825.86 73.7508 819.5 67.4314 Q813.181 61.1119 813.181 50.3365 Q813.181 39.1965 819.176 32.6746 Q825.212 26.1121 835.42 26.1121 Q844.575 26.1121 849.882 32.0264 Q855.229 37.9003 855.229 48.0275 M847.775 45.84 Q847.694 39.7232 844.332 36.0774 Q841.01 32.4315 835.501 32.4315 Q829.263 32.4315 825.495 35.9558 Q821.769 39.4801 821.201 45.8805 L847.775 45.84 Z\" fill=\"#000000\" fill-rule=\"evenodd\" fill-opacity=\"1\" /><path clip-path=\"url(#clip140)\" d=\"M 0 0 M885.773 12.096 L936.936 12.096 L936.936 18.9825 L915.466 18.9825 L915.466 72.576 L907.243 72.576 L907.243 18.9825 L885.773 18.9825 L885.773 12.096 Z\" fill=\"#000000\" fill-rule=\"evenodd\" fill-opacity=\"1\" /><path clip-path=\"url(#clip140)\" d=\"M 0 0 M969.221 48.0275 L969.221 51.6733 L934.951 51.6733 Q935.437 59.3701 939.569 63.421 Q943.741 67.4314 951.154 67.4314 Q955.448 67.4314 959.459 66.3781 Q963.51 65.3249 967.48 63.2184 L967.48 70.267 Q963.469 71.9684 959.256 72.8596 Q955.043 73.7508 950.709 73.7508 Q939.852 73.7508 933.492 67.4314 Q927.173 61.1119 927.173 50.3365 Q927.173 39.1965 933.168 32.6746 Q939.204 26.1121 949.413 26.1121 Q958.568 26.1121 963.874 32.0264 Q969.221 37.9003 969.221 48.0275 M961.768 45.84 Q961.687 39.7232 958.324 36.0774 Q955.003 32.4315 949.494 32.4315 Q943.255 32.4315 939.488 35.9558 Q935.761 39.4801 935.194 45.8805 L961.768 45.84 Z\" fill=\"#000000\" fill-rule=\"evenodd\" fill-opacity=\"1\" /><path clip-path=\"url(#clip140)\" d=\"M 0 0 M1016.78 35.9153 Q1019.57 30.8922 1023.46 28.5022 Q1027.35 26.1121 1032.62 26.1121 Q1039.71 26.1121 1043.56 31.0947 Q1047.4 36.0368 1047.4 45.1919 L1047.4 72.576 L1039.91 72.576 L1039.91 45.4349 Q1039.91 38.913 1037.6 35.7533 Q1035.29 32.5936 1030.55 32.5936 Q1024.76 32.5936 1021.4 36.4419 Q1018.03 40.2903 1018.03 46.9338 L1018.03 72.576 L1010.54 72.576 L1010.54 45.4349 Q1010.54 38.8725 1008.23 35.7533 Q1005.92 32.5936 1001.1 32.5936 Q995.39 32.5936 992.028 36.4824 Q988.666 40.3308 988.666 46.9338 L988.666 72.576 L981.172 72.576 L981.172 27.2059 L988.666 27.2059 L988.666 34.2544 Q991.218 30.082 994.783 28.0971 Q998.347 26.1121 1003.25 26.1121 Q1008.19 26.1121 1011.63 28.6237 Q1015.12 31.1352 1016.78 35.9153 Z\" fill=\"#000000\" fill-rule=\"evenodd\" fill-opacity=\"1\" /><path clip-path=\"url(#clip140)\" d=\"M 0 0 M1069.48 65.7705 L1069.48 89.8329 L1061.99 89.8329 L1061.99 27.2059 L1069.48 27.2059 L1069.48 34.0924 Q1071.83 30.0415 1075.4 28.0971 Q1079 26.1121 1083.98 26.1121 Q1092.25 26.1121 1097.39 32.6746 Q1102.58 39.2371 1102.58 49.9314 Q1102.58 60.6258 1097.39 67.1883 Q1092.25 73.7508 1083.98 73.7508 Q1079 73.7508 1075.4 71.8063 Q1071.83 69.8214 1069.48 65.7705 M1094.84 49.9314 Q1094.84 41.7081 1091.44 37.0496 Q1088.07 32.3505 1082.16 32.3505 Q1076.25 32.3505 1072.84 37.0496 Q1069.48 41.7081 1069.48 49.9314 Q1069.48 58.1548 1072.84 62.8538 Q1076.25 67.5124 1082.16 67.5124 Q1088.07 67.5124 1091.44 62.8538 Q1094.84 58.1548 1094.84 49.9314 Z\" fill=\"#000000\" fill-rule=\"evenodd\" fill-opacity=\"1\" /><path clip-path=\"url(#clip140)\" d=\"M 0 0 M1132.51 32.4315 Q1126.52 32.4315 1123.03 37.1306 Q1119.55 41.7891 1119.55 49.9314 Q1119.55 58.0738 1122.99 62.7728 Q1126.48 67.4314 1132.51 67.4314 Q1138.47 67.4314 1141.95 62.7323 Q1145.44 58.0333 1145.44 49.9314 Q1145.44 41.8701 1141.95 37.1711 Q1138.47 32.4315 1132.51 32.4315 M1132.51 26.1121 Q1142.24 26.1121 1147.79 32.4315 Q1153.34 38.7509 1153.34 49.9314 Q1153.34 61.0714 1147.79 67.4314 Q1142.24 73.7508 1132.51 73.7508 Q1122.75 73.7508 1117.2 67.4314 Q1111.69 61.0714 1111.69 49.9314 Q1111.69 38.7509 1117.2 32.4315 Q1122.75 26.1121 1132.51 26.1121 Z\" fill=\"#000000\" fill-rule=\"evenodd\" fill-opacity=\"1\" /><path clip-path=\"url(#clip140)\" d=\"M 0 0 M1221.92 34.0924 L1221.92 9.54393 L1229.37 9.54393 L1229.37 72.576 L1221.92 72.576 L1221.92 65.7705 Q1219.57 69.8214 1215.96 71.8063 Q1212.4 73.7508 1207.37 73.7508 Q1199.15 73.7508 1193.97 67.1883 Q1188.82 60.6258 1188.82 49.9314 Q1188.82 39.2371 1193.97 32.6746 Q1199.15 26.1121 1207.37 26.1121 Q1212.4 26.1121 1215.96 28.0971 Q1219.57 30.0415 1221.92 34.0924 M1196.52 49.9314 Q1196.52 58.1548 1199.88 62.8538 Q1203.28 67.5124 1209.2 67.5124 Q1215.11 67.5124 1218.51 62.8538 Q1221.92 58.1548 1221.92 49.9314 Q1221.92 41.7081 1218.51 37.0496 Q1215.11 32.3505 1209.2 32.3505 Q1203.28 32.3505 1199.88 37.0496 Q1196.52 41.7081 1196.52 49.9314 Z\" fill=\"#000000\" fill-rule=\"evenodd\" fill-opacity=\"1\" /><path clip-path=\"url(#clip140)\" d=\"M 0 0 M1283.53 48.0275 L1283.53 51.6733 L1249.26 51.6733 Q1249.75 59.3701 1253.88 63.421 Q1258.05 67.4314 1265.46 67.4314 Q1269.76 67.4314 1273.77 66.3781 Q1277.82 65.3249 1281.79 63.2184 L1281.79 70.267 Q1277.78 71.9684 1273.57 72.8596 Q1269.35 73.7508 1265.02 73.7508 Q1254.16 73.7508 1247.8 67.4314 Q1241.48 61.1119 1241.48 50.3365 Q1241.48 39.1965 1247.48 32.6746 Q1253.51 26.1121 1263.72 26.1121 Q1272.88 26.1121 1278.18 32.0264 Q1283.53 37.9003 1283.53 48.0275 M1276.08 45.84 Q1276 39.7232 1272.63 36.0774 Q1269.31 32.4315 1263.8 32.4315 Q1257.56 32.4315 1253.8 35.9558 Q1250.07 39.4801 1249.5 45.8805 L1276.08 45.84 Z\" fill=\"#000000\" fill-rule=\"evenodd\" fill-opacity=\"1\" /><path clip-path=\"url(#clip140)\" d=\"M 0 0 M1322.46 12.096 L1360.7 12.096 L1360.7 18.9825 L1330.64 18.9825 L1330.64 36.8875 L1359.45 36.8875 L1359.45 43.7741 L1330.64 43.7741 L1330.64 65.6895 L1361.43 65.6895 L1361.43 72.576 L1322.46 72.576 L1322.46 12.096 Z\" fill=\"#000000\" fill-rule=\"evenodd\" fill-opacity=\"1\" /><path clip-path=\"url(#clip140)\" d=\"M 0 0 M1412.27 27.2059 L1395.86 49.2833 L1413.12 72.576 L1404.33 72.576 L1391.12 54.752 L1377.92 72.576 L1369.13 72.576 L1386.75 48.8377 L1370.63 27.2059 L1379.42 27.2059 L1391.45 43.369 L1403.48 27.2059 L1412.27 27.2059 Z\" fill=\"#000000\" fill-rule=\"evenodd\" fill-opacity=\"1\" /><path clip-path=\"url(#clip140)\" d=\"M 0 0 M1459.91 48.0275 L1459.91 51.6733 L1425.64 51.6733 Q1426.12 59.3701 1430.25 63.421 Q1434.43 67.4314 1441.84 67.4314 Q1446.13 67.4314 1450.14 66.3781 Q1454.2 65.3249 1458.17 63.2184 L1458.17 70.267 Q1454.16 71.9684 1449.94 72.8596 Q1445.73 73.7508 1441.39 73.7508 Q1430.54 73.7508 1424.18 67.4314 Q1417.86 61.1119 1417.86 50.3365 Q1417.86 39.1965 1423.85 32.6746 Q1429.89 26.1121 1440.1 26.1121 Q1449.25 26.1121 1454.56 32.0264 Q1459.91 37.9003 1459.91 48.0275 M1452.45 45.84 Q1452.37 39.7232 1449.01 36.0774 Q1445.69 32.4315 1440.18 32.4315 Q1433.94 32.4315 1430.17 35.9558 Q1426.45 39.4801 1425.88 45.8805 L1452.45 45.84 Z\" fill=\"#000000\" fill-rule=\"evenodd\" fill-opacity=\"1\" /><path clip-path=\"url(#clip140)\" d=\"M 0 0 M1504.79 28.9478 L1504.79 35.9153 Q1501.63 34.1734 1498.43 33.3227 Q1495.27 32.4315 1492.03 32.4315 Q1484.78 32.4315 1480.77 37.0496 Q1476.76 41.6271 1476.76 49.9314 Q1476.76 58.2358 1480.77 62.8538 Q1484.78 67.4314 1492.03 67.4314 Q1495.27 67.4314 1498.43 66.5807 Q1501.63 65.6895 1504.79 63.9476 L1504.79 70.8341 Q1501.67 72.2924 1498.31 73.0216 Q1494.99 73.7508 1491.22 73.7508 Q1480.97 73.7508 1474.94 67.3098 Q1468.9 60.8689 1468.9 49.9314 Q1468.9 38.832 1474.98 32.472 Q1481.09 26.1121 1491.71 26.1121 Q1495.15 26.1121 1498.43 26.8413 Q1501.71 27.5299 1504.79 28.9478 Z\" fill=\"#000000\" fill-rule=\"evenodd\" fill-opacity=\"1\" /><path clip-path=\"url(#clip140)\" d=\"M 0 0 M1516.98 54.671 L1516.98 27.2059 L1524.44 27.2059 L1524.44 54.3874 Q1524.44 60.8284 1526.95 64.0691 Q1529.46 67.2693 1534.48 67.2693 Q1540.52 67.2693 1544 63.421 Q1547.53 59.5726 1547.53 52.9291 L1547.53 27.2059 L1554.98 27.2059 L1554.98 72.576 L1547.53 72.576 L1547.53 65.6084 Q1544.81 69.7404 1541.21 71.7658 Q1537.64 73.7508 1532.9 73.7508 Q1525.09 73.7508 1521.04 68.8897 Q1516.98 64.0286 1516.98 54.671 M1535.74 26.1121 L1535.74 26.1121 Z\" fill=\"#000000\" fill-rule=\"evenodd\" fill-opacity=\"1\" /><path clip-path=\"url(#clip140)\" d=\"M 0 0 M1602.99 28.9478 L1602.99 35.9153 Q1599.83 34.1734 1596.63 33.3227 Q1593.47 32.4315 1590.23 32.4315 Q1582.97 32.4315 1578.96 37.0496 Q1574.95 41.6271 1574.95 49.9314 Q1574.95 58.2358 1578.96 62.8538 Q1582.97 67.4314 1590.23 67.4314 Q1593.47 67.4314 1596.63 66.5807 Q1599.83 65.6895 1602.99 63.9476 L1602.99 70.8341 Q1599.87 72.2924 1596.5 73.0216 Q1593.18 73.7508 1589.41 73.7508 Q1579.17 73.7508 1573.13 67.3098 Q1567.09 60.8689 1567.09 49.9314 Q1567.09 38.832 1573.17 32.472 Q1579.29 26.1121 1589.9 26.1121 Q1593.34 26.1121 1596.63 26.8413 Q1599.91 27.5299 1602.99 28.9478 M1592.45 72.576 Q1594.68 75.0876 1595.77 77.194 Q1596.87 79.341 1596.87 81.2854 Q1596.87 84.8907 1594.44 86.7137 Q1592.01 88.5771 1587.23 88.5771 Q1585.36 88.5771 1583.58 88.334 Q1581.84 88.091 1580.1 87.6049 L1580.1 82.2982 Q1581.48 82.9868 1582.97 83.2704 Q1584.47 83.5945 1586.38 83.5945 Q1588.77 83.5945 1589.98 82.6222 Q1591.2 81.65 1591.2 79.7866 Q1591.2 78.5713 1590.31 76.7889 Q1589.46 75.0471 1587.63 72.576 L1592.45 72.576 Z\" fill=\"#000000\" fill-rule=\"evenodd\" fill-opacity=\"1\" /><path clip-path=\"url(#clip140)\" d=\"M 0 0 M1636.57 49.7694 Q1627.53 49.7694 1624.05 51.8354 Q1620.57 53.9013 1620.57 58.8839 Q1620.57 62.8538 1623.16 65.2034 Q1625.79 67.5124 1630.29 67.5124 Q1636.49 67.5124 1640.21 63.1374 Q1643.98 58.7219 1643.98 51.4303 L1643.98 49.7694 L1636.57 49.7694 M1651.43 46.6907 L1651.43 72.576 L1643.98 72.576 L1643.98 65.6895 Q1641.43 69.8214 1637.62 71.8063 Q1633.81 73.7508 1628.3 73.7508 Q1621.34 73.7508 1617.2 69.8619 Q1613.11 65.9325 1613.11 59.3701 Q1613.11 51.7138 1618.22 47.825 Q1623.36 43.9361 1633.53 43.9361 L1643.98 43.9361 L1643.98 43.2069 Q1643.98 38.0623 1640.58 35.2672 Q1637.22 32.4315 1631.1 32.4315 Q1627.21 32.4315 1623.52 33.3632 Q1619.84 34.295 1616.43 36.1584 L1616.43 29.2718 Q1620.53 27.692 1624.37 26.9223 Q1628.22 26.1121 1631.87 26.1121 Q1641.71 26.1121 1646.57 31.2163 Q1651.43 36.3204 1651.43 46.6907 M1632.03 17.0786 L1629.72 14.8506 Q1628.83 14.0404 1628.14 13.6759 Q1627.49 13.2708 1626.97 13.2708 Q1625.43 13.2708 1624.7 14.7696 Q1623.97 16.2279 1623.89 19.5497 L1618.82 19.5497 Q1618.91 14.0809 1620.97 11.1238 Q1623.04 8.12611 1626.72 8.12611 Q1628.26 8.12611 1629.56 8.69324 Q1630.86 9.26037 1632.35 10.5972 L1634.66 12.8252 Q1635.55 13.6353 1636.2 14.0404 Q1636.89 14.405 1637.42 14.405 Q1638.96 14.405 1639.69 12.9467 Q1640.42 11.4479 1640.5 8.12611 L1645.56 8.12611 Q1645.48 13.5948 1643.41 16.5925 Q1641.35 19.5497 1637.66 19.5497 Q1636.12 19.5497 1634.83 18.9825 Q1633.53 18.4154 1632.03 17.0786 Z\" fill=\"#000000\" fill-rule=\"evenodd\" fill-opacity=\"1\" /><path clip-path=\"url(#clip140)\" d=\"M 0 0 M1684.37 32.4315 Q1678.37 32.4315 1674.89 37.1306 Q1671.41 41.7891 1671.41 49.9314 Q1671.41 58.0738 1674.85 62.7728 Q1678.33 67.4314 1684.37 67.4314 Q1690.32 67.4314 1693.81 62.7323 Q1697.29 58.0333 1697.29 49.9314 Q1697.29 41.8701 1693.81 37.1711 Q1690.32 32.4315 1684.37 32.4315 M1684.37 26.1121 Q1694.09 26.1121 1699.64 32.4315 Q1705.19 38.7509 1705.19 49.9314 Q1705.19 61.0714 1699.64 67.4314 Q1694.09 73.7508 1684.37 73.7508 Q1674.61 73.7508 1669.06 67.4314 Q1663.55 61.0714 1663.55 49.9314 Q1663.55 38.7509 1669.06 32.4315 Q1674.61 26.1121 1684.37 26.1121 Z\" fill=\"#000000\" fill-rule=\"evenodd\" fill-opacity=\"1\" /><path clip-path=\"url(#clip140)\" d=\"M 0 0 M1782.72 48.0275 L1782.72 51.6733 L1748.45 51.6733 Q1748.94 59.3701 1753.07 63.421 Q1757.24 67.4314 1764.66 67.4314 Q1768.95 67.4314 1772.96 66.3781 Q1777.01 65.3249 1780.98 63.2184 L1780.98 70.267 Q1776.97 71.9684 1772.76 72.8596 Q1768.55 73.7508 1764.21 73.7508 Q1753.35 73.7508 1747 67.4314 Q1740.68 61.1119 1740.68 50.3365 Q1740.68 39.1965 1746.67 32.6746 Q1752.71 26.1121 1762.92 26.1121 Q1772.07 26.1121 1777.38 32.0264 Q1782.72 37.9003 1782.72 48.0275 M1775.27 45.84 Q1775.19 39.7232 1771.83 36.0774 Q1768.51 32.4315 1763 32.4315 Q1756.76 32.4315 1752.99 35.9558 Q1749.26 39.4801 1748.7 45.8805 L1775.27 45.84 Z\" fill=\"#000000\" fill-rule=\"evenodd\" fill-opacity=\"1\" /><path clip-path=\"url(#clip140)\" d=\"M 0 0 M1832.67 45.1919 L1832.67 72.576 L1825.22 72.576 L1825.22 45.4349 Q1825.22 38.994 1822.71 35.7938 Q1820.19 32.5936 1815.17 32.5936 Q1809.14 32.5936 1805.65 36.4419 Q1802.17 40.2903 1802.17 46.9338 L1802.17 72.576 L1794.67 72.576 L1794.67 27.2059 L1802.17 27.2059 L1802.17 34.2544 Q1804.84 30.163 1808.45 28.1376 Q1812.09 26.1121 1816.83 26.1121 Q1824.65 26.1121 1828.66 30.9732 Q1832.67 35.7938 1832.67 45.1919 Z\" fill=\"#000000\" fill-rule=\"evenodd\" fill-opacity=\"1\" /><path clip-path=\"url(#clip140)\" d=\"M 0 0 M1854.91 14.324 L1854.91 27.2059 L1870.26 27.2059 L1870.26 32.9987 L1854.91 32.9987 L1854.91 57.6282 Q1854.91 63.1779 1856.41 64.7578 Q1857.95 66.3376 1862.61 66.3376 L1870.26 66.3376 L1870.26 72.576 L1862.61 72.576 Q1853.98 72.576 1850.7 69.3758 Q1847.42 66.1351 1847.42 57.6282 L1847.42 32.9987 L1841.95 32.9987 L1841.95 27.2059 L1847.42 27.2059 L1847.42 14.324 L1854.91 14.324 Z\" fill=\"#000000\" fill-rule=\"evenodd\" fill-opacity=\"1\" /><path clip-path=\"url(#clip140)\" d=\"M 0 0 M1906.36 34.1734 Q1905.1 33.4443 1903.6 33.1202 Q1902.14 32.7556 1900.36 32.7556 Q1894.04 32.7556 1890.64 36.8875 Q1887.28 40.9789 1887.28 48.6757 L1887.28 72.576 L1879.78 72.576 L1879.78 27.2059 L1887.28 27.2059 L1887.28 34.2544 Q1889.63 30.1225 1893.39 28.1376 Q1897.16 26.1121 1902.55 26.1121 Q1903.32 26.1121 1904.25 26.2337 Q1905.18 26.3147 1906.32 26.5172 L1906.36 34.1734 Z\" fill=\"#000000\" fill-rule=\"evenodd\" fill-opacity=\"1\" /><path clip-path=\"url(#clip140)\" d=\"M 0 0 M1951.16 48.0275 L1951.16 51.6733 L1916.89 51.6733 Q1917.38 59.3701 1921.51 63.421 Q1925.68 67.4314 1933.09 67.4314 Q1937.39 67.4314 1941.4 66.3781 Q1945.45 65.3249 1949.42 63.2184 L1949.42 70.267 Q1945.41 71.9684 1941.2 72.8596 Q1936.98 73.7508 1932.65 73.7508 Q1921.79 73.7508 1915.43 67.4314 Q1909.11 61.1119 1909.11 50.3365 Q1909.11 39.1965 1915.11 32.6746 Q1921.14 26.1121 1931.35 26.1121 Q1940.51 26.1121 1945.81 32.0264 Q1951.16 37.9003 1951.16 48.0275 M1943.71 45.84 Q1943.63 39.7232 1940.26 36.0774 Q1936.94 32.4315 1931.43 32.4315 Q1925.19 32.4315 1921.43 35.9558 Q1917.7 39.4801 1917.13 45.8805 L1943.71 45.84 Z\" fill=\"#000000\" fill-rule=\"evenodd\" fill-opacity=\"1\" /><path clip-path=\"url(#clip140)\" d=\"M 0 0 M1990.09 12.096 L2002.28 12.096 L2017.72 53.2532 L2033.23 12.096 L2045.43 12.096 L2045.43 72.576 L2037.44 72.576 L2037.44 19.4686 L2021.85 60.9499 L2013.63 60.9499 L1998.03 19.4686 L1998.03 72.576 L1990.09 72.576 L1990.09 12.096 Z\" fill=\"#000000\" fill-rule=\"evenodd\" fill-opacity=\"1\" /><path clip-path=\"url(#clip140)\" d=\"M 0 0 M2100.15 48.0275 L2100.15 51.6733 L2065.88 51.6733 Q2066.37 59.3701 2070.5 63.421 Q2074.67 67.4314 2082.09 67.4314 Q2086.38 67.4314 2090.39 66.3781 Q2094.44 65.3249 2098.41 63.2184 L2098.41 70.267 Q2094.4 71.9684 2090.19 72.8596 Q2085.97 73.7508 2081.64 73.7508 Q2070.78 73.7508 2064.42 67.4314 Q2058.1 61.1119 2058.1 50.3365 Q2058.1 39.1965 2064.1 32.6746 Q2070.14 26.1121 2080.34 26.1121 Q2089.5 26.1121 2094.81 32.0264 Q2100.15 37.9003 2100.15 48.0275 M2092.7 45.84 Q2092.62 39.7232 2089.26 36.0774 Q2085.93 32.4315 2080.42 32.4315 Q2074.19 32.4315 2070.42 35.9558 Q2066.69 39.4801 2066.13 45.8805 L2092.7 45.84 M2085.53 6.22219 L2093.59 6.22219 L2080.38 21.4536 L2074.19 21.4536 L2085.53 6.22219 Z\" fill=\"#000000\" fill-rule=\"evenodd\" fill-opacity=\"1\" /><path clip-path=\"url(#clip140)\" d=\"M 0 0 M2119.76 14.324 L2119.76 27.2059 L2135.11 27.2059 L2135.11 32.9987 L2119.76 32.9987 L2119.76 57.6282 Q2119.76 63.1779 2121.26 64.7578 Q2122.8 66.3376 2127.46 66.3376 L2135.11 66.3376 L2135.11 72.576 L2127.46 72.576 Q2118.83 72.576 2115.55 69.3758 Q2112.27 66.1351 2112.27 57.6282 L2112.27 32.9987 L2106.8 32.9987 L2106.8 27.2059 L2112.27 27.2059 L2112.27 14.324 L2119.76 14.324 Z\" fill=\"#000000\" fill-rule=\"evenodd\" fill-opacity=\"1\" /><path clip-path=\"url(#clip140)\" d=\"M 0 0 M2162.5 32.4315 Q2156.5 32.4315 2153.02 37.1306 Q2149.53 41.7891 2149.53 49.9314 Q2149.53 58.0738 2152.98 62.7728 Q2156.46 67.4314 2162.5 67.4314 Q2168.45 67.4314 2171.93 62.7323 Q2175.42 58.0333 2175.42 49.9314 Q2175.42 41.8701 2171.93 37.1711 Q2168.45 32.4315 2162.5 32.4315 M2162.5 26.1121 Q2172.22 26.1121 2177.77 32.4315 Q2183.32 38.7509 2183.32 49.9314 Q2183.32 61.0714 2177.77 67.4314 Q2172.22 73.7508 2162.5 73.7508 Q2152.73 73.7508 2147.18 67.4314 Q2141.67 61.0714 2141.67 49.9314 Q2141.67 38.7509 2147.18 32.4315 Q2152.73 26.1121 2162.5 26.1121 Z\" fill=\"#000000\" fill-rule=\"evenodd\" fill-opacity=\"1\" /><path clip-path=\"url(#clip140)\" d=\"M 0 0 M2225.53 34.0924 L2225.53 9.54393 L2232.98 9.54393 L2232.98 72.576 L2225.53 72.576 L2225.53 65.7705 Q2223.18 69.8214 2219.57 71.8063 Q2216.01 73.7508 2210.99 73.7508 Q2202.76 73.7508 2197.58 67.1883 Q2192.43 60.6258 2192.43 49.9314 Q2192.43 39.2371 2197.58 32.6746 Q2202.76 26.1121 2210.99 26.1121 Q2216.01 26.1121 2219.57 28.0971 Q2223.18 30.0415 2225.53 34.0924 M2200.13 49.9314 Q2200.13 58.1548 2203.49 62.8538 Q2206.89 67.5124 2212.81 67.5124 Q2218.72 67.5124 2222.13 62.8538 Q2225.53 58.1548 2225.53 49.9314 Q2225.53 41.7081 2222.13 37.0496 Q2218.72 32.3505 2212.81 32.3505 Q2206.89 32.3505 2203.49 37.0496 Q2200.13 41.7081 2200.13 49.9314 Z\" fill=\"#000000\" fill-rule=\"evenodd\" fill-opacity=\"1\" /><path clip-path=\"url(#clip140)\" d=\"M 0 0 M2265.92 32.4315 Q2259.92 32.4315 2256.44 37.1306 Q2252.95 41.7891 2252.95 49.9314 Q2252.95 58.0738 2256.4 62.7728 Q2259.88 67.4314 2265.92 67.4314 Q2271.87 67.4314 2275.35 62.7323 Q2278.84 58.0333 2278.84 49.9314 Q2278.84 41.8701 2275.35 37.1711 Q2271.87 32.4315 2265.92 32.4315 M2265.92 26.1121 Q2275.64 26.1121 2281.19 32.4315 Q2286.74 38.7509 2286.74 49.9314 Q2286.74 61.0714 2281.19 67.4314 Q2275.64 73.7508 2265.92 73.7508 Q2256.15 73.7508 2250.6 67.4314 Q2245.09 61.0714 2245.09 49.9314 Q2245.09 38.7509 2250.6 32.4315 Q2256.15 26.1121 2265.92 26.1121 Z\" fill=\"#000000\" fill-rule=\"evenodd\" fill-opacity=\"1\" /><path clip-path=\"url(#clip140)\" d=\"M 0 0 M2328.02 28.5427 L2328.02 35.5912 Q2324.86 33.9709 2321.45 33.1607 Q2318.05 32.3505 2314.41 32.3505 Q2308.86 32.3505 2306.06 34.0519 Q2303.31 35.7533 2303.31 39.156 Q2303.31 41.7486 2305.29 43.2475 Q2307.28 44.7058 2313.27 46.0426 L2315.82 46.6097 Q2323.76 48.3111 2327.08 51.4303 Q2330.45 54.509 2330.45 60.0587 Q2330.45 66.3781 2325.42 70.0644 Q2320.44 73.7508 2311.69 73.7508 Q2308.05 73.7508 2304.08 73.0216 Q2300.15 72.3329 2295.77 70.9151 L2295.77 63.2184 Q2299.9 65.3654 2303.91 66.4591 Q2307.92 67.5124 2311.85 67.5124 Q2317.12 67.5124 2319.95 65.73 Q2322.79 63.9071 2322.79 60.6258 Q2322.79 57.5877 2320.72 55.9673 Q2318.7 54.3469 2311.77 52.8481 L2309.18 52.2405 Q2302.25 50.7821 2299.17 47.7845 Q2296.1 44.7463 2296.1 39.4801 Q2296.1 33.0797 2300.63 29.5959 Q2305.17 26.1121 2313.51 26.1121 Q2317.65 26.1121 2321.29 26.7198 Q2324.94 27.3274 2328.02 28.5427 Z\" fill=\"#000000\" fill-rule=\"evenodd\" fill-opacity=\"1\" /><polyline clip-path=\"url(#clip142)\" style=\"stroke:#009af9; stroke-width:4; stroke-opacity:1; fill:none\" points=\"\n",
       "  248.062,1340.4 929.193,1347.41 1610.32,1348.89 2291.45,1346.62 \n",
       "  \"/>\n",
       "<polyline clip-path=\"url(#clip142)\" style=\"stroke:#e26f46; stroke-width:4; stroke-opacity:1; fill:none\" points=\"\n",
       "  248.062,1342.9 929.193,1347.13 1610.32,1349.21 2291.45,1346.5 \n",
       "  \"/>\n",
       "<polyline clip-path=\"url(#clip142)\" style=\"stroke:#3da44d; stroke-width:4; stroke-opacity:1; fill:none\" points=\"\n",
       "  248.062,1237.75 929.193,1299.84 1610.32,1298.66 2291.45,1305.05 \n",
       "  \"/>\n",
       "<polyline clip-path=\"url(#clip142)\" style=\"stroke:#c271d2; stroke-width:4; stroke-opacity:1; fill:none\" points=\"\n",
       "  248.062,1439.66 929.193,1440.73 1610.32,162.047 2291.45,232.559 \n",
       "  \"/>\n",
       "<polyline clip-path=\"url(#clip142)\" style=\"stroke:#ac8d18; stroke-width:4; stroke-opacity:1; fill:none\" points=\"\n",
       "  248.062,1446.29 929.193,1447.87 1610.32,194.386 2291.45,263.94 \n",
       "  \"/>\n",
       "<path clip-path=\"url(#clip140)\" d=\"\n",
       "M427.426 562.17 L1323.48 562.17 L1323.48 199.29 L427.426 199.29  Z\n",
       "  \" fill=\"#ffffff\" fill-rule=\"evenodd\" fill-opacity=\"1\"/>\n",
       "<polyline clip-path=\"url(#clip140)\" style=\"stroke:#000000; stroke-width:4; stroke-opacity:1; fill:none\" points=\"\n",
       "  427.426,562.17 1323.48,562.17 1323.48,199.29 427.426,199.29 427.426,562.17 \n",
       "  \"/>\n",
       "<polyline clip-path=\"url(#clip140)\" style=\"stroke:#009af9; stroke-width:4; stroke-opacity:1; fill:none\" points=\"\n",
       "  451.493,259.77 595.893,259.77 \n",
       "  \"/>\n",
       "<path clip-path=\"url(#clip140)\" d=\"M 0 0 M619.959 242.49 L641.811 242.49 L641.811 246.425 L624.635 246.425 L624.635 256.656 L641.093 256.656 L641.093 260.591 L624.635 260.591 L624.635 273.115 L642.228 273.115 L642.228 277.05 L619.959 277.05 L619.959 242.49 Z\" fill=\"#000000\" fill-rule=\"evenodd\" fill-opacity=\"1\" /><path clip-path=\"url(#clip140)\" d=\"M 0 0 M649.728 241.031 L653.987 241.031 L653.987 277.05 L649.728 277.05 L649.728 241.031 Z\" fill=\"#000000\" fill-rule=\"evenodd\" fill-opacity=\"1\" /><path clip-path=\"url(#clip140)\" d=\"M 0 0 M662.899 251.124 L667.158 251.124 L667.158 277.05 L662.899 277.05 L662.899 251.124 M662.899 241.031 L667.158 241.031 L667.158 246.425 L662.899 246.425 L662.899 241.031 Z\" fill=\"#000000\" fill-rule=\"evenodd\" fill-opacity=\"1\" /><path clip-path=\"url(#clip140)\" d=\"M 0 0 M696.255 256.101 Q697.852 253.23 700.075 251.865 Q702.297 250.499 705.306 250.499 Q709.357 250.499 711.556 253.346 Q713.755 256.17 713.755 261.402 L713.755 277.05 L709.473 277.05 L709.473 261.541 Q709.473 257.814 708.153 256.008 Q706.834 254.203 704.125 254.203 Q700.815 254.203 698.894 256.402 Q696.973 258.601 696.973 262.397 L696.973 277.05 L692.69 277.05 L692.69 261.541 Q692.69 257.791 691.371 256.008 Q690.051 254.203 687.297 254.203 Q684.033 254.203 682.112 256.425 Q680.19 258.624 680.19 262.397 L680.19 277.05 L675.908 277.05 L675.908 251.124 L680.19 251.124 L680.19 255.152 Q681.649 252.767 683.686 251.633 Q685.723 250.499 688.524 250.499 Q691.348 250.499 693.315 251.934 Q695.306 253.369 696.255 256.101 Z\" fill=\"#000000\" fill-rule=\"evenodd\" fill-opacity=\"1\" /><path clip-path=\"url(#clip140)\" d=\"M 0 0 M722.25 251.124 L726.51 251.124 L726.51 277.05 L722.25 277.05 L722.25 251.124 M722.25 241.031 L726.51 241.031 L726.51 246.425 L722.25 246.425 L722.25 241.031 Z\" fill=\"#000000\" fill-rule=\"evenodd\" fill-opacity=\"1\" /><path clip-path=\"url(#clip140)\" d=\"M 0 0 M756.972 261.402 L756.972 277.05 L752.713 277.05 L752.713 261.541 Q752.713 257.86 751.278 256.031 Q749.843 254.203 746.972 254.203 Q743.523 254.203 741.533 256.402 Q739.542 258.601 739.542 262.397 L739.542 277.05 L735.26 277.05 L735.26 251.124 L739.542 251.124 L739.542 255.152 Q741.07 252.814 743.13 251.656 Q745.213 250.499 747.922 250.499 Q752.389 250.499 754.681 253.277 Q756.972 256.031 756.972 261.402 Z\" fill=\"#000000\" fill-rule=\"evenodd\" fill-opacity=\"1\" /><path clip-path=\"url(#clip140)\" d=\"M 0 0 M777.25 264.017 Q772.088 264.017 770.097 265.198 Q768.107 266.378 768.107 269.226 Q768.107 271.494 769.588 272.837 Q771.093 274.156 773.662 274.156 Q777.204 274.156 779.333 271.656 Q781.486 269.133 781.486 264.966 L781.486 264.017 L777.25 264.017 M785.745 262.258 L785.745 277.05 L781.486 277.05 L781.486 273.115 Q780.028 275.476 777.852 276.61 Q775.676 277.721 772.528 277.721 Q768.546 277.721 766.185 275.499 Q763.847 273.253 763.847 269.503 Q763.847 265.128 766.764 262.906 Q769.704 260.684 775.514 260.684 L781.486 260.684 L781.486 260.267 Q781.486 257.328 779.542 255.73 Q777.62 254.11 774.125 254.11 Q771.903 254.11 769.796 254.642 Q767.69 255.175 765.746 256.24 L765.746 252.304 Q768.083 251.402 770.283 250.962 Q772.482 250.499 774.565 250.499 Q780.19 250.499 782.968 253.416 Q785.745 256.332 785.745 262.258 Z\" fill=\"#000000\" fill-rule=\"evenodd\" fill-opacity=\"1\" /><path clip-path=\"url(#clip140)\" d=\"M 0 0 M813.176 252.119 L813.176 256.101 Q811.37 255.105 809.542 254.619 Q807.736 254.11 805.884 254.11 Q801.741 254.11 799.449 256.749 Q797.157 259.365 797.157 264.11 Q797.157 268.855 799.449 271.494 Q801.741 274.11 805.884 274.11 Q807.736 274.11 809.542 273.624 Q811.37 273.115 813.176 272.119 L813.176 276.054 Q811.393 276.888 809.472 277.304 Q807.574 277.721 805.421 277.721 Q799.565 277.721 796.116 274.04 Q792.667 270.36 792.667 264.11 Q792.667 257.767 796.139 254.133 Q799.634 250.499 805.699 250.499 Q807.667 250.499 809.542 250.916 Q811.417 251.309 813.176 252.119 M807.157 277.05 Q808.43 278.485 809.055 279.689 Q809.68 280.915 809.68 282.027 Q809.68 284.087 808.292 285.128 Q806.903 286.193 804.171 286.193 Q803.106 286.193 802.088 286.054 Q801.093 285.915 800.097 285.638 L800.097 282.605 Q800.884 282.999 801.741 283.161 Q802.597 283.346 803.685 283.346 Q805.051 283.346 805.745 282.79 Q806.44 282.235 806.44 281.17 Q806.44 280.476 805.93 279.457 Q805.444 278.462 804.403 277.05 L807.157 277.05 Z\" fill=\"#000000\" fill-rule=\"evenodd\" fill-opacity=\"1\" /><path clip-path=\"url(#clip140)\" d=\"M 0 0 M832.366 264.017 Q827.204 264.017 825.213 265.198 Q823.222 266.378 823.222 269.226 Q823.222 271.494 824.704 272.837 Q826.208 274.156 828.778 274.156 Q832.319 274.156 834.449 271.656 Q836.602 269.133 836.602 264.966 L836.602 264.017 L832.366 264.017 M840.861 262.258 L840.861 277.05 L836.602 277.05 L836.602 273.115 Q835.143 275.476 832.967 276.61 Q830.791 277.721 827.643 277.721 Q823.662 277.721 821.301 275.499 Q818.963 273.253 818.963 269.503 Q818.963 265.128 821.879 262.906 Q824.819 260.684 830.629 260.684 L836.602 260.684 L836.602 260.267 Q836.602 257.328 834.657 255.73 Q832.736 254.11 829.241 254.11 Q827.018 254.11 824.912 254.642 Q822.805 255.175 820.861 256.24 L820.861 252.304 Q823.199 251.402 825.398 250.962 Q827.597 250.499 829.68 250.499 Q835.305 250.499 838.083 253.416 Q840.861 256.332 840.861 262.258 M829.773 245.337 L828.454 244.064 Q827.944 243.601 827.551 243.392 Q827.18 243.161 826.879 243.161 Q826 243.161 825.583 244.017 Q825.167 244.851 825.12 246.749 L822.227 246.749 Q822.273 243.624 823.454 241.934 Q824.634 240.221 826.741 240.221 Q827.62 240.221 828.361 240.545 Q829.102 240.869 829.958 241.633 L831.278 242.906 Q831.787 243.369 832.157 243.601 Q832.551 243.809 832.852 243.809 Q833.731 243.809 834.148 242.976 Q834.565 242.119 834.611 240.221 L837.504 240.221 Q837.458 243.346 836.278 245.059 Q835.097 246.749 832.991 246.749 Q832.111 246.749 831.37 246.425 Q830.629 246.101 829.773 245.337 Z\" fill=\"#000000\" fill-rule=\"evenodd\" fill-opacity=\"1\" /><path clip-path=\"url(#clip140)\" d=\"M 0 0 M859.68 254.11 Q856.254 254.11 854.264 256.795 Q852.273 259.457 852.273 264.11 Q852.273 268.763 854.24 271.448 Q856.231 274.11 859.68 274.11 Q863.083 274.11 865.074 271.425 Q867.064 268.74 867.064 264.11 Q867.064 259.503 865.074 256.818 Q863.083 254.11 859.68 254.11 M859.68 250.499 Q865.236 250.499 868.407 254.11 Q871.578 257.721 871.578 264.11 Q871.578 270.476 868.407 274.11 Q865.236 277.721 859.68 277.721 Q854.102 277.721 850.93 274.11 Q847.782 270.476 847.782 264.11 Q847.782 257.721 850.93 254.11 Q854.102 250.499 859.68 250.499 Z\" fill=\"#000000\" fill-rule=\"evenodd\" fill-opacity=\"1\" /><path clip-path=\"url(#clip140)\" d=\"M 0 0 M917.458 272.119 L917.458 262.837 L909.819 262.837 L909.819 258.994 L922.087 258.994 L922.087 273.832 Q919.379 275.753 916.115 276.749 Q912.851 277.721 909.148 277.721 Q901.046 277.721 896.462 272.999 Q891.902 268.253 891.902 259.804 Q891.902 251.332 896.462 246.61 Q901.046 241.865 909.148 241.865 Q912.527 241.865 915.56 242.698 Q918.615 243.531 921.185 245.152 L921.185 250.129 Q918.592 247.929 915.675 246.818 Q912.759 245.707 909.541 245.707 Q903.198 245.707 900.004 249.249 Q896.833 252.791 896.833 259.804 Q896.833 266.795 900.004 270.337 Q903.198 273.878 909.541 273.878 Q912.018 273.878 913.962 273.462 Q915.907 273.022 917.458 272.119 Z\" fill=\"#000000\" fill-rule=\"evenodd\" fill-opacity=\"1\" /><path clip-path=\"url(#clip140)\" d=\"M 0 0 M942.226 264.017 Q937.064 264.017 935.073 265.198 Q933.083 266.378 933.083 269.226 Q933.083 271.494 934.564 272.837 Q936.069 274.156 938.638 274.156 Q942.18 274.156 944.309 271.656 Q946.462 269.133 946.462 264.966 L946.462 264.017 L942.226 264.017 M950.721 262.258 L950.721 277.05 L946.462 277.05 L946.462 273.115 Q945.004 275.476 942.828 276.61 Q940.652 277.721 937.504 277.721 Q933.522 277.721 931.161 275.499 Q928.823 273.253 928.823 269.503 Q928.823 265.128 931.74 262.906 Q934.68 260.684 940.49 260.684 L946.462 260.684 L946.462 260.267 Q946.462 257.328 944.518 255.73 Q942.596 254.11 939.101 254.11 Q936.879 254.11 934.772 254.642 Q932.666 255.175 930.721 256.24 L930.721 252.304 Q933.059 251.402 935.259 250.962 Q937.458 250.499 939.541 250.499 Q945.166 250.499 947.944 253.416 Q950.721 256.332 950.721 262.258 Z\" fill=\"#000000\" fill-rule=\"evenodd\" fill-opacity=\"1\" /><path clip-path=\"url(#clip140)\" d=\"M 0 0 M959.055 266.818 L959.055 251.124 L963.314 251.124 L963.314 266.656 Q963.314 270.337 964.749 272.189 Q966.184 274.017 969.055 274.017 Q972.504 274.017 974.494 271.818 Q976.508 269.619 976.508 265.823 L976.508 251.124 L980.768 251.124 L980.768 277.05 L976.508 277.05 L976.508 273.068 Q974.957 275.429 972.897 276.587 Q970.86 277.721 968.152 277.721 Q963.684 277.721 961.369 274.943 Q959.055 272.165 959.055 266.818 M969.772 250.499 L969.772 250.499 Z\" fill=\"#000000\" fill-rule=\"evenodd\" fill-opacity=\"1\" /><path clip-path=\"url(#clip140)\" d=\"M 0 0 M1006.07 251.888 L1006.07 255.916 Q1004.26 254.99 1002.32 254.527 Q1000.37 254.064 998.291 254.064 Q995.119 254.064 993.522 255.036 Q991.948 256.008 991.948 257.953 Q991.948 259.434 993.082 260.291 Q994.217 261.124 997.642 261.888 L999.101 262.212 Q1003.64 263.184 1005.54 264.966 Q1007.46 266.726 1007.46 269.897 Q1007.46 273.508 1004.59 275.615 Q1001.74 277.721 996.74 277.721 Q994.656 277.721 992.388 277.304 Q990.142 276.911 987.642 276.101 L987.642 271.703 Q990.004 272.929 992.295 273.554 Q994.587 274.156 996.832 274.156 Q999.841 274.156 1001.46 273.138 Q1003.08 272.096 1003.08 270.221 Q1003.08 268.485 1001.9 267.559 Q1000.74 266.633 996.786 265.777 L995.304 265.429 Q991.346 264.596 989.587 262.883 Q987.828 261.147 987.828 258.138 Q987.828 254.48 990.42 252.49 Q993.013 250.499 997.781 250.499 Q1000.14 250.499 1002.23 250.846 Q1004.31 251.193 1006.07 251.888 Z\" fill=\"#000000\" fill-rule=\"evenodd\" fill-opacity=\"1\" /><path clip-path=\"url(#clip140)\" d=\"M 0 0 M1030.77 251.888 L1030.77 255.916 Q1028.96 254.99 1027.02 254.527 Q1025.07 254.064 1022.99 254.064 Q1019.82 254.064 1018.22 255.036 Q1016.65 256.008 1016.65 257.953 Q1016.65 259.434 1017.78 260.291 Q1018.92 261.124 1022.34 261.888 L1023.8 262.212 Q1028.34 263.184 1030.23 264.966 Q1032.16 266.726 1032.16 269.897 Q1032.16 273.508 1029.29 275.615 Q1026.44 277.721 1021.44 277.721 Q1019.36 277.721 1017.09 277.304 Q1014.84 276.911 1012.34 276.101 L1012.34 271.703 Q1014.7 272.929 1016.99 273.554 Q1019.29 274.156 1021.53 274.156 Q1024.54 274.156 1026.16 273.138 Q1027.78 272.096 1027.78 270.221 Q1027.78 268.485 1026.6 267.559 Q1025.44 266.633 1021.48 265.777 L1020 265.429 Q1016.05 264.596 1014.29 262.883 Q1012.53 261.147 1012.53 258.138 Q1012.53 254.48 1015.12 252.49 Q1017.71 250.499 1022.48 250.499 Q1024.84 250.499 1026.92 250.846 Q1029.01 251.193 1030.77 251.888 Z\" fill=\"#000000\" fill-rule=\"evenodd\" fill-opacity=\"1\" /><path clip-path=\"url(#clip140)\" d=\"M 0 0 M1038.94 251.124 L1043.2 251.124 L1043.2 277.05 L1038.94 277.05 L1038.94 251.124 M1038.94 241.031 L1043.2 241.031 L1043.2 246.425 L1038.94 246.425 L1038.94 241.031 Z\" fill=\"#000000\" fill-rule=\"evenodd\" fill-opacity=\"1\" /><path clip-path=\"url(#clip140)\" d=\"M 0 0 M1063.89 264.017 Q1058.73 264.017 1056.74 265.198 Q1054.75 266.378 1054.75 269.226 Q1054.75 271.494 1056.23 272.837 Q1057.73 274.156 1060.3 274.156 Q1063.85 274.156 1065.98 271.656 Q1068.13 269.133 1068.13 264.966 L1068.13 264.017 L1063.89 264.017 M1072.39 262.258 L1072.39 277.05 L1068.13 277.05 L1068.13 273.115 Q1066.67 275.476 1064.49 276.61 Q1062.32 277.721 1059.17 277.721 Q1055.19 277.721 1052.83 275.499 Q1050.49 273.253 1050.49 269.503 Q1050.49 265.128 1053.41 262.906 Q1056.35 260.684 1062.16 260.684 L1068.13 260.684 L1068.13 260.267 Q1068.13 257.328 1066.18 255.73 Q1064.26 254.11 1060.77 254.11 Q1058.54 254.11 1056.44 254.642 Q1054.33 255.175 1052.39 256.24 L1052.39 252.304 Q1054.73 251.402 1056.92 250.962 Q1059.12 250.499 1061.21 250.499 Q1066.83 250.499 1069.61 253.416 Q1072.39 256.332 1072.39 262.258 Z\" fill=\"#000000\" fill-rule=\"evenodd\" fill-opacity=\"1\" /><path clip-path=\"url(#clip140)\" d=\"M 0 0 M1102.71 261.402 L1102.71 277.05 L1098.45 277.05 L1098.45 261.541 Q1098.45 257.86 1097.02 256.031 Q1095.58 254.203 1092.71 254.203 Q1089.26 254.203 1087.27 256.402 Q1085.28 258.601 1085.28 262.397 L1085.28 277.05 L1081 277.05 L1081 251.124 L1085.28 251.124 L1085.28 255.152 Q1086.81 252.814 1088.87 251.656 Q1090.95 250.499 1093.66 250.499 Q1098.13 250.499 1100.42 253.277 Q1102.71 256.031 1102.71 261.402 Z\" fill=\"#000000\" fill-rule=\"evenodd\" fill-opacity=\"1\" /><path clip-path=\"url(#clip140)\" d=\"M 0 0 M1122.99 264.017 Q1117.83 264.017 1115.84 265.198 Q1113.85 266.378 1113.85 269.226 Q1113.85 271.494 1115.33 272.837 Q1116.83 274.156 1119.4 274.156 Q1122.94 274.156 1125.07 271.656 Q1127.23 269.133 1127.23 264.966 L1127.23 264.017 L1122.99 264.017 M1131.48 262.258 L1131.48 277.05 L1127.23 277.05 L1127.23 273.115 Q1125.77 275.476 1123.59 276.61 Q1121.41 277.721 1118.27 277.721 Q1114.29 277.721 1111.92 275.499 Q1109.59 273.253 1109.59 269.503 Q1109.59 265.128 1112.5 262.906 Q1115.44 260.684 1121.25 260.684 L1127.23 260.684 L1127.23 260.267 Q1127.23 257.328 1125.28 255.73 Q1123.36 254.11 1119.86 254.11 Q1117.64 254.11 1115.54 254.642 Q1113.43 255.175 1111.48 256.24 L1111.48 252.304 Q1113.82 251.402 1116.02 250.962 Q1118.22 250.499 1120.3 250.499 Q1125.93 250.499 1128.71 253.416 Q1131.48 256.332 1131.48 262.258 Z\" fill=\"#000000\" fill-rule=\"evenodd\" fill-opacity=\"1\" /><polyline clip-path=\"url(#clip140)\" style=\"stroke:#e26f46; stroke-width:4; stroke-opacity:1; fill:none\" points=\"\n",
       "  451.493,320.25 595.893,320.25 \n",
       "  \"/>\n",
       "<path clip-path=\"url(#clip140)\" d=\"M 0 0 M624.635 306.812 L624.635 333.687 L630.283 333.687 Q637.436 333.687 640.746 330.446 Q644.08 327.206 644.08 320.215 Q644.08 313.271 640.746 310.053 Q637.436 306.812 630.283 306.812 L624.635 306.812 M619.959 302.97 L629.566 302.97 Q639.612 302.97 644.311 307.159 Q649.01 311.326 649.01 320.215 Q649.01 329.15 644.288 333.34 Q639.566 337.53 629.566 337.53 L619.959 337.53 L619.959 302.97 Z\" fill=\"#000000\" fill-rule=\"evenodd\" fill-opacity=\"1\" /><path clip-path=\"url(#clip140)\" d=\"M 0 0 M678.454 323.502 L678.454 325.585 L658.871 325.585 Q659.149 329.983 661.51 332.298 Q663.894 334.59 668.13 334.59 Q670.584 334.59 672.876 333.988 Q675.19 333.386 677.459 332.183 L677.459 336.21 Q675.167 337.182 672.76 337.692 Q670.353 338.201 667.876 338.201 Q661.672 338.201 658.038 334.59 Q654.427 330.979 654.427 324.821 Q654.427 318.456 657.853 314.729 Q661.302 310.979 667.135 310.979 Q672.366 310.979 675.399 314.359 Q678.454 317.715 678.454 323.502 M674.195 322.252 Q674.149 318.757 672.228 316.673 Q670.329 314.59 667.181 314.59 Q663.616 314.59 661.464 316.604 Q659.334 318.618 659.01 322.275 L674.195 322.252 Z\" fill=\"#000000\" fill-rule=\"evenodd\" fill-opacity=\"1\" /><path clip-path=\"url(#clip140)\" d=\"M 0 0 M704.102 312.599 L704.102 316.581 Q702.297 315.585 700.468 315.099 Q698.663 314.59 696.811 314.59 Q692.667 314.59 690.376 317.229 Q688.084 319.845 688.084 324.59 Q688.084 329.335 690.376 331.974 Q692.667 334.59 696.811 334.59 Q698.663 334.59 700.468 334.104 Q702.297 333.595 704.102 332.599 L704.102 336.534 Q702.32 337.368 700.399 337.784 Q698.501 338.201 696.348 338.201 Q690.491 338.201 687.042 334.52 Q683.593 330.84 683.593 324.59 Q683.593 318.247 687.065 314.613 Q690.561 310.979 696.626 310.979 Q698.593 310.979 700.468 311.396 Q702.343 311.789 704.102 312.599 Z\" fill=\"#000000\" fill-rule=\"evenodd\" fill-opacity=\"1\" /><path clip-path=\"url(#clip140)\" d=\"M 0 0 M721.556 314.59 Q718.13 314.59 716.139 317.275 Q714.149 319.937 714.149 324.59 Q714.149 329.243 716.116 331.928 Q718.107 334.59 721.556 334.59 Q724.959 334.59 726.949 331.905 Q728.94 329.22 728.94 324.59 Q728.94 319.983 726.949 317.298 Q724.959 314.59 721.556 314.59 M721.556 310.979 Q727.111 310.979 730.283 314.59 Q733.454 318.201 733.454 324.59 Q733.454 330.956 730.283 334.59 Q727.111 338.201 721.556 338.201 Q715.977 338.201 712.806 334.59 Q709.658 330.956 709.658 324.59 Q709.658 318.201 712.806 314.59 Q715.977 310.979 721.556 310.979 Z\" fill=\"#000000\" fill-rule=\"evenodd\" fill-opacity=\"1\" /><path clip-path=\"url(#clip140)\" d=\"M 0 0 M760.699 316.581 Q762.296 313.71 764.519 312.345 Q766.741 310.979 769.75 310.979 Q773.801 310.979 776 313.826 Q778.199 316.65 778.199 321.882 L778.199 337.53 L773.917 337.53 L773.917 322.021 Q773.917 318.294 772.597 316.488 Q771.278 314.683 768.57 314.683 Q765.259 314.683 763.338 316.882 Q761.417 319.081 761.417 322.877 L761.417 337.53 L757.134 337.53 L757.134 322.021 Q757.134 318.271 755.815 316.488 Q754.496 314.683 751.741 314.683 Q748.477 314.683 746.556 316.905 Q744.635 319.104 744.635 322.877 L744.635 337.53 L740.352 337.53 L740.352 311.604 L744.635 311.604 L744.635 315.632 Q746.093 313.247 748.13 312.113 Q750.167 310.979 752.968 310.979 Q755.792 310.979 757.759 312.414 Q759.75 313.849 760.699 316.581 Z\" fill=\"#000000\" fill-rule=\"evenodd\" fill-opacity=\"1\" /><path clip-path=\"url(#clip140)\" d=\"M 0 0 M790.815 333.641 L790.815 347.391 L786.532 347.391 L786.532 311.604 L790.815 311.604 L790.815 315.539 Q792.157 313.224 794.194 312.113 Q796.255 310.979 799.102 310.979 Q803.824 310.979 806.764 314.729 Q809.727 318.479 809.727 324.59 Q809.727 330.701 806.764 334.451 Q803.824 338.201 799.102 338.201 Q796.255 338.201 794.194 337.09 Q792.157 335.956 790.815 333.641 M805.305 324.59 Q805.305 319.891 803.361 317.229 Q801.44 314.544 798.06 314.544 Q794.681 314.544 792.736 317.229 Q790.815 319.891 790.815 324.59 Q790.815 329.289 792.736 331.974 Q794.681 334.636 798.06 334.636 Q801.44 334.636 803.361 331.974 Q805.305 329.289 805.305 324.59 Z\" fill=\"#000000\" fill-rule=\"evenodd\" fill-opacity=\"1\" /><path clip-path=\"url(#clip140)\" d=\"M 0 0 M826.833 314.59 Q823.407 314.59 821.417 317.275 Q819.426 319.937 819.426 324.59 Q819.426 329.243 821.393 331.928 Q823.384 334.59 826.833 334.59 Q830.236 334.59 832.227 331.905 Q834.217 329.22 834.217 324.59 Q834.217 319.983 832.227 317.298 Q830.236 314.59 826.833 314.59 M826.833 310.979 Q832.389 310.979 835.56 314.59 Q838.731 318.201 838.731 324.59 Q838.731 330.956 835.56 334.59 Q832.389 338.201 826.833 338.201 Q821.254 338.201 818.083 334.59 Q814.935 330.956 814.935 324.59 Q814.935 318.201 818.083 314.59 Q821.254 310.979 826.833 310.979 Z\" fill=\"#000000\" fill-rule=\"evenodd\" fill-opacity=\"1\" /><path clip-path=\"url(#clip140)\" d=\"M 0 0 M862.319 312.368 L862.319 316.396 Q860.514 315.47 858.569 315.007 Q856.625 314.544 854.541 314.544 Q851.37 314.544 849.773 315.516 Q848.199 316.488 848.199 318.433 Q848.199 319.914 849.333 320.771 Q850.467 321.604 853.893 322.368 L855.352 322.692 Q859.889 323.664 861.787 325.446 Q863.708 327.206 863.708 330.377 Q863.708 333.988 860.838 336.095 Q857.99 338.201 852.99 338.201 Q850.907 338.201 848.639 337.784 Q846.393 337.391 843.893 336.581 L843.893 332.183 Q846.254 333.409 848.546 334.034 Q850.838 334.636 853.083 334.636 Q856.092 334.636 857.713 333.618 Q859.333 332.576 859.333 330.701 Q859.333 328.965 858.152 328.039 Q856.995 327.113 853.037 326.257 L851.555 325.909 Q847.597 325.076 845.838 323.363 Q844.078 321.627 844.078 318.618 Q844.078 314.96 846.671 312.97 Q849.264 310.979 854.032 310.979 Q856.393 310.979 858.477 311.326 Q860.56 311.673 862.319 312.368 Z\" fill=\"#000000\" fill-rule=\"evenodd\" fill-opacity=\"1\" /><path clip-path=\"url(#clip140)\" d=\"M 0 0 M870.49 311.604 L874.75 311.604 L874.75 337.53 L870.49 337.53 L870.49 311.604 M870.49 301.511 L874.75 301.511 L874.75 306.905 L870.49 306.905 L870.49 301.511 Z\" fill=\"#000000\" fill-rule=\"evenodd\" fill-opacity=\"1\" /><path clip-path=\"url(#clip140)\" d=\"M 0 0 M902.319 312.599 L902.319 316.581 Q900.513 315.585 898.685 315.099 Q896.879 314.59 895.027 314.59 Q890.884 314.59 888.592 317.229 Q886.3 319.845 886.3 324.59 Q886.3 329.335 888.592 331.974 Q890.884 334.59 895.027 334.59 Q896.879 334.59 898.685 334.104 Q900.513 333.595 902.319 332.599 L902.319 336.534 Q900.536 337.368 898.615 337.784 Q896.717 338.201 894.564 338.201 Q888.708 338.201 885.259 334.52 Q881.81 330.84 881.81 324.59 Q881.81 318.247 885.282 314.613 Q888.777 310.979 894.842 310.979 Q896.81 310.979 898.685 311.396 Q900.56 311.789 902.319 312.599 M896.3 337.53 Q897.574 338.965 898.199 340.169 Q898.824 341.395 898.824 342.507 Q898.824 344.567 897.435 345.608 Q896.046 346.673 893.314 346.673 Q892.249 346.673 891.231 346.534 Q890.236 346.395 889.24 346.118 L889.24 343.085 Q890.027 343.479 890.884 343.641 Q891.74 343.826 892.828 343.826 Q894.194 343.826 894.888 343.27 Q895.583 342.715 895.583 341.65 Q895.583 340.956 895.074 339.937 Q894.587 338.942 893.546 337.53 L896.3 337.53 Z\" fill=\"#000000\" fill-rule=\"evenodd\" fill-opacity=\"1\" /><path clip-path=\"url(#clip140)\" d=\"M 0 0 M921.509 324.497 Q916.347 324.497 914.356 325.678 Q912.365 326.858 912.365 329.706 Q912.365 331.974 913.847 333.317 Q915.351 334.636 917.921 334.636 Q921.462 334.636 923.592 332.136 Q925.745 329.613 925.745 325.446 L925.745 324.497 L921.509 324.497 M930.004 322.738 L930.004 337.53 L925.745 337.53 L925.745 333.595 Q924.286 335.956 922.11 337.09 Q919.935 338.201 916.786 338.201 Q912.805 338.201 910.444 335.979 Q908.106 333.733 908.106 329.983 Q908.106 325.608 911.023 323.386 Q913.962 321.164 919.772 321.164 L925.745 321.164 L925.745 320.747 Q925.745 317.808 923.8 316.21 Q921.879 314.59 918.384 314.59 Q916.161 314.59 914.055 315.122 Q911.948 315.655 910.004 316.72 L910.004 312.784 Q912.342 311.882 914.541 311.442 Q916.74 310.979 918.823 310.979 Q924.448 310.979 927.226 313.896 Q930.004 316.812 930.004 322.738 M918.916 305.817 L917.597 304.544 Q917.087 304.081 916.694 303.872 Q916.323 303.641 916.022 303.641 Q915.143 303.641 914.726 304.497 Q914.31 305.331 914.263 307.229 L911.37 307.229 Q911.416 304.104 912.597 302.414 Q913.777 300.701 915.884 300.701 Q916.763 300.701 917.504 301.025 Q918.245 301.349 919.101 302.113 L920.421 303.386 Q920.93 303.849 921.3 304.081 Q921.694 304.289 921.995 304.289 Q922.874 304.289 923.291 303.456 Q923.708 302.599 923.754 300.701 L926.647 300.701 Q926.601 303.826 925.421 305.539 Q924.24 307.229 922.134 307.229 Q921.254 307.229 920.513 306.905 Q919.772 306.581 918.916 305.817 Z\" fill=\"#000000\" fill-rule=\"evenodd\" fill-opacity=\"1\" /><path clip-path=\"url(#clip140)\" d=\"M 0 0 M948.823 314.59 Q945.397 314.59 943.407 317.275 Q941.416 319.937 941.416 324.59 Q941.416 329.243 943.383 331.928 Q945.374 334.59 948.823 334.59 Q952.226 334.59 954.217 331.905 Q956.207 329.22 956.207 324.59 Q956.207 319.983 954.217 317.298 Q952.226 314.59 948.823 314.59 M948.823 310.979 Q954.379 310.979 957.55 314.59 Q960.721 318.201 960.721 324.59 Q960.721 330.956 957.55 334.59 Q954.379 338.201 948.823 338.201 Q943.245 338.201 940.073 334.59 Q936.925 330.956 936.925 324.59 Q936.925 318.201 940.073 314.59 Q943.245 310.979 948.823 310.979 Z\" fill=\"#000000\" fill-rule=\"evenodd\" fill-opacity=\"1\" /><path clip-path=\"url(#clip140)\" d=\"M 0 0 M983.036 302.97 L987.712 302.97 L987.712 333.595 L1004.54 333.595 L1004.54 337.53 L983.036 337.53 L983.036 302.97 Z\" fill=\"#000000\" fill-rule=\"evenodd\" fill-opacity=\"1\" /><path clip-path=\"url(#clip140)\" d=\"M 0 0 M1006.55 302.97 L1011.25 302.97 L1011.25 323.965 Q1011.25 329.52 1013.27 331.974 Q1015.28 334.405 1019.8 334.405 Q1024.29 334.405 1026.3 331.974 Q1028.31 329.52 1028.31 323.965 L1028.31 302.97 L1033.01 302.97 L1033.01 324.544 Q1033.01 331.303 1029.66 334.752 Q1026.32 338.201 1019.8 338.201 Q1013.24 338.201 1009.89 334.752 Q1006.55 331.303 1006.55 324.544 L1006.55 302.97 Z\" fill=\"#000000\" fill-rule=\"evenodd\" fill-opacity=\"1\" /><polyline clip-path=\"url(#clip140)\" style=\"stroke:#3da44d; stroke-width:4; stroke-opacity:1; fill:none\" points=\"\n",
       "  451.493,380.73 595.893,380.73 \n",
       "  \"/>\n",
       "<path clip-path=\"url(#clip140)\" d=\"M 0 0 M619.959 363.45 L641.811 363.45 L641.811 367.385 L624.635 367.385 L624.635 377.616 L641.093 377.616 L641.093 381.551 L624.635 381.551 L624.635 394.075 L642.228 394.075 L642.228 398.01 L619.959 398.01 L619.959 363.45 Z\" fill=\"#000000\" fill-rule=\"evenodd\" fill-opacity=\"1\" /><path clip-path=\"url(#clip140)\" d=\"M 0 0 M649.728 361.991 L653.987 361.991 L653.987 398.01 L649.728 398.01 L649.728 361.991 Z\" fill=\"#000000\" fill-rule=\"evenodd\" fill-opacity=\"1\" /><path clip-path=\"url(#clip140)\" d=\"M 0 0 M662.899 372.084 L667.158 372.084 L667.158 398.01 L662.899 398.01 L662.899 372.084 M662.899 361.991 L667.158 361.991 L667.158 367.385 L662.899 367.385 L662.899 361.991 Z\" fill=\"#000000\" fill-rule=\"evenodd\" fill-opacity=\"1\" /><path clip-path=\"url(#clip140)\" d=\"M 0 0 M696.255 377.061 Q697.852 374.19 700.075 372.825 Q702.297 371.459 705.306 371.459 Q709.357 371.459 711.556 374.306 Q713.755 377.13 713.755 382.362 L713.755 398.01 L709.473 398.01 L709.473 382.501 Q709.473 378.774 708.153 376.968 Q706.834 375.163 704.125 375.163 Q700.815 375.163 698.894 377.362 Q696.973 379.561 696.973 383.357 L696.973 398.01 L692.69 398.01 L692.69 382.501 Q692.69 378.751 691.371 376.968 Q690.051 375.163 687.297 375.163 Q684.033 375.163 682.112 377.385 Q680.19 379.584 680.19 383.357 L680.19 398.01 L675.908 398.01 L675.908 372.084 L680.19 372.084 L680.19 376.112 Q681.649 373.727 683.686 372.593 Q685.723 371.459 688.524 371.459 Q691.348 371.459 693.315 372.894 Q695.306 374.329 696.255 377.061 Z\" fill=\"#000000\" fill-rule=\"evenodd\" fill-opacity=\"1\" /><path clip-path=\"url(#clip140)\" d=\"M 0 0 M722.25 372.084 L726.51 372.084 L726.51 398.01 L722.25 398.01 L722.25 372.084 M722.25 361.991 L726.51 361.991 L726.51 367.385 L722.25 367.385 L722.25 361.991 Z\" fill=\"#000000\" fill-rule=\"evenodd\" fill-opacity=\"1\" /><path clip-path=\"url(#clip140)\" d=\"M 0 0 M756.972 382.362 L756.972 398.01 L752.713 398.01 L752.713 382.501 Q752.713 378.82 751.278 376.991 Q749.843 375.163 746.972 375.163 Q743.523 375.163 741.533 377.362 Q739.542 379.561 739.542 383.357 L739.542 398.01 L735.26 398.01 L735.26 372.084 L739.542 372.084 L739.542 376.112 Q741.07 373.774 743.13 372.616 Q745.213 371.459 747.922 371.459 Q752.389 371.459 754.681 374.237 Q756.972 376.991 756.972 382.362 Z\" fill=\"#000000\" fill-rule=\"evenodd\" fill-opacity=\"1\" /><path clip-path=\"url(#clip140)\" d=\"M 0 0 M777.25 384.977 Q772.088 384.977 770.097 386.158 Q768.107 387.338 768.107 390.186 Q768.107 392.454 769.588 393.797 Q771.093 395.116 773.662 395.116 Q777.204 395.116 779.333 392.616 Q781.486 390.093 781.486 385.926 L781.486 384.977 L777.25 384.977 M785.745 383.218 L785.745 398.01 L781.486 398.01 L781.486 394.075 Q780.028 396.436 777.852 397.57 Q775.676 398.681 772.528 398.681 Q768.546 398.681 766.185 396.459 Q763.847 394.213 763.847 390.463 Q763.847 386.088 766.764 383.866 Q769.704 381.644 775.514 381.644 L781.486 381.644 L781.486 381.227 Q781.486 378.288 779.542 376.69 Q777.62 375.07 774.125 375.07 Q771.903 375.07 769.796 375.602 Q767.69 376.135 765.746 377.2 L765.746 373.264 Q768.083 372.362 770.283 371.922 Q772.482 371.459 774.565 371.459 Q780.19 371.459 782.968 374.376 Q785.745 377.292 785.745 383.218 Z\" fill=\"#000000\" fill-rule=\"evenodd\" fill-opacity=\"1\" /><path clip-path=\"url(#clip140)\" d=\"M 0 0 M813.176 373.079 L813.176 377.061 Q811.37 376.065 809.542 375.579 Q807.736 375.07 805.884 375.07 Q801.741 375.07 799.449 377.709 Q797.157 380.325 797.157 385.07 Q797.157 389.815 799.449 392.454 Q801.741 395.07 805.884 395.07 Q807.736 395.07 809.542 394.584 Q811.37 394.075 813.176 393.079 L813.176 397.014 Q811.393 397.848 809.472 398.264 Q807.574 398.681 805.421 398.681 Q799.565 398.681 796.116 395 Q792.667 391.32 792.667 385.07 Q792.667 378.727 796.139 375.093 Q799.634 371.459 805.699 371.459 Q807.667 371.459 809.542 371.876 Q811.417 372.269 813.176 373.079 M807.157 398.01 Q808.43 399.445 809.055 400.649 Q809.68 401.875 809.68 402.987 Q809.68 405.047 808.292 406.088 Q806.903 407.153 804.171 407.153 Q803.106 407.153 802.088 407.014 Q801.093 406.875 800.097 406.598 L800.097 403.565 Q800.884 403.959 801.741 404.121 Q802.597 404.306 803.685 404.306 Q805.051 404.306 805.745 403.75 Q806.44 403.195 806.44 402.13 Q806.44 401.436 805.93 400.417 Q805.444 399.422 804.403 398.01 L807.157 398.01 Z\" fill=\"#000000\" fill-rule=\"evenodd\" fill-opacity=\"1\" /><path clip-path=\"url(#clip140)\" d=\"M 0 0 M832.366 384.977 Q827.204 384.977 825.213 386.158 Q823.222 387.338 823.222 390.186 Q823.222 392.454 824.704 393.797 Q826.208 395.116 828.778 395.116 Q832.319 395.116 834.449 392.616 Q836.602 390.093 836.602 385.926 L836.602 384.977 L832.366 384.977 M840.861 383.218 L840.861 398.01 L836.602 398.01 L836.602 394.075 Q835.143 396.436 832.967 397.57 Q830.791 398.681 827.643 398.681 Q823.662 398.681 821.301 396.459 Q818.963 394.213 818.963 390.463 Q818.963 386.088 821.879 383.866 Q824.819 381.644 830.629 381.644 L836.602 381.644 L836.602 381.227 Q836.602 378.288 834.657 376.69 Q832.736 375.07 829.241 375.07 Q827.018 375.07 824.912 375.602 Q822.805 376.135 820.861 377.2 L820.861 373.264 Q823.199 372.362 825.398 371.922 Q827.597 371.459 829.68 371.459 Q835.305 371.459 838.083 374.376 Q840.861 377.292 840.861 383.218 M829.773 366.297 L828.454 365.024 Q827.944 364.561 827.551 364.352 Q827.18 364.121 826.879 364.121 Q826 364.121 825.583 364.977 Q825.167 365.811 825.12 367.709 L822.227 367.709 Q822.273 364.584 823.454 362.894 Q824.634 361.181 826.741 361.181 Q827.62 361.181 828.361 361.505 Q829.102 361.829 829.958 362.593 L831.278 363.866 Q831.787 364.329 832.157 364.561 Q832.551 364.769 832.852 364.769 Q833.731 364.769 834.148 363.936 Q834.565 363.079 834.611 361.181 L837.504 361.181 Q837.458 364.306 836.278 366.019 Q835.097 367.709 832.991 367.709 Q832.111 367.709 831.37 367.385 Q830.629 367.061 829.773 366.297 Z\" fill=\"#000000\" fill-rule=\"evenodd\" fill-opacity=\"1\" /><path clip-path=\"url(#clip140)\" d=\"M 0 0 M859.68 375.07 Q856.254 375.07 854.264 377.755 Q852.273 380.417 852.273 385.07 Q852.273 389.723 854.24 392.408 Q856.231 395.07 859.68 395.07 Q863.083 395.07 865.074 392.385 Q867.064 389.7 867.064 385.07 Q867.064 380.463 865.074 377.778 Q863.083 375.07 859.68 375.07 M859.68 371.459 Q865.236 371.459 868.407 375.07 Q871.578 378.681 871.578 385.07 Q871.578 391.436 868.407 395.07 Q865.236 398.681 859.68 398.681 Q854.102 398.681 850.93 395.07 Q847.782 391.436 847.782 385.07 Q847.782 378.681 850.93 375.07 Q854.102 371.459 859.68 371.459 Z\" fill=\"#000000\" fill-rule=\"evenodd\" fill-opacity=\"1\" /><path clip-path=\"url(#clip140)\" d=\"M 0 0 M910.768 376.019 L910.768 361.991 L915.027 361.991 L915.027 398.01 L910.768 398.01 L910.768 394.121 Q909.425 396.436 907.365 397.57 Q905.328 398.681 902.458 398.681 Q897.759 398.681 894.796 394.931 Q891.856 391.181 891.856 385.07 Q891.856 378.959 894.796 375.209 Q897.759 371.459 902.458 371.459 Q905.328 371.459 907.365 372.593 Q909.425 373.704 910.768 376.019 M896.254 385.07 Q896.254 389.769 898.175 392.454 Q900.12 395.116 903.499 395.116 Q906.879 395.116 908.823 392.454 Q910.768 389.769 910.768 385.07 Q910.768 380.371 908.823 377.709 Q906.879 375.024 903.499 375.024 Q900.12 375.024 898.175 377.709 Q896.254 380.371 896.254 385.07 Z\" fill=\"#000000\" fill-rule=\"evenodd\" fill-opacity=\"1\" /><path clip-path=\"url(#clip140)\" d=\"M 0 0 M945.976 383.982 L945.976 386.065 L926.393 386.065 Q926.671 390.463 929.032 392.778 Q931.416 395.07 935.652 395.07 Q938.106 395.07 940.397 394.468 Q942.712 393.866 944.981 392.663 L944.981 396.69 Q942.689 397.662 940.282 398.172 Q937.874 398.681 935.397 398.681 Q929.194 398.681 925.559 395.07 Q921.948 391.459 921.948 385.301 Q921.948 378.936 925.374 375.209 Q928.823 371.459 934.657 371.459 Q939.888 371.459 942.921 374.839 Q945.976 378.195 945.976 383.982 M941.717 382.732 Q941.671 379.237 939.749 377.153 Q937.851 375.07 934.703 375.07 Q931.138 375.07 928.985 377.084 Q926.856 379.098 926.532 382.755 L941.717 382.732 Z\" fill=\"#000000\" fill-rule=\"evenodd\" fill-opacity=\"1\" /><path clip-path=\"url(#clip140)\" d=\"M 0 0 M991.786 393.079 L991.786 383.797 L984.147 383.797 L984.147 379.954 L996.416 379.954 L996.416 394.792 Q993.707 396.713 990.443 397.709 Q987.18 398.681 983.476 398.681 Q975.374 398.681 970.791 393.959 Q966.231 389.213 966.231 380.764 Q966.231 372.292 970.791 367.57 Q975.374 362.825 983.476 362.825 Q986.855 362.825 989.888 363.658 Q992.943 364.491 995.513 366.112 L995.513 371.089 Q992.92 368.889 990.004 367.778 Q987.087 366.667 983.869 366.667 Q977.527 366.667 974.332 370.209 Q971.161 373.751 971.161 380.764 Q971.161 387.755 974.332 391.297 Q977.527 394.838 983.869 394.838 Q986.346 394.838 988.291 394.422 Q990.235 393.982 991.786 393.079 Z\" fill=\"#000000\" fill-rule=\"evenodd\" fill-opacity=\"1\" /><path clip-path=\"url(#clip140)\" d=\"M 0 0 M1016.55 384.977 Q1011.39 384.977 1009.4 386.158 Q1007.41 387.338 1007.41 390.186 Q1007.41 392.454 1008.89 393.797 Q1010.4 395.116 1012.97 395.116 Q1016.51 395.116 1018.64 392.616 Q1020.79 390.093 1020.79 385.926 L1020.79 384.977 L1016.55 384.977 M1025.05 383.218 L1025.05 398.01 L1020.79 398.01 L1020.79 394.075 Q1019.33 396.436 1017.16 397.57 Q1014.98 398.681 1011.83 398.681 Q1007.85 398.681 1005.49 396.459 Q1003.15 394.213 1003.15 390.463 Q1003.15 386.088 1006.07 383.866 Q1009.01 381.644 1014.82 381.644 L1020.79 381.644 L1020.79 381.227 Q1020.79 378.288 1018.85 376.69 Q1016.92 375.07 1013.43 375.07 Q1011.21 375.07 1009.1 375.602 Q1006.99 376.135 1005.05 377.2 L1005.05 373.264 Q1007.39 372.362 1009.59 371.922 Q1011.79 371.459 1013.87 371.459 Q1019.49 371.459 1022.27 374.376 Q1025.05 377.292 1025.05 383.218 Z\" fill=\"#000000\" fill-rule=\"evenodd\" fill-opacity=\"1\" /><path clip-path=\"url(#clip140)\" d=\"M 0 0 M1033.38 387.778 L1033.38 372.084 L1037.64 372.084 L1037.64 387.616 Q1037.64 391.297 1039.08 393.149 Q1040.51 394.977 1043.38 394.977 Q1046.83 394.977 1048.82 392.778 Q1050.84 390.579 1050.84 386.783 L1050.84 372.084 L1055.1 372.084 L1055.1 398.01 L1050.84 398.01 L1050.84 394.028 Q1049.29 396.389 1047.23 397.547 Q1045.19 398.681 1042.48 398.681 Q1038.01 398.681 1035.7 395.903 Q1033.38 393.125 1033.38 387.778 M1044.1 371.459 L1044.1 371.459 Z\" fill=\"#000000\" fill-rule=\"evenodd\" fill-opacity=\"1\" /><path clip-path=\"url(#clip140)\" d=\"M 0 0 M1080.4 372.848 L1080.4 376.876 Q1078.59 375.95 1076.65 375.487 Q1074.7 375.024 1072.62 375.024 Q1069.45 375.024 1067.85 375.996 Q1066.28 376.968 1066.28 378.913 Q1066.28 380.394 1067.41 381.251 Q1068.54 382.084 1071.97 382.848 L1073.43 383.172 Q1077.97 384.144 1079.86 385.926 Q1081.79 387.686 1081.79 390.857 Q1081.79 394.468 1078.92 396.575 Q1076.07 398.681 1071.07 398.681 Q1068.98 398.681 1066.72 398.264 Q1064.47 397.871 1061.97 397.061 L1061.97 392.663 Q1064.33 393.889 1066.62 394.514 Q1068.92 395.116 1071.16 395.116 Q1074.17 395.116 1075.79 394.098 Q1077.41 393.056 1077.41 391.181 Q1077.41 389.445 1076.23 388.519 Q1075.07 387.593 1071.11 386.737 L1069.63 386.389 Q1065.67 385.556 1063.92 383.843 Q1062.16 382.107 1062.16 379.098 Q1062.16 375.44 1064.75 373.45 Q1067.34 371.459 1072.11 371.459 Q1074.47 371.459 1076.55 371.806 Q1078.64 372.153 1080.4 372.848 Z\" fill=\"#000000\" fill-rule=\"evenodd\" fill-opacity=\"1\" /><path clip-path=\"url(#clip140)\" d=\"M 0 0 M1105.1 372.848 L1105.1 376.876 Q1103.29 375.95 1101.35 375.487 Q1099.4 375.024 1097.32 375.024 Q1094.15 375.024 1092.55 375.996 Q1090.98 376.968 1090.98 378.913 Q1090.98 380.394 1092.11 381.251 Q1093.24 382.084 1096.67 382.848 L1098.13 383.172 Q1102.67 384.144 1104.56 385.926 Q1106.48 387.686 1106.48 390.857 Q1106.48 394.468 1103.61 396.575 Q1100.77 398.681 1095.77 398.681 Q1093.68 398.681 1091.42 398.264 Q1089.17 397.871 1086.67 397.061 L1086.67 392.663 Q1089.03 393.889 1091.32 394.514 Q1093.61 395.116 1095.86 395.116 Q1098.87 395.116 1100.49 394.098 Q1102.11 393.056 1102.11 391.181 Q1102.11 389.445 1100.93 388.519 Q1099.77 387.593 1095.81 386.737 L1094.33 386.389 Q1090.37 385.556 1088.61 383.843 Q1086.85 382.107 1086.85 379.098 Q1086.85 375.44 1089.45 373.45 Q1092.04 371.459 1096.81 371.459 Q1099.17 371.459 1101.25 371.806 Q1103.34 372.153 1105.1 372.848 Z\" fill=\"#000000\" fill-rule=\"evenodd\" fill-opacity=\"1\" /><path clip-path=\"url(#clip140)\" d=\"M 0 0 M1111.11 383.126 L1123.59 383.126 L1123.59 386.922 L1111.11 386.922 L1111.11 383.126 Z\" fill=\"#000000\" fill-rule=\"evenodd\" fill-opacity=\"1\" /><path clip-path=\"url(#clip140)\" d=\"M 0 0 M1133.2 363.45 L1137.87 363.45 L1137.87 395.602 Q1137.87 401.852 1135.49 404.676 Q1133.13 407.5 1127.87 407.5 L1126.09 407.5 L1126.09 403.565 L1127.55 403.565 Q1130.65 403.565 1131.92 401.829 Q1133.2 400.093 1133.2 395.602 L1133.2 363.45 Z\" fill=\"#000000\" fill-rule=\"evenodd\" fill-opacity=\"1\" /><path clip-path=\"url(#clip140)\" d=\"M 0 0 M1157.04 375.07 Q1153.61 375.07 1151.62 377.755 Q1149.63 380.417 1149.63 385.07 Q1149.63 389.723 1151.6 392.408 Q1153.59 395.07 1157.04 395.07 Q1160.44 395.07 1162.43 392.385 Q1164.42 389.7 1164.42 385.07 Q1164.42 380.463 1162.43 377.778 Q1160.44 375.07 1157.04 375.07 M1157.04 371.459 Q1162.6 371.459 1165.77 375.07 Q1168.94 378.681 1168.94 385.07 Q1168.94 391.436 1165.77 395.07 Q1162.6 398.681 1157.04 398.681 Q1151.46 398.681 1148.29 395.07 Q1145.14 391.436 1145.14 385.07 Q1145.14 378.681 1148.29 375.07 Q1151.46 371.459 1157.04 371.459 Z\" fill=\"#000000\" fill-rule=\"evenodd\" fill-opacity=\"1\" /><path clip-path=\"url(#clip140)\" d=\"M 0 0 M1191.02 376.065 Q1190.3 375.649 1189.45 375.464 Q1188.61 375.255 1187.6 375.255 Q1183.98 375.255 1182.04 377.616 Q1180.12 379.954 1180.12 384.352 L1180.12 398.01 L1175.84 398.01 L1175.84 372.084 L1180.12 372.084 L1180.12 376.112 Q1181.46 373.751 1183.61 372.616 Q1185.77 371.459 1188.85 371.459 Q1189.28 371.459 1189.82 371.528 Q1190.35 371.575 1191 371.69 L1191.02 376.065 Z\" fill=\"#000000\" fill-rule=\"evenodd\" fill-opacity=\"1\" /><path clip-path=\"url(#clip140)\" d=\"M 0 0 M1211.72 376.019 L1211.72 361.991 L1215.97 361.991 L1215.97 398.01 L1211.72 398.01 L1211.72 394.121 Q1210.37 396.436 1208.31 397.57 Q1206.28 398.681 1203.41 398.681 Q1198.71 398.681 1195.74 394.931 Q1192.8 391.181 1192.8 385.07 Q1192.8 378.959 1195.74 375.209 Q1198.71 371.459 1203.41 371.459 Q1206.28 371.459 1208.31 372.593 Q1210.37 373.704 1211.72 376.019 M1197.2 385.07 Q1197.2 389.769 1199.12 392.454 Q1201.07 395.116 1204.45 395.116 Q1207.83 395.116 1209.77 392.454 Q1211.72 389.769 1211.72 385.07 Q1211.72 380.371 1209.77 377.709 Q1207.83 375.024 1204.45 375.024 Q1201.07 375.024 1199.12 377.709 Q1197.2 380.371 1197.2 385.07 Z\" fill=\"#000000\" fill-rule=\"evenodd\" fill-opacity=\"1\" /><path clip-path=\"url(#clip140)\" d=\"M 0 0 M1236.53 384.977 Q1231.37 384.977 1229.38 386.158 Q1227.39 387.338 1227.39 390.186 Q1227.39 392.454 1228.87 393.797 Q1230.37 395.116 1232.94 395.116 Q1236.48 395.116 1238.61 392.616 Q1240.77 390.093 1240.77 385.926 L1240.77 384.977 L1236.53 384.977 M1245.03 383.218 L1245.03 398.01 L1240.77 398.01 L1240.77 394.075 Q1239.31 396.436 1237.13 397.57 Q1234.96 398.681 1231.81 398.681 Q1227.83 398.681 1225.47 396.459 Q1223.13 394.213 1223.13 390.463 Q1223.13 386.088 1226.04 383.866 Q1228.98 381.644 1234.79 381.644 L1240.77 381.644 L1240.77 381.227 Q1240.77 378.288 1238.82 376.69 Q1236.9 375.07 1233.41 375.07 Q1231.18 375.07 1229.08 375.602 Q1226.97 376.135 1225.03 377.2 L1225.03 373.264 Q1227.36 372.362 1229.56 371.922 Q1231.76 371.459 1233.84 371.459 Q1239.47 371.459 1242.25 374.376 Q1245.03 377.292 1245.03 383.218 Z\" fill=\"#000000\" fill-rule=\"evenodd\" fill-opacity=\"1\" /><path clip-path=\"url(#clip140)\" d=\"M 0 0 M1275.35 382.362 L1275.35 398.01 L1271.09 398.01 L1271.09 382.501 Q1271.09 378.82 1269.65 376.991 Q1268.22 375.163 1265.35 375.163 Q1261.9 375.163 1259.91 377.362 Q1257.92 379.561 1257.92 383.357 L1257.92 398.01 L1253.64 398.01 L1253.64 372.084 L1257.92 372.084 L1257.92 376.112 Q1259.45 373.774 1261.51 372.616 Q1263.59 371.459 1266.3 371.459 Q1270.77 371.459 1273.06 374.237 Q1275.35 376.991 1275.35 382.362 Z\" fill=\"#000000\" fill-rule=\"evenodd\" fill-opacity=\"1\" /><polyline clip-path=\"url(#clip140)\" style=\"stroke:#c271d2; stroke-width:4; stroke-opacity:1; fill:none\" points=\"\n",
       "  451.493,441.21 595.893,441.21 \n",
       "  \"/>\n",
       "<path clip-path=\"url(#clip140)\" d=\"M 0 0 M619.959 423.93 L641.811 423.93 L641.811 427.865 L624.635 427.865 L624.635 438.096 L641.093 438.096 L641.093 442.031 L624.635 442.031 L624.635 454.555 L642.228 454.555 L642.228 458.49 L619.959 458.49 L619.959 423.93 Z\" fill=\"#000000\" fill-rule=\"evenodd\" fill-opacity=\"1\" /><path clip-path=\"url(#clip140)\" d=\"M 0 0 M649.728 422.471 L653.987 422.471 L653.987 458.49 L649.728 458.49 L649.728 422.471 Z\" fill=\"#000000\" fill-rule=\"evenodd\" fill-opacity=\"1\" /><path clip-path=\"url(#clip140)\" d=\"M 0 0 M662.899 432.564 L667.158 432.564 L667.158 458.49 L662.899 458.49 L662.899 432.564 M662.899 422.471 L667.158 422.471 L667.158 427.865 L662.899 427.865 L662.899 422.471 Z\" fill=\"#000000\" fill-rule=\"evenodd\" fill-opacity=\"1\" /><path clip-path=\"url(#clip140)\" d=\"M 0 0 M696.255 437.541 Q697.852 434.67 700.075 433.305 Q702.297 431.939 705.306 431.939 Q709.357 431.939 711.556 434.786 Q713.755 437.61 713.755 442.842 L713.755 458.49 L709.473 458.49 L709.473 442.981 Q709.473 439.254 708.153 437.448 Q706.834 435.643 704.125 435.643 Q700.815 435.643 698.894 437.842 Q696.973 440.041 696.973 443.837 L696.973 458.49 L692.69 458.49 L692.69 442.981 Q692.69 439.231 691.371 437.448 Q690.051 435.643 687.297 435.643 Q684.033 435.643 682.112 437.865 Q680.19 440.064 680.19 443.837 L680.19 458.49 L675.908 458.49 L675.908 432.564 L680.19 432.564 L680.19 436.592 Q681.649 434.207 683.686 433.073 Q685.723 431.939 688.524 431.939 Q691.348 431.939 693.315 433.374 Q695.306 434.809 696.255 437.541 Z\" fill=\"#000000\" fill-rule=\"evenodd\" fill-opacity=\"1\" /><path clip-path=\"url(#clip140)\" d=\"M 0 0 M722.25 432.564 L726.51 432.564 L726.51 458.49 L722.25 458.49 L722.25 432.564 M722.25 422.471 L726.51 422.471 L726.51 427.865 L722.25 427.865 L722.25 422.471 Z\" fill=\"#000000\" fill-rule=\"evenodd\" fill-opacity=\"1\" /><path clip-path=\"url(#clip140)\" d=\"M 0 0 M756.972 442.842 L756.972 458.49 L752.713 458.49 L752.713 442.981 Q752.713 439.3 751.278 437.471 Q749.843 435.643 746.972 435.643 Q743.523 435.643 741.533 437.842 Q739.542 440.041 739.542 443.837 L739.542 458.49 L735.26 458.49 L735.26 432.564 L739.542 432.564 L739.542 436.592 Q741.07 434.254 743.13 433.096 Q745.213 431.939 747.922 431.939 Q752.389 431.939 754.681 434.717 Q756.972 437.471 756.972 442.842 Z\" fill=\"#000000\" fill-rule=\"evenodd\" fill-opacity=\"1\" /><path clip-path=\"url(#clip140)\" d=\"M 0 0 M777.25 445.457 Q772.088 445.457 770.097 446.638 Q768.107 447.818 768.107 450.666 Q768.107 452.934 769.588 454.277 Q771.093 455.596 773.662 455.596 Q777.204 455.596 779.333 453.096 Q781.486 450.573 781.486 446.406 L781.486 445.457 L777.25 445.457 M785.745 443.698 L785.745 458.49 L781.486 458.49 L781.486 454.555 Q780.028 456.916 777.852 458.05 Q775.676 459.161 772.528 459.161 Q768.546 459.161 766.185 456.939 Q763.847 454.693 763.847 450.943 Q763.847 446.568 766.764 444.346 Q769.704 442.124 775.514 442.124 L781.486 442.124 L781.486 441.707 Q781.486 438.768 779.542 437.17 Q777.62 435.55 774.125 435.55 Q771.903 435.55 769.796 436.082 Q767.69 436.615 765.746 437.68 L765.746 433.744 Q768.083 432.842 770.283 432.402 Q772.482 431.939 774.565 431.939 Q780.19 431.939 782.968 434.856 Q785.745 437.772 785.745 443.698 Z\" fill=\"#000000\" fill-rule=\"evenodd\" fill-opacity=\"1\" /><path clip-path=\"url(#clip140)\" d=\"M 0 0 M813.176 433.559 L813.176 437.541 Q811.37 436.545 809.542 436.059 Q807.736 435.55 805.884 435.55 Q801.741 435.55 799.449 438.189 Q797.157 440.805 797.157 445.55 Q797.157 450.295 799.449 452.934 Q801.741 455.55 805.884 455.55 Q807.736 455.55 809.542 455.064 Q811.37 454.555 813.176 453.559 L813.176 457.494 Q811.393 458.328 809.472 458.744 Q807.574 459.161 805.421 459.161 Q799.565 459.161 796.116 455.48 Q792.667 451.8 792.667 445.55 Q792.667 439.207 796.139 435.573 Q799.634 431.939 805.699 431.939 Q807.667 431.939 809.542 432.356 Q811.417 432.749 813.176 433.559 M807.157 458.49 Q808.43 459.925 809.055 461.129 Q809.68 462.355 809.68 463.467 Q809.68 465.527 808.292 466.568 Q806.903 467.633 804.171 467.633 Q803.106 467.633 802.088 467.494 Q801.093 467.355 800.097 467.078 L800.097 464.045 Q800.884 464.439 801.741 464.601 Q802.597 464.786 803.685 464.786 Q805.051 464.786 805.745 464.23 Q806.44 463.675 806.44 462.61 Q806.44 461.916 805.93 460.897 Q805.444 459.902 804.403 458.49 L807.157 458.49 Z\" fill=\"#000000\" fill-rule=\"evenodd\" fill-opacity=\"1\" /><path clip-path=\"url(#clip140)\" d=\"M 0 0 M832.366 445.457 Q827.204 445.457 825.213 446.638 Q823.222 447.818 823.222 450.666 Q823.222 452.934 824.704 454.277 Q826.208 455.596 828.778 455.596 Q832.319 455.596 834.449 453.096 Q836.602 450.573 836.602 446.406 L836.602 445.457 L832.366 445.457 M840.861 443.698 L840.861 458.49 L836.602 458.49 L836.602 454.555 Q835.143 456.916 832.967 458.05 Q830.791 459.161 827.643 459.161 Q823.662 459.161 821.301 456.939 Q818.963 454.693 818.963 450.943 Q818.963 446.568 821.879 444.346 Q824.819 442.124 830.629 442.124 L836.602 442.124 L836.602 441.707 Q836.602 438.768 834.657 437.17 Q832.736 435.55 829.241 435.55 Q827.018 435.55 824.912 436.082 Q822.805 436.615 820.861 437.68 L820.861 433.744 Q823.199 432.842 825.398 432.402 Q827.597 431.939 829.68 431.939 Q835.305 431.939 838.083 434.856 Q840.861 437.772 840.861 443.698 M829.773 426.777 L828.454 425.504 Q827.944 425.041 827.551 424.832 Q827.18 424.601 826.879 424.601 Q826 424.601 825.583 425.457 Q825.167 426.291 825.12 428.189 L822.227 428.189 Q822.273 425.064 823.454 423.374 Q824.634 421.661 826.741 421.661 Q827.62 421.661 828.361 421.985 Q829.102 422.309 829.958 423.073 L831.278 424.346 Q831.787 424.809 832.157 425.041 Q832.551 425.249 832.852 425.249 Q833.731 425.249 834.148 424.416 Q834.565 423.559 834.611 421.661 L837.504 421.661 Q837.458 424.786 836.278 426.499 Q835.097 428.189 832.991 428.189 Q832.111 428.189 831.37 427.865 Q830.629 427.541 829.773 426.777 Z\" fill=\"#000000\" fill-rule=\"evenodd\" fill-opacity=\"1\" /><path clip-path=\"url(#clip140)\" d=\"M 0 0 M859.68 435.55 Q856.254 435.55 854.264 438.235 Q852.273 440.897 852.273 445.55 Q852.273 450.203 854.24 452.888 Q856.231 455.55 859.68 455.55 Q863.083 455.55 865.074 452.865 Q867.064 450.18 867.064 445.55 Q867.064 440.943 865.074 438.258 Q863.083 435.55 859.68 435.55 M859.68 431.939 Q865.236 431.939 868.407 435.55 Q871.578 439.161 871.578 445.55 Q871.578 451.916 868.407 455.55 Q865.236 459.161 859.68 459.161 Q854.102 459.161 850.93 455.55 Q847.782 451.916 847.782 445.55 Q847.782 439.161 850.93 435.55 Q854.102 431.939 859.68 431.939 Z\" fill=\"#000000\" fill-rule=\"evenodd\" fill-opacity=\"1\" /><path clip-path=\"url(#clip140)\" d=\"M 0 0 M910.768 436.499 L910.768 422.471 L915.027 422.471 L915.027 458.49 L910.768 458.49 L910.768 454.601 Q909.425 456.916 907.365 458.05 Q905.328 459.161 902.458 459.161 Q897.759 459.161 894.796 455.411 Q891.856 451.661 891.856 445.55 Q891.856 439.439 894.796 435.689 Q897.759 431.939 902.458 431.939 Q905.328 431.939 907.365 433.073 Q909.425 434.184 910.768 436.499 M896.254 445.55 Q896.254 450.249 898.175 452.934 Q900.12 455.596 903.499 455.596 Q906.879 455.596 908.823 452.934 Q910.768 450.249 910.768 445.55 Q910.768 440.851 908.823 438.189 Q906.879 435.504 903.499 435.504 Q900.12 435.504 898.175 438.189 Q896.254 440.851 896.254 445.55 Z\" fill=\"#000000\" fill-rule=\"evenodd\" fill-opacity=\"1\" /><path clip-path=\"url(#clip140)\" d=\"M 0 0 M945.976 444.462 L945.976 446.545 L926.393 446.545 Q926.671 450.943 929.032 453.258 Q931.416 455.55 935.652 455.55 Q938.106 455.55 940.397 454.948 Q942.712 454.346 944.981 453.143 L944.981 457.17 Q942.689 458.142 940.282 458.652 Q937.874 459.161 935.397 459.161 Q929.194 459.161 925.559 455.55 Q921.948 451.939 921.948 445.781 Q921.948 439.416 925.374 435.689 Q928.823 431.939 934.657 431.939 Q939.888 431.939 942.921 435.319 Q945.976 438.675 945.976 444.462 M941.717 443.212 Q941.671 439.717 939.749 437.633 Q937.851 435.55 934.703 435.55 Q931.138 435.55 928.985 437.564 Q926.856 439.578 926.532 443.235 L941.717 443.212 Z\" fill=\"#000000\" fill-rule=\"evenodd\" fill-opacity=\"1\" /><path clip-path=\"url(#clip140)\" d=\"M 0 0 M991.786 453.559 L991.786 444.277 L984.147 444.277 L984.147 440.434 L996.416 440.434 L996.416 455.272 Q993.707 457.193 990.443 458.189 Q987.18 459.161 983.476 459.161 Q975.374 459.161 970.791 454.439 Q966.231 449.693 966.231 441.244 Q966.231 432.772 970.791 428.05 Q975.374 423.305 983.476 423.305 Q986.855 423.305 989.888 424.138 Q992.943 424.971 995.513 426.592 L995.513 431.569 Q992.92 429.369 990.004 428.258 Q987.087 427.147 983.869 427.147 Q977.527 427.147 974.332 430.689 Q971.161 434.231 971.161 441.244 Q971.161 448.235 974.332 451.777 Q977.527 455.318 983.869 455.318 Q986.346 455.318 988.291 454.902 Q990.235 454.462 991.786 453.559 Z\" fill=\"#000000\" fill-rule=\"evenodd\" fill-opacity=\"1\" /><path clip-path=\"url(#clip140)\" d=\"M 0 0 M1016.55 445.457 Q1011.39 445.457 1009.4 446.638 Q1007.41 447.818 1007.41 450.666 Q1007.41 452.934 1008.89 454.277 Q1010.4 455.596 1012.97 455.596 Q1016.51 455.596 1018.64 453.096 Q1020.79 450.573 1020.79 446.406 L1020.79 445.457 L1016.55 445.457 M1025.05 443.698 L1025.05 458.49 L1020.79 458.49 L1020.79 454.555 Q1019.33 456.916 1017.16 458.05 Q1014.98 459.161 1011.83 459.161 Q1007.85 459.161 1005.49 456.939 Q1003.15 454.693 1003.15 450.943 Q1003.15 446.568 1006.07 444.346 Q1009.01 442.124 1014.82 442.124 L1020.79 442.124 L1020.79 441.707 Q1020.79 438.768 1018.85 437.17 Q1016.92 435.55 1013.43 435.55 Q1011.21 435.55 1009.1 436.082 Q1006.99 436.615 1005.05 437.68 L1005.05 433.744 Q1007.39 432.842 1009.59 432.402 Q1011.79 431.939 1013.87 431.939 Q1019.49 431.939 1022.27 434.856 Q1025.05 437.772 1025.05 443.698 Z\" fill=\"#000000\" fill-rule=\"evenodd\" fill-opacity=\"1\" /><path clip-path=\"url(#clip140)\" d=\"M 0 0 M1033.38 448.258 L1033.38 432.564 L1037.64 432.564 L1037.64 448.096 Q1037.64 451.777 1039.08 453.629 Q1040.51 455.457 1043.38 455.457 Q1046.83 455.457 1048.82 453.258 Q1050.84 451.059 1050.84 447.263 L1050.84 432.564 L1055.1 432.564 L1055.1 458.49 L1050.84 458.49 L1050.84 454.508 Q1049.29 456.869 1047.23 458.027 Q1045.19 459.161 1042.48 459.161 Q1038.01 459.161 1035.7 456.383 Q1033.38 453.605 1033.38 448.258 M1044.1 431.939 L1044.1 431.939 Z\" fill=\"#000000\" fill-rule=\"evenodd\" fill-opacity=\"1\" /><path clip-path=\"url(#clip140)\" d=\"M 0 0 M1080.4 433.328 L1080.4 437.356 Q1078.59 436.43 1076.65 435.967 Q1074.7 435.504 1072.62 435.504 Q1069.45 435.504 1067.85 436.476 Q1066.28 437.448 1066.28 439.393 Q1066.28 440.874 1067.41 441.731 Q1068.54 442.564 1071.97 443.328 L1073.43 443.652 Q1077.97 444.624 1079.86 446.406 Q1081.79 448.166 1081.79 451.337 Q1081.79 454.948 1078.92 457.055 Q1076.07 459.161 1071.07 459.161 Q1068.98 459.161 1066.72 458.744 Q1064.47 458.351 1061.97 457.541 L1061.97 453.143 Q1064.33 454.369 1066.62 454.994 Q1068.92 455.596 1071.16 455.596 Q1074.17 455.596 1075.79 454.578 Q1077.41 453.536 1077.41 451.661 Q1077.41 449.925 1076.23 448.999 Q1075.07 448.073 1071.11 447.217 L1069.63 446.869 Q1065.67 446.036 1063.92 444.323 Q1062.16 442.587 1062.16 439.578 Q1062.16 435.92 1064.75 433.93 Q1067.34 431.939 1072.11 431.939 Q1074.47 431.939 1076.55 432.286 Q1078.64 432.633 1080.4 433.328 Z\" fill=\"#000000\" fill-rule=\"evenodd\" fill-opacity=\"1\" /><path clip-path=\"url(#clip140)\" d=\"M 0 0 M1105.1 433.328 L1105.1 437.356 Q1103.29 436.43 1101.35 435.967 Q1099.4 435.504 1097.32 435.504 Q1094.15 435.504 1092.55 436.476 Q1090.98 437.448 1090.98 439.393 Q1090.98 440.874 1092.11 441.731 Q1093.24 442.564 1096.67 443.328 L1098.13 443.652 Q1102.67 444.624 1104.56 446.406 Q1106.48 448.166 1106.48 451.337 Q1106.48 454.948 1103.61 457.055 Q1100.77 459.161 1095.77 459.161 Q1093.68 459.161 1091.42 458.744 Q1089.17 458.351 1086.67 457.541 L1086.67 453.143 Q1089.03 454.369 1091.32 454.994 Q1093.61 455.596 1095.86 455.596 Q1098.87 455.596 1100.49 454.578 Q1102.11 453.536 1102.11 451.661 Q1102.11 449.925 1100.93 448.999 Q1099.77 448.073 1095.81 447.217 L1094.33 446.869 Q1090.37 446.036 1088.61 444.323 Q1086.85 442.587 1086.85 439.578 Q1086.85 435.92 1089.45 433.93 Q1092.04 431.939 1096.81 431.939 Q1099.17 431.939 1101.25 432.286 Q1103.34 432.633 1105.1 433.328 Z\" fill=\"#000000\" fill-rule=\"evenodd\" fill-opacity=\"1\" /><path clip-path=\"url(#clip140)\" d=\"M 0 0 M1111.11 443.606 L1123.59 443.606 L1123.59 447.402 L1111.11 447.402 L1111.11 443.606 Z\" fill=\"#000000\" fill-rule=\"evenodd\" fill-opacity=\"1\" /><path clip-path=\"url(#clip140)\" d=\"M 0 0 M1133.2 423.93 L1137.87 423.93 L1137.87 456.082 Q1137.87 462.332 1135.49 465.156 Q1133.13 467.98 1127.87 467.98 L1126.09 467.98 L1126.09 464.045 L1127.55 464.045 Q1130.65 464.045 1131.92 462.309 Q1133.2 460.573 1133.2 456.082 L1133.2 423.93 Z\" fill=\"#000000\" fill-rule=\"evenodd\" fill-opacity=\"1\" /><path clip-path=\"url(#clip140)\" d=\"M 0 0 M1158.78 445.457 Q1153.61 445.457 1151.62 446.638 Q1149.63 447.818 1149.63 450.666 Q1149.63 452.934 1151.11 454.277 Q1152.62 455.596 1155.19 455.596 Q1158.73 455.596 1160.86 453.096 Q1163.01 450.573 1163.01 446.406 L1163.01 445.457 L1158.78 445.457 M1167.27 443.698 L1167.27 458.49 L1163.01 458.49 L1163.01 454.555 Q1161.55 456.916 1159.38 458.05 Q1157.2 459.161 1154.05 459.161 Q1150.07 459.161 1147.71 456.939 Q1145.37 454.693 1145.37 450.943 Q1145.37 446.568 1148.29 444.346 Q1151.23 442.124 1157.04 442.124 L1163.01 442.124 L1163.01 441.707 Q1163.01 438.768 1161.07 437.17 Q1159.15 435.55 1155.65 435.55 Q1153.43 435.55 1151.32 436.082 Q1149.22 436.615 1147.27 437.68 L1147.27 433.744 Q1149.61 432.842 1151.81 432.402 Q1154.01 431.939 1156.09 431.939 Q1161.72 431.939 1164.49 434.856 Q1167.27 437.772 1167.27 443.698 Z\" fill=\"#000000\" fill-rule=\"evenodd\" fill-opacity=\"1\" /><path clip-path=\"url(#clip140)\" d=\"M 0 0 M1194.7 433.559 L1194.7 437.541 Q1192.9 436.545 1191.07 436.059 Q1189.26 435.55 1187.41 435.55 Q1183.27 435.55 1180.97 438.189 Q1178.68 440.805 1178.68 445.55 Q1178.68 450.295 1180.97 452.934 Q1183.27 455.55 1187.41 455.55 Q1189.26 455.55 1191.07 455.064 Q1192.9 454.555 1194.7 453.559 L1194.7 457.494 Q1192.92 458.328 1191 458.744 Q1189.1 459.161 1186.95 459.161 Q1181.09 459.161 1177.64 455.48 Q1174.19 451.8 1174.19 445.55 Q1174.19 439.207 1177.66 435.573 Q1181.16 431.939 1187.22 431.939 Q1189.19 431.939 1191.07 432.356 Q1192.94 432.749 1194.7 433.559 Z\" fill=\"#000000\" fill-rule=\"evenodd\" fill-opacity=\"1\" /><path clip-path=\"url(#clip140)\" d=\"M 0 0 M1212.16 435.55 Q1208.73 435.55 1206.74 438.235 Q1204.75 440.897 1204.75 445.55 Q1204.75 450.203 1206.72 452.888 Q1208.71 455.55 1212.16 455.55 Q1215.56 455.55 1217.55 452.865 Q1219.54 450.18 1219.54 445.55 Q1219.54 440.943 1217.55 438.258 Q1215.56 435.55 1212.16 435.55 M1212.16 431.939 Q1217.71 431.939 1220.88 435.55 Q1224.05 439.161 1224.05 445.55 Q1224.05 451.916 1220.88 455.55 Q1217.71 459.161 1212.16 459.161 Q1206.58 459.161 1203.41 455.55 Q1200.26 451.916 1200.26 445.55 Q1200.26 439.161 1203.41 435.55 Q1206.58 431.939 1212.16 431.939 Z\" fill=\"#000000\" fill-rule=\"evenodd\" fill-opacity=\"1\" /><path clip-path=\"url(#clip140)\" d=\"M 0 0 M1249.72 445.55 Q1249.72 440.851 1247.78 438.189 Q1245.86 435.504 1242.48 435.504 Q1239.1 435.504 1237.16 438.189 Q1235.23 440.851 1235.23 445.55 Q1235.23 450.249 1237.16 452.934 Q1239.1 455.596 1242.48 455.596 Q1245.86 455.596 1247.78 452.934 Q1249.72 450.249 1249.72 445.55 M1235.23 436.499 Q1236.58 434.184 1238.61 433.073 Q1240.67 431.939 1243.52 431.939 Q1248.24 431.939 1251.18 435.689 Q1254.15 439.439 1254.15 445.55 Q1254.15 451.661 1251.18 455.411 Q1248.24 459.161 1243.52 459.161 Q1240.67 459.161 1238.61 458.05 Q1236.58 456.916 1235.23 454.601 L1235.23 458.49 L1230.95 458.49 L1230.95 422.471 L1235.23 422.471 L1235.23 436.499 Z\" fill=\"#000000\" fill-rule=\"evenodd\" fill-opacity=\"1\" /><path clip-path=\"url(#clip140)\" d=\"M 0 0 M1261.21 432.564 L1265.47 432.564 L1265.47 458.49 L1261.21 458.49 L1261.21 432.564 M1261.21 422.471 L1265.47 422.471 L1265.47 427.865 L1261.21 427.865 L1261.21 422.471 Z\" fill=\"#000000\" fill-rule=\"evenodd\" fill-opacity=\"1\" /><polyline clip-path=\"url(#clip140)\" style=\"stroke:#ac8d18; stroke-width:4; stroke-opacity:1; fill:none\" points=\"\n",
       "  451.493,501.69 595.893,501.69 \n",
       "  \"/>\n",
       "<path clip-path=\"url(#clip140)\" d=\"M 0 0 M619.959 484.41 L641.811 484.41 L641.811 488.345 L624.635 488.345 L624.635 498.576 L641.093 498.576 L641.093 502.511 L624.635 502.511 L624.635 515.035 L642.228 515.035 L642.228 518.97 L619.959 518.97 L619.959 484.41 Z\" fill=\"#000000\" fill-rule=\"evenodd\" fill-opacity=\"1\" /><path clip-path=\"url(#clip140)\" d=\"M 0 0 M649.728 482.951 L653.987 482.951 L653.987 518.97 L649.728 518.97 L649.728 482.951 Z\" fill=\"#000000\" fill-rule=\"evenodd\" fill-opacity=\"1\" /><path clip-path=\"url(#clip140)\" d=\"M 0 0 M662.899 493.044 L667.158 493.044 L667.158 518.97 L662.899 518.97 L662.899 493.044 M662.899 482.951 L667.158 482.951 L667.158 488.345 L662.899 488.345 L662.899 482.951 Z\" fill=\"#000000\" fill-rule=\"evenodd\" fill-opacity=\"1\" /><path clip-path=\"url(#clip140)\" d=\"M 0 0 M696.255 498.021 Q697.852 495.15 700.075 493.785 Q702.297 492.419 705.306 492.419 Q709.357 492.419 711.556 495.266 Q713.755 498.09 713.755 503.322 L713.755 518.97 L709.473 518.97 L709.473 503.461 Q709.473 499.734 708.153 497.928 Q706.834 496.123 704.125 496.123 Q700.815 496.123 698.894 498.322 Q696.973 500.521 696.973 504.317 L696.973 518.97 L692.69 518.97 L692.69 503.461 Q692.69 499.711 691.371 497.928 Q690.051 496.123 687.297 496.123 Q684.033 496.123 682.112 498.345 Q680.19 500.544 680.19 504.317 L680.19 518.97 L675.908 518.97 L675.908 493.044 L680.19 493.044 L680.19 497.072 Q681.649 494.687 683.686 493.553 Q685.723 492.419 688.524 492.419 Q691.348 492.419 693.315 493.854 Q695.306 495.289 696.255 498.021 Z\" fill=\"#000000\" fill-rule=\"evenodd\" fill-opacity=\"1\" /><path clip-path=\"url(#clip140)\" d=\"M 0 0 M722.25 493.044 L726.51 493.044 L726.51 518.97 L722.25 518.97 L722.25 493.044 M722.25 482.951 L726.51 482.951 L726.51 488.345 L722.25 488.345 L722.25 482.951 Z\" fill=\"#000000\" fill-rule=\"evenodd\" fill-opacity=\"1\" /><path clip-path=\"url(#clip140)\" d=\"M 0 0 M756.972 503.322 L756.972 518.97 L752.713 518.97 L752.713 503.461 Q752.713 499.78 751.278 497.951 Q749.843 496.123 746.972 496.123 Q743.523 496.123 741.533 498.322 Q739.542 500.521 739.542 504.317 L739.542 518.97 L735.26 518.97 L735.26 493.044 L739.542 493.044 L739.542 497.072 Q741.07 494.734 743.13 493.576 Q745.213 492.419 747.922 492.419 Q752.389 492.419 754.681 495.197 Q756.972 497.951 756.972 503.322 Z\" fill=\"#000000\" fill-rule=\"evenodd\" fill-opacity=\"1\" /><path clip-path=\"url(#clip140)\" d=\"M 0 0 M777.25 505.937 Q772.088 505.937 770.097 507.118 Q768.107 508.298 768.107 511.146 Q768.107 513.414 769.588 514.757 Q771.093 516.076 773.662 516.076 Q777.204 516.076 779.333 513.576 Q781.486 511.053 781.486 506.886 L781.486 505.937 L777.25 505.937 M785.745 504.178 L785.745 518.97 L781.486 518.97 L781.486 515.035 Q780.028 517.396 777.852 518.53 Q775.676 519.641 772.528 519.641 Q768.546 519.641 766.185 517.419 Q763.847 515.173 763.847 511.423 Q763.847 507.048 766.764 504.826 Q769.704 502.604 775.514 502.604 L781.486 502.604 L781.486 502.187 Q781.486 499.248 779.542 497.65 Q777.62 496.03 774.125 496.03 Q771.903 496.03 769.796 496.562 Q767.69 497.095 765.746 498.16 L765.746 494.224 Q768.083 493.322 770.283 492.882 Q772.482 492.419 774.565 492.419 Q780.19 492.419 782.968 495.336 Q785.745 498.252 785.745 504.178 Z\" fill=\"#000000\" fill-rule=\"evenodd\" fill-opacity=\"1\" /><path clip-path=\"url(#clip140)\" d=\"M 0 0 M813.176 494.039 L813.176 498.021 Q811.37 497.025 809.542 496.539 Q807.736 496.03 805.884 496.03 Q801.741 496.03 799.449 498.669 Q797.157 501.285 797.157 506.03 Q797.157 510.775 799.449 513.414 Q801.741 516.03 805.884 516.03 Q807.736 516.03 809.542 515.544 Q811.37 515.035 813.176 514.039 L813.176 517.974 Q811.393 518.808 809.472 519.224 Q807.574 519.641 805.421 519.641 Q799.565 519.641 796.116 515.96 Q792.667 512.28 792.667 506.03 Q792.667 499.687 796.139 496.053 Q799.634 492.419 805.699 492.419 Q807.667 492.419 809.542 492.836 Q811.417 493.229 813.176 494.039 M807.157 518.97 Q808.43 520.405 809.055 521.609 Q809.68 522.835 809.68 523.947 Q809.68 526.007 808.292 527.048 Q806.903 528.113 804.171 528.113 Q803.106 528.113 802.088 527.974 Q801.093 527.835 800.097 527.558 L800.097 524.525 Q800.884 524.919 801.741 525.081 Q802.597 525.266 803.685 525.266 Q805.051 525.266 805.745 524.71 Q806.44 524.155 806.44 523.09 Q806.44 522.396 805.93 521.377 Q805.444 520.382 804.403 518.97 L807.157 518.97 Z\" fill=\"#000000\" fill-rule=\"evenodd\" fill-opacity=\"1\" /><path clip-path=\"url(#clip140)\" d=\"M 0 0 M832.366 505.937 Q827.204 505.937 825.213 507.118 Q823.222 508.298 823.222 511.146 Q823.222 513.414 824.704 514.757 Q826.208 516.076 828.778 516.076 Q832.319 516.076 834.449 513.576 Q836.602 511.053 836.602 506.886 L836.602 505.937 L832.366 505.937 M840.861 504.178 L840.861 518.97 L836.602 518.97 L836.602 515.035 Q835.143 517.396 832.967 518.53 Q830.791 519.641 827.643 519.641 Q823.662 519.641 821.301 517.419 Q818.963 515.173 818.963 511.423 Q818.963 507.048 821.879 504.826 Q824.819 502.604 830.629 502.604 L836.602 502.604 L836.602 502.187 Q836.602 499.248 834.657 497.65 Q832.736 496.03 829.241 496.03 Q827.018 496.03 824.912 496.562 Q822.805 497.095 820.861 498.16 L820.861 494.224 Q823.199 493.322 825.398 492.882 Q827.597 492.419 829.68 492.419 Q835.305 492.419 838.083 495.336 Q840.861 498.252 840.861 504.178 M829.773 487.257 L828.454 485.984 Q827.944 485.521 827.551 485.312 Q827.18 485.081 826.879 485.081 Q826 485.081 825.583 485.937 Q825.167 486.771 825.12 488.669 L822.227 488.669 Q822.273 485.544 823.454 483.854 Q824.634 482.141 826.741 482.141 Q827.62 482.141 828.361 482.465 Q829.102 482.789 829.958 483.553 L831.278 484.826 Q831.787 485.289 832.157 485.521 Q832.551 485.729 832.852 485.729 Q833.731 485.729 834.148 484.896 Q834.565 484.039 834.611 482.141 L837.504 482.141 Q837.458 485.266 836.278 486.979 Q835.097 488.669 832.991 488.669 Q832.111 488.669 831.37 488.345 Q830.629 488.021 829.773 487.257 Z\" fill=\"#000000\" fill-rule=\"evenodd\" fill-opacity=\"1\" /><path clip-path=\"url(#clip140)\" d=\"M 0 0 M859.68 496.03 Q856.254 496.03 854.264 498.715 Q852.273 501.377 852.273 506.03 Q852.273 510.683 854.24 513.368 Q856.231 516.03 859.68 516.03 Q863.083 516.03 865.074 513.345 Q867.064 510.66 867.064 506.03 Q867.064 501.423 865.074 498.738 Q863.083 496.03 859.68 496.03 M859.68 492.419 Q865.236 492.419 868.407 496.03 Q871.578 499.641 871.578 506.03 Q871.578 512.396 868.407 516.03 Q865.236 519.641 859.68 519.641 Q854.102 519.641 850.93 516.03 Q847.782 512.396 847.782 506.03 Q847.782 499.641 850.93 496.03 Q854.102 492.419 859.68 492.419 Z\" fill=\"#000000\" fill-rule=\"evenodd\" fill-opacity=\"1\" /><path clip-path=\"url(#clip140)\" d=\"M 0 0 M910.768 496.979 L910.768 482.951 L915.027 482.951 L915.027 518.97 L910.768 518.97 L910.768 515.081 Q909.425 517.396 907.365 518.53 Q905.328 519.641 902.458 519.641 Q897.759 519.641 894.796 515.891 Q891.856 512.141 891.856 506.03 Q891.856 499.919 894.796 496.169 Q897.759 492.419 902.458 492.419 Q905.328 492.419 907.365 493.553 Q909.425 494.664 910.768 496.979 M896.254 506.03 Q896.254 510.729 898.175 513.414 Q900.12 516.076 903.499 516.076 Q906.879 516.076 908.823 513.414 Q910.768 510.729 910.768 506.03 Q910.768 501.331 908.823 498.669 Q906.879 495.984 903.499 495.984 Q900.12 495.984 898.175 498.669 Q896.254 501.331 896.254 506.03 Z\" fill=\"#000000\" fill-rule=\"evenodd\" fill-opacity=\"1\" /><path clip-path=\"url(#clip140)\" d=\"M 0 0 M945.976 504.942 L945.976 507.025 L926.393 507.025 Q926.671 511.423 929.032 513.738 Q931.416 516.03 935.652 516.03 Q938.106 516.03 940.397 515.428 Q942.712 514.826 944.981 513.623 L944.981 517.65 Q942.689 518.622 940.282 519.132 Q937.874 519.641 935.397 519.641 Q929.194 519.641 925.559 516.03 Q921.948 512.419 921.948 506.261 Q921.948 499.896 925.374 496.169 Q928.823 492.419 934.657 492.419 Q939.888 492.419 942.921 495.799 Q945.976 499.155 945.976 504.942 M941.717 503.692 Q941.671 500.197 939.749 498.113 Q937.851 496.03 934.703 496.03 Q931.138 496.03 928.985 498.044 Q926.856 500.058 926.532 503.715 L941.717 503.692 Z\" fill=\"#000000\" fill-rule=\"evenodd\" fill-opacity=\"1\" /><path clip-path=\"url(#clip140)\" d=\"M 0 0 M991.786 514.039 L991.786 504.757 L984.147 504.757 L984.147 500.914 L996.416 500.914 L996.416 515.752 Q993.707 517.673 990.443 518.669 Q987.18 519.641 983.476 519.641 Q975.374 519.641 970.791 514.919 Q966.231 510.173 966.231 501.724 Q966.231 493.252 970.791 488.53 Q975.374 483.785 983.476 483.785 Q986.855 483.785 989.888 484.618 Q992.943 485.451 995.513 487.072 L995.513 492.049 Q992.92 489.849 990.004 488.738 Q987.087 487.627 983.869 487.627 Q977.527 487.627 974.332 491.169 Q971.161 494.711 971.161 501.724 Q971.161 508.715 974.332 512.257 Q977.527 515.798 983.869 515.798 Q986.346 515.798 988.291 515.382 Q990.235 514.942 991.786 514.039 Z\" fill=\"#000000\" fill-rule=\"evenodd\" fill-opacity=\"1\" /><path clip-path=\"url(#clip140)\" d=\"M 0 0 M1016.55 505.937 Q1011.39 505.937 1009.4 507.118 Q1007.41 508.298 1007.41 511.146 Q1007.41 513.414 1008.89 514.757 Q1010.4 516.076 1012.97 516.076 Q1016.51 516.076 1018.64 513.576 Q1020.79 511.053 1020.79 506.886 L1020.79 505.937 L1016.55 505.937 M1025.05 504.178 L1025.05 518.97 L1020.79 518.97 L1020.79 515.035 Q1019.33 517.396 1017.16 518.53 Q1014.98 519.641 1011.83 519.641 Q1007.85 519.641 1005.49 517.419 Q1003.15 515.173 1003.15 511.423 Q1003.15 507.048 1006.07 504.826 Q1009.01 502.604 1014.82 502.604 L1020.79 502.604 L1020.79 502.187 Q1020.79 499.248 1018.85 497.65 Q1016.92 496.03 1013.43 496.03 Q1011.21 496.03 1009.1 496.562 Q1006.99 497.095 1005.05 498.16 L1005.05 494.224 Q1007.39 493.322 1009.59 492.882 Q1011.79 492.419 1013.87 492.419 Q1019.49 492.419 1022.27 495.336 Q1025.05 498.252 1025.05 504.178 Z\" fill=\"#000000\" fill-rule=\"evenodd\" fill-opacity=\"1\" /><path clip-path=\"url(#clip140)\" d=\"M 0 0 M1033.38 508.738 L1033.38 493.044 L1037.64 493.044 L1037.64 508.576 Q1037.64 512.257 1039.08 514.109 Q1040.51 515.937 1043.38 515.937 Q1046.83 515.937 1048.82 513.738 Q1050.84 511.539 1050.84 507.743 L1050.84 493.044 L1055.1 493.044 L1055.1 518.97 L1050.84 518.97 L1050.84 514.988 Q1049.29 517.349 1047.23 518.507 Q1045.19 519.641 1042.48 519.641 Q1038.01 519.641 1035.7 516.863 Q1033.38 514.085 1033.38 508.738 M1044.1 492.419 L1044.1 492.419 Z\" fill=\"#000000\" fill-rule=\"evenodd\" fill-opacity=\"1\" /><path clip-path=\"url(#clip140)\" d=\"M 0 0 M1080.4 493.808 L1080.4 497.836 Q1078.59 496.91 1076.65 496.447 Q1074.7 495.984 1072.62 495.984 Q1069.45 495.984 1067.85 496.956 Q1066.28 497.928 1066.28 499.873 Q1066.28 501.354 1067.41 502.211 Q1068.54 503.044 1071.97 503.808 L1073.43 504.132 Q1077.97 505.104 1079.86 506.886 Q1081.79 508.646 1081.79 511.817 Q1081.79 515.428 1078.92 517.535 Q1076.07 519.641 1071.07 519.641 Q1068.98 519.641 1066.72 519.224 Q1064.47 518.831 1061.97 518.021 L1061.97 513.623 Q1064.33 514.849 1066.62 515.474 Q1068.92 516.076 1071.16 516.076 Q1074.17 516.076 1075.79 515.058 Q1077.41 514.016 1077.41 512.141 Q1077.41 510.405 1076.23 509.479 Q1075.07 508.553 1071.11 507.697 L1069.63 507.349 Q1065.67 506.516 1063.92 504.803 Q1062.16 503.067 1062.16 500.058 Q1062.16 496.4 1064.75 494.41 Q1067.34 492.419 1072.11 492.419 Q1074.47 492.419 1076.55 492.766 Q1078.64 493.113 1080.4 493.808 Z\" fill=\"#000000\" fill-rule=\"evenodd\" fill-opacity=\"1\" /><path clip-path=\"url(#clip140)\" d=\"M 0 0 M1105.1 493.808 L1105.1 497.836 Q1103.29 496.91 1101.35 496.447 Q1099.4 495.984 1097.32 495.984 Q1094.15 495.984 1092.55 496.956 Q1090.98 497.928 1090.98 499.873 Q1090.98 501.354 1092.11 502.211 Q1093.24 503.044 1096.67 503.808 L1098.13 504.132 Q1102.67 505.104 1104.56 506.886 Q1106.48 508.646 1106.48 511.817 Q1106.48 515.428 1103.61 517.535 Q1100.77 519.641 1095.77 519.641 Q1093.68 519.641 1091.42 519.224 Q1089.17 518.831 1086.67 518.021 L1086.67 513.623 Q1089.03 514.849 1091.32 515.474 Q1093.61 516.076 1095.86 516.076 Q1098.87 516.076 1100.49 515.058 Q1102.11 514.016 1102.11 512.141 Q1102.11 510.405 1100.93 509.479 Q1099.77 508.553 1095.81 507.697 L1094.33 507.349 Q1090.37 506.516 1088.61 504.803 Q1086.85 503.067 1086.85 500.058 Q1086.85 496.4 1089.45 494.41 Q1092.04 492.419 1096.81 492.419 Q1099.17 492.419 1101.25 492.766 Q1103.34 493.113 1105.1 493.808 Z\" fill=\"#000000\" fill-rule=\"evenodd\" fill-opacity=\"1\" /><path clip-path=\"url(#clip140)\" d=\"M 0 0 M1111.11 504.086 L1123.59 504.086 L1123.59 507.882 L1111.11 507.882 L1111.11 504.086 Z\" fill=\"#000000\" fill-rule=\"evenodd\" fill-opacity=\"1\" /><path clip-path=\"url(#clip140)\" d=\"M 0 0 M1151.28 485.544 L1151.28 490.104 Q1148.61 488.831 1146.25 488.206 Q1143.89 487.581 1141.69 487.581 Q1137.87 487.581 1135.79 489.062 Q1133.73 490.544 1133.73 493.275 Q1133.73 495.567 1135.1 496.748 Q1136.48 497.905 1140.33 498.623 L1143.15 499.201 Q1148.38 500.197 1150.86 502.72 Q1153.36 505.22 1153.36 509.433 Q1153.36 514.456 1149.98 517.048 Q1146.62 519.641 1140.12 519.641 Q1137.66 519.641 1134.89 519.085 Q1132.13 518.53 1129.17 517.442 L1129.17 512.627 Q1132.02 514.224 1134.75 515.035 Q1137.48 515.845 1140.12 515.845 Q1144.12 515.845 1146.3 514.271 Q1148.47 512.697 1148.47 509.78 Q1148.47 507.234 1146.9 505.798 Q1145.35 504.363 1141.79 503.646 L1138.94 503.09 Q1133.71 502.048 1131.37 499.826 Q1129.03 497.604 1129.03 493.646 Q1129.03 489.062 1132.25 486.424 Q1135.49 483.785 1141.16 483.785 Q1143.59 483.785 1146.11 484.225 Q1148.64 484.664 1151.28 485.544 Z\" fill=\"#000000\" fill-rule=\"evenodd\" fill-opacity=\"1\" /><path clip-path=\"url(#clip140)\" d=\"M 0 0 M1182.64 504.942 L1182.64 507.025 L1163.06 507.025 Q1163.34 511.423 1165.7 513.738 Q1168.08 516.03 1172.32 516.03 Q1174.77 516.03 1177.06 515.428 Q1179.38 514.826 1181.65 513.623 L1181.65 517.65 Q1179.35 518.622 1176.95 519.132 Q1174.54 519.641 1172.06 519.641 Q1165.86 519.641 1162.22 516.03 Q1158.61 512.419 1158.61 506.261 Q1158.61 499.896 1162.04 496.169 Q1165.49 492.419 1171.32 492.419 Q1176.55 492.419 1179.59 495.799 Q1182.64 499.155 1182.64 504.942 M1178.38 503.692 Q1178.34 500.197 1176.41 498.113 Q1174.52 496.03 1171.37 496.03 Q1167.8 496.03 1165.65 498.044 Q1163.52 500.058 1163.2 503.715 L1178.38 503.692 Z\" fill=\"#000000\" fill-rule=\"evenodd\" fill-opacity=\"1\" /><path clip-path=\"url(#clip140)\" d=\"M 0 0 M1189.63 493.044 L1193.89 493.044 L1193.89 518.97 L1189.63 518.97 L1189.63 493.044 M1189.63 482.951 L1193.89 482.951 L1193.89 488.345 L1189.63 488.345 L1189.63 482.951 Z\" fill=\"#000000\" fill-rule=\"evenodd\" fill-opacity=\"1\" /><path clip-path=\"url(#clip140)\" d=\"M 0 0 M1219.86 496.979 L1219.86 482.951 L1224.12 482.951 L1224.12 518.97 L1219.86 518.97 L1219.86 515.081 Q1218.52 517.396 1216.46 518.53 Q1214.42 519.641 1211.55 519.641 Q1206.85 519.641 1203.89 515.891 Q1200.95 512.141 1200.95 506.03 Q1200.95 499.919 1203.89 496.169 Q1206.85 492.419 1211.55 492.419 Q1214.42 492.419 1216.46 493.553 Q1218.52 494.664 1219.86 496.979 M1205.35 506.03 Q1205.35 510.729 1207.27 513.414 Q1209.22 516.076 1212.59 516.076 Q1215.97 516.076 1217.92 513.414 Q1219.86 510.729 1219.86 506.03 Q1219.86 501.331 1217.92 498.669 Q1215.97 495.984 1212.59 495.984 Q1209.22 495.984 1207.27 498.669 Q1205.35 501.331 1205.35 506.03 Z\" fill=\"#000000\" fill-rule=\"evenodd\" fill-opacity=\"1\" /><path clip-path=\"url(#clip140)\" d=\"M 0 0 M1255.07 504.942 L1255.07 507.025 L1235.49 507.025 Q1235.77 511.423 1238.13 513.738 Q1240.51 516.03 1244.75 516.03 Q1247.2 516.03 1249.49 515.428 Q1251.81 514.826 1254.08 513.623 L1254.08 517.65 Q1251.78 518.622 1249.38 519.132 Q1246.97 519.641 1244.49 519.641 Q1238.29 519.641 1234.66 516.03 Q1231.04 512.419 1231.04 506.261 Q1231.04 499.896 1234.47 496.169 Q1237.92 492.419 1243.75 492.419 Q1248.98 492.419 1252.02 495.799 Q1255.07 499.155 1255.07 504.942 M1250.81 503.692 Q1250.77 500.197 1248.84 498.113 Q1246.95 496.03 1243.8 496.03 Q1240.23 496.03 1238.08 498.044 Q1235.95 500.058 1235.63 503.715 L1250.81 503.692 Z\" fill=\"#000000\" fill-rule=\"evenodd\" fill-opacity=\"1\" /><path clip-path=\"url(#clip140)\" d=\"M 0 0 M1262.06 482.951 L1266.32 482.951 L1266.32 518.97 L1262.06 518.97 L1262.06 482.951 Z\" fill=\"#000000\" fill-rule=\"evenodd\" fill-opacity=\"1\" /></svg>\n"
      ]
     },
     "execution_count": 187,
     "metadata": {},
     "output_type": "execute_result"
    }
   ],
   "source": [
    "#Generate the plots for each of the running times\n",
    "#gauss_elimination_time, lu_decomposition_time,\n",
    "x = 1:4\n",
    "y = gauss_elimination_time # These are the plotting data\n",
    "p = plot(x,y, title = \"Comparação de Tempo de Execução entre Métodos\", label=\"Eliminação Gaussiana\", legend=(0.2, 0.9))\n",
    "z = lu_decomposition_time\n",
    "p_1 = plot!(p, x, z, label=\"Decomposição LU\")\n",
    "w = gauss_jordan_time\n",
    "p_2 = plot!(p_1, x, w, label=\"Eliminação de Gauss-Jordan\")\n",
    "a = jacobi_time\n",
    "p_3 = plot!(p_2, x, a, label=\"Eliminação de Gauss-Jacobi\")\n",
    "b = gauss_seidel_time\n",
    "plot!(p_3, x, b, label=\"Eliminação de Gauss-Seidel\")"
   ]
  },
  {
   "cell_type": "code",
   "execution_count": 247,
   "id": "70b6905c",
   "metadata": {},
   "outputs": [
    {
     "data": {
      "text/plain": [
       "4-element Vector{Any}:\n",
       " 8.628166150854817e-32\n",
       " 4.1086505480261044e-32\n",
       " 7.917650392424995e-14\n",
       " 1.0076876334088816e-28"
      ]
     },
     "execution_count": 247,
     "metadata": {},
     "output_type": "execute_result"
    }
   ],
   "source": [
    "function get_mse_gauss_elimination(matrixes)\n",
    "    #FUNCTION TO GET THE RUNNING TIME OF EACH ALGORITHM\n",
    "    errors = []\n",
    "    for matrix in matrixes\n",
    "        _inner_error_list = []\n",
    "        for i in 1:50\n",
    "            run_function = mean_squared_error(gauss_elimination(matrix[1],matrix[2],matrix[3])[1], gauss_elimination(matrix[1],matrix[2],matrix[3])[2])\n",
    "            append!(_inner_error_list, run_function)\n",
    "        end\n",
    "        error = Statistics.mean(_inner_error_list)\n",
    "        append!(errors, error)\n",
    "    end\n",
    "    return errors\n",
    "end\n",
    "\n",
    "mse_gauss_elimination = get_mse_gauss_elimination(matrix_array)"
   ]
  },
  {
   "cell_type": "code",
   "execution_count": 248,
   "id": "92aa169e",
   "metadata": {},
   "outputs": [
    {
     "data": {
      "text/plain": [
       "4-element Vector{Any}:\n",
       "    0.015048000978449787\n",
       "    0.014073788290796916\n",
       "    3.2474120103370554e17\n",
       " 1085.0152718447905"
      ]
     },
     "execution_count": 248,
     "metadata": {},
     "output_type": "execute_result"
    }
   ],
   "source": [
    "function get_mse_lu(matrixes)\n",
    "    #FUNCTION TO GET THE RUNNING TIME OF EACH ALGORITHM\n",
    "    errors = []\n",
    "    for matrix in matrixes\n",
    "        _inner_error_list = []\n",
    "        for i in 1:50\n",
    "            run_function = mean_squared_error(LU_Factorization(matrix[1],matrix[2],matrix[3])[1], LU_Factorization(matrix[1],matrix[2],matrix[3])[2])\n",
    "            append!(_inner_error_list, run_function)\n",
    "        end\n",
    "        error = Statistics.mean(_inner_error_list)\n",
    "        append!(errors, error)\n",
    "    end\n",
    "    return errors\n",
    "end\n",
    "\n",
    "mse_lu = get_mse_lu(matrix_array)"
   ]
  },
  {
   "cell_type": "code",
   "execution_count": 249,
   "id": "dd13aa62",
   "metadata": {},
   "outputs": [
    {
     "data": {
      "text/plain": [
       "4-element Vector{Any}:\n",
       "    0.015355103039234477\n",
       "    0.014361008459996853\n",
       "    3.313685724833812e17\n",
       " 1107.1584406579493"
      ]
     },
     "execution_count": 249,
     "metadata": {},
     "output_type": "execute_result"
    }
   ],
   "source": [
    "function get_mse_gauss_jordan(matrixes)\n",
    "    #FUNCTION TO GET THE RUNNING TIME OF EACH ALGORITHM\n",
    "    errors = []\n",
    "    for matrix in matrixes\n",
    "        _inner_error_list = []\n",
    "        for i in 1:50\n",
    "            run_function = mean_squared_error(gauss_jordan_elimination(matrix[1],matrix[2],matrix[3])[1], gauss_jordan_elimination(matrix[1],matrix[2],matrix[3])[2])\n",
    "            append!(_inner_error_list, run_function)\n",
    "        end\n",
    "        error = Statistics.mean(_inner_error_list)\n",
    "        append!(errors, error)\n",
    "    end\n",
    "    return errors\n",
    "end\n",
    "\n",
    "mse_gauss_jordan = get_mse_gauss_jordan(matrix_array)"
   ]
  },
  {
   "cell_type": "code",
   "execution_count": 250,
   "id": "8838b170",
   "metadata": {},
   "outputs": [
    {
     "data": {
      "text/plain": [
       "4-element Vector{Any}:\n",
       "    0.015355103623457385\n",
       "    0.01436100864044912\n",
       "    3.313685724833628e17\n",
       " 1107.1584406579493"
      ]
     },
     "execution_count": 250,
     "metadata": {},
     "output_type": "execute_result"
    }
   ],
   "source": [
    "function get_mse_jacobi(matrixes)\n",
    "    #FUNCTION TO GET THE RUNNING TIME OF EACH ALGORITHM\n",
    "    errors = []\n",
    "    for matrix in matrixes\n",
    "        _inner_error_list = []\n",
    "        for i in 1:50\n",
    "            run_function = mean_squared_error(jacobi_elimination(matrix[1],matrix[2],matrix[3])[1], jacobi_elimination(matrix[1],matrix[2],matrix[3])[2])\n",
    "            append!(_inner_error_list, run_function)\n",
    "        end\n",
    "        error = Statistics.mean(_inner_error_list)\n",
    "        append!(errors, error)\n",
    "    end\n",
    "    return errors\n",
    "end\n",
    "\n",
    "mse_gauss_jacobi = get_mse_jacobi(matrix_array)"
   ]
  },
  {
   "cell_type": "code",
   "execution_count": 301,
   "id": "1e0b5d95",
   "metadata": {},
   "outputs": [
    {
     "data": {
      "text/plain": [
       "4-element Vector{Any}:\n",
       "    0.015355103623457394\n",
       "    0.014361008640449122\n",
       "    3.313685724833628e17\n",
       " 1107.1584406579493"
      ]
     },
     "execution_count": 301,
     "metadata": {},
     "output_type": "execute_result"
    }
   ],
   "source": [
    "function get_mse_gauss_seidel(matrixes)\n",
    "    #FUNCTION TO GET THE RUNNING TIME OF EACH ALGORITHM\n",
    "    errors = []\n",
    "    for matrix in matrixes\n",
    "        _inner_error_list = []\n",
    "        error = mean_squared_error(gauss_seidel_elimination(matrix[1],matrix[2],matrix[3])[1], gauss_seidel_elimination(matrix[1],matrix[2],matrix[3])[2])\n",
    "        append!(errors, error)\n",
    "    end\n",
    "    return errors\n",
    "end\n",
    "\n",
    "mse_gauss_seidel = get_mse_gauss_seidel(matrix_array)"
   ]
  },
  {
   "cell_type": "code",
   "execution_count": 347,
   "id": "62823df2",
   "metadata": {},
   "outputs": [
    {
     "name": "stdout",
     "output_type": "stream",
     "text": [
      "\n",
      "The Mean Squared Error (MSE) of the points was NaN"
     ]
    }
   ],
   "source": [
    "cauchy_matrix, x_vectors, cauchy_solution = toeplitz(15)\n",
    "unknown_vectors_calculated, real_solution = gauss_seidel_elimination(cauchy_matrix, x_vectors, cauchy_solution)\n",
    "gauss_error = mean_squared_error(unknown_vectors_calculated, real_solution)\n",
    "println(\"\")\n",
    "@printf \"The Mean Squared Error (MSE) of the points was %s\" gauss_error"
   ]
  },
  {
   "cell_type": "code",
   "execution_count": 337,
   "id": "86c77bee",
   "metadata": {},
   "outputs": [
    {
     "data": {
      "text/plain": [
       "20-element Vector{Float64}:\n",
       "   1.1093356479670479e-31\n",
       "   6.820359909723331e-32\n",
       "   7.917650392424997e-14\n",
       "   1.007687633408882e-28\n",
       "   7.149051953565419e-32\n",
       "   5.012553668591846e-32\n",
       "   2.2519808289671367e-14\n",
       "   6.721587950548783e-29\n",
       "   8.052955074131162e-32\n",
       "   5.505591734354978e-32\n",
       "   7.918070822895165e-14\n",
       "   9.542669589834467e-29\n",
       "   1.3368106298084047e-11\n",
       "   1.2151828563663118e-11\n",
       " 999.0\n",
       " 999.0\n",
       "   2.041698247288203e-13\n",
       "   1.5104756308808304e-13\n",
       " 999.0\n",
       " 999.0"
      ]
     },
     "execution_count": 337,
     "metadata": {},
     "output_type": "execute_result"
    }
   ],
   "source": [
    "error_array = [1.1093356479670479e-31,6.820359909723331e-32,7.917650392424997e-14,1.007687633408882e-28,\n",
    "               7.149051953565419e-32,5.012553668591846e-32,2.2519808289671367e-14,6.721587950548783e-29,\n",
    "               8.052955074131162e-32,5.505591734354978e-32,7.918070822895165e-14,9.542669589834467e-29,\n",
    "               1.3368106298084047e-11,1.2151828563663118e-11,999,999,\n",
    "               2.041698247288203e-13,1.5104756308808304e-13,999,999]"
   ]
  },
  {
   "cell_type": "code",
   "execution_count": 297,
   "id": "bc8402d4",
   "metadata": {},
   "outputs": [
    {
     "data": {
      "text/plain": [
       "20-element Vector{String}:\n",
       " \"Cauchy\"\n",
       " \"Hilbert\"\n",
       " \"Vandermonde\"\n",
       " \"Toeplitz\"\n",
       " \"Cauchy\"\n",
       " \"Hilbert\"\n",
       " \"Vandermonde\"\n",
       " \"Toeplitz\"\n",
       " \"Cauchy\"\n",
       " \"Hilbert\"\n",
       " \"Vandermonde\"\n",
       " \"Toeplitz\"\n",
       " \"Cauchy\"\n",
       " \"Hilbert\"\n",
       " \"Vandermonde\"\n",
       " \"Toeplitz\"\n",
       " \"Cauchy\"\n",
       " \"Hilbert\"\n",
       " \"Vandermonde\"\n",
       " \"Toeplitz\""
      ]
     },
     "execution_count": 297,
     "metadata": {},
     "output_type": "execute_result"
    }
   ],
   "source": [
    "names = [\"Eliminação Gaussiana\",\"Decomposição LU\",\"Eliminação de Gauss-Jordan\",\"Eliminação de Gauss-Jacobi\",\"Eliminação de Gauss-Seidel\"]\n",
    "\n",
    "process = []\n",
    "for name in names\n",
    "    l = repeat([name], 4)\n",
    "    append!(process, l)\n",
    "end\n",
    "\n",
    "matrixes_list = [\"Cauchy\",\"Hilbert\",\"Vandermonde\",\"Toeplitz\"]\n",
    "matrixes = repeat(matrixes_list, 5)"
   ]
  },
  {
   "cell_type": "code",
   "execution_count": 338,
   "id": "3c6d3a52",
   "metadata": {},
   "outputs": [
    {
     "data": {
      "text/html": [
       "<table class=\"data-frame\"><thead><tr><th></th><th>Processo</th><th>Matriz</th><th>Erros</th></tr><tr><th></th><th>Any</th><th>String</th><th>Float64</th></tr></thead><tbody><p>20 rows × 3 columns</p><tr><th>1</th><td>Eliminação Gaussiana</td><td>Cauchy</td><td>1.10934e-31</td></tr><tr><th>2</th><td>Eliminação Gaussiana</td><td>Hilbert</td><td>6.82036e-32</td></tr><tr><th>3</th><td>Eliminação Gaussiana</td><td>Vandermonde</td><td>7.91765e-14</td></tr><tr><th>4</th><td>Eliminação Gaussiana</td><td>Toeplitz</td><td>1.00769e-28</td></tr><tr><th>5</th><td>Decomposição LU</td><td>Cauchy</td><td>7.14905e-32</td></tr><tr><th>6</th><td>Decomposição LU</td><td>Hilbert</td><td>5.01255e-32</td></tr><tr><th>7</th><td>Decomposição LU</td><td>Vandermonde</td><td>2.25198e-14</td></tr><tr><th>8</th><td>Decomposição LU</td><td>Toeplitz</td><td>6.72159e-29</td></tr><tr><th>9</th><td>Eliminação de Gauss-Jordan</td><td>Cauchy</td><td>8.05296e-32</td></tr><tr><th>10</th><td>Eliminação de Gauss-Jordan</td><td>Hilbert</td><td>5.50559e-32</td></tr><tr><th>11</th><td>Eliminação de Gauss-Jordan</td><td>Vandermonde</td><td>7.91807e-14</td></tr><tr><th>12</th><td>Eliminação de Gauss-Jordan</td><td>Toeplitz</td><td>9.54267e-29</td></tr><tr><th>13</th><td>Eliminação de Gauss-Jacobi</td><td>Cauchy</td><td>1.33681e-11</td></tr><tr><th>14</th><td>Eliminação de Gauss-Jacobi</td><td>Hilbert</td><td>1.21518e-11</td></tr><tr><th>15</th><td>Eliminação de Gauss-Jacobi</td><td>Vandermonde</td><td>999.0</td></tr><tr><th>16</th><td>Eliminação de Gauss-Jacobi</td><td>Toeplitz</td><td>999.0</td></tr><tr><th>17</th><td>Eliminação de Gauss-Seidel</td><td>Cauchy</td><td>2.0417e-13</td></tr><tr><th>18</th><td>Eliminação de Gauss-Seidel</td><td>Hilbert</td><td>1.51048e-13</td></tr><tr><th>19</th><td>Eliminação de Gauss-Seidel</td><td>Vandermonde</td><td>999.0</td></tr><tr><th>20</th><td>Eliminação de Gauss-Seidel</td><td>Toeplitz</td><td>999.0</td></tr></tbody></table>"
      ],
      "text/latex": [
       "\\begin{tabular}{r|ccc}\n",
       "\t& Processo & Matriz & Erros\\\\\n",
       "\t\\hline\n",
       "\t& Any & String & Float64\\\\\n",
       "\t\\hline\n",
       "\t1 & Eliminação Gaussiana & Cauchy & 1.10934e-31 \\\\\n",
       "\t2 & Eliminação Gaussiana & Hilbert & 6.82036e-32 \\\\\n",
       "\t3 & Eliminação Gaussiana & Vandermonde & 7.91765e-14 \\\\\n",
       "\t4 & Eliminação Gaussiana & Toeplitz & 1.00769e-28 \\\\\n",
       "\t5 & Decomposição LU & Cauchy & 7.14905e-32 \\\\\n",
       "\t6 & Decomposição LU & Hilbert & 5.01255e-32 \\\\\n",
       "\t7 & Decomposição LU & Vandermonde & 2.25198e-14 \\\\\n",
       "\t8 & Decomposição LU & Toeplitz & 6.72159e-29 \\\\\n",
       "\t9 & Eliminação de Gauss-Jordan & Cauchy & 8.05296e-32 \\\\\n",
       "\t10 & Eliminação de Gauss-Jordan & Hilbert & 5.50559e-32 \\\\\n",
       "\t11 & Eliminação de Gauss-Jordan & Vandermonde & 7.91807e-14 \\\\\n",
       "\t12 & Eliminação de Gauss-Jordan & Toeplitz & 9.54267e-29 \\\\\n",
       "\t13 & Eliminação de Gauss-Jacobi & Cauchy & 1.33681e-11 \\\\\n",
       "\t14 & Eliminação de Gauss-Jacobi & Hilbert & 1.21518e-11 \\\\\n",
       "\t15 & Eliminação de Gauss-Jacobi & Vandermonde & 999.0 \\\\\n",
       "\t16 & Eliminação de Gauss-Jacobi & Toeplitz & 999.0 \\\\\n",
       "\t17 & Eliminação de Gauss-Seidel & Cauchy & 2.0417e-13 \\\\\n",
       "\t18 & Eliminação de Gauss-Seidel & Hilbert & 1.51048e-13 \\\\\n",
       "\t19 & Eliminação de Gauss-Seidel & Vandermonde & 999.0 \\\\\n",
       "\t20 & Eliminação de Gauss-Seidel & Toeplitz & 999.0 \\\\\n",
       "\\end{tabular}\n"
      ],
      "text/plain": [
       "\u001b[1m20×3 DataFrame\u001b[0m\n",
       "\u001b[1m Row \u001b[0m│\u001b[1m Processo                   \u001b[0m\u001b[1m Matriz      \u001b[0m\u001b[1m Erros         \u001b[0m\n",
       "\u001b[1m     \u001b[0m│\u001b[90m Any                        \u001b[0m\u001b[90m String      \u001b[0m\u001b[90m Float64       \u001b[0m\n",
       "─────┼────────────────────────────────────────────────────────\n",
       "   1 │ Eliminação Gaussiana        Cauchy         1.10934e-31\n",
       "   2 │ Eliminação Gaussiana        Hilbert        6.82036e-32\n",
       "   3 │ Eliminação Gaussiana        Vandermonde    7.91765e-14\n",
       "   4 │ Eliminação Gaussiana        Toeplitz       1.00769e-28\n",
       "   5 │ Decomposição LU             Cauchy         7.14905e-32\n",
       "   6 │ Decomposição LU             Hilbert        5.01255e-32\n",
       "   7 │ Decomposição LU             Vandermonde    2.25198e-14\n",
       "   8 │ Decomposição LU             Toeplitz       6.72159e-29\n",
       "   9 │ Eliminação de Gauss-Jordan  Cauchy         8.05296e-32\n",
       "  10 │ Eliminação de Gauss-Jordan  Hilbert        5.50559e-32\n",
       "  11 │ Eliminação de Gauss-Jordan  Vandermonde    7.91807e-14\n",
       "  12 │ Eliminação de Gauss-Jordan  Toeplitz       9.54267e-29\n",
       "  13 │ Eliminação de Gauss-Jacobi  Cauchy         1.33681e-11\n",
       "  14 │ Eliminação de Gauss-Jacobi  Hilbert        1.21518e-11\n",
       "  15 │ Eliminação de Gauss-Jacobi  Vandermonde  999.0\n",
       "  16 │ Eliminação de Gauss-Jacobi  Toeplitz     999.0\n",
       "  17 │ Eliminação de Gauss-Seidel  Cauchy         2.0417e-13\n",
       "  18 │ Eliminação de Gauss-Seidel  Hilbert        1.51048e-13\n",
       "  19 │ Eliminação de Gauss-Seidel  Vandermonde  999.0\n",
       "  20 │ Eliminação de Gauss-Seidel  Toeplitz     999.0"
      ]
     },
     "execution_count": 338,
     "metadata": {},
     "output_type": "execute_result"
    }
   ],
   "source": [
    "df = DataFrame()\n",
    "df.Processo = process\n",
    "df.Matriz = matrixes\n",
    "df.Erros = error_array\n",
    "\n",
    "df"
   ]
  },
  {
   "cell_type": "code",
   "execution_count": null,
   "id": "f0f256e4",
   "metadata": {},
   "outputs": [],
   "source": [
    "XLSX.writetable(\"df.xlsx\", collect(DataFrames.eachcol(df)), DataFrames.names(df))"
   ]
  }
 ],
 "metadata": {
  "kernelspec": {
   "display_name": "Julia 1.6.0",
   "language": "julia",
   "name": "julia-1.6"
  },
  "language_info": {
   "file_extension": ".jl",
   "mimetype": "application/julia",
   "name": "julia",
   "version": "1.6.0"
  }
 },
 "nbformat": 4,
 "nbformat_minor": 5
}
